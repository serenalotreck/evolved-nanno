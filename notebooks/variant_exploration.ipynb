{
 "cells": [
  {
   "cell_type": "markdown",
   "id": "e36f8907-d88c-4af0-ba62-159f64762105",
   "metadata": {},
   "source": [
    "# Variant exploration\n",
    "We've used the `nf-core/sarek` pipeline to call variants in our samples; now let's explore the data we have!"
   ]
  },
  {
   "cell_type": "code",
   "execution_count": 1,
   "id": "b999f12c-2d58-4bc6-9ace-27e20bc7aeb1",
   "metadata": {},
   "outputs": [],
   "source": [
    "from pysam import VariantFile\n",
    "from collections import defaultdict\n",
    "import numpy as np\n",
    "import matplotlib.pyplot as plt\n",
    "import pandas as pd"
   ]
  },
  {
   "cell_type": "markdown",
   "id": "a40c69b7-151f-4c02-8ae0-2784fd57542e",
   "metadata": {},
   "source": [
    "## Read in the data\n",
    "`0M_R1` was grown without EMS in 10/10\n",
    "\n",
    "`0_1M_R1` was treated with EMS in 10/10"
   ]
  },
  {
   "cell_type": "code",
   "execution_count": 2,
   "id": "1eee9263-65be-4224-ae8f-dcad2c4c4d43",
   "metadata": {},
   "outputs": [],
   "source": [
    "vcf_0M_R1 = VariantFile('../data/nanno_sarek/variant_calling/strelka/0M_R1_vs_537_control_R2/0M_R1_vs_537_control_R2.strelka.somatic_snvs.vcf.gz') \n",
    "vcf_0_1M_R2 = VariantFile('../data/nanno_sarek/variant_calling/strelka/0_1M_R2_vs_537_control_R2/0_1M_R2_vs_537_control_R2.strelka.somatic_snvs.vcf.gz') "
   ]
  },
  {
   "cell_type": "code",
   "execution_count": 3,
   "id": "314a48f3-b8e9-4a27-87a3-496473882c79",
   "metadata": {},
   "outputs": [],
   "source": [
    "all_variants_0M_R1 = vcf_0M_R1.fetch()\n",
    "all_variants_0_1M_R2 = vcf_0_1M_R2.fetch()"
   ]
  },
  {
   "cell_type": "markdown",
   "id": "cffb24b7-ab88-4229-aee9-0098b9d53f4c",
   "metadata": {},
   "source": [
    "## Filtering by support\n",
    "As mentioned in [this video](https://youtu.be/zO9WCOaq3aQ?si=GZD3t4__wenFgTxh&t=665), variants that only appear in a few reads are more likely to be sequencing errors than true variants. Therefore, we want to filter our variants. While Strelka2 doesn't provide a score in the `QUAL` column of the `vcf` file, it does provide a `PASS` value based on the Empirical Variant Scoring model (see [Supplementary Note 1](https://static-content.springer.com/esm/art%3A10.1038%2Fs41592-018-0051-x/MediaObjects/41592_2018_51_MOESM1_ESM.pdf)) if the variant is good quality, or `LowEVS` or `LowDepth` if it's not a good variant."
   ]
  },
  {
   "cell_type": "code",
   "execution_count": 4,
   "id": "ac15254e-ea75-49cd-8762-26fac5b8bf6c",
   "metadata": {},
   "outputs": [
    {
     "name": "stdout",
     "output_type": "stream",
     "text": [
      "For sample 0M_R1, 51 of 41470 variants passed, which is 0.12%.\n",
      "For sample 0_1M_R2, 556 of 46391 variants passed, which is 1.20%.\n"
     ]
    }
   ],
   "source": [
    "all_alts = {}\n",
    "all_conversions = {}\n",
    "all_passed = {}\n",
    "for sample, variants in {'0M_R1': all_variants_0M_R1, '0_1M_R2': all_variants_0_1M_R2}.items():\n",
    "    passed = []\n",
    "    alts = defaultdict(int)\n",
    "    conversions = defaultdict(int)\n",
    "    total = 0\n",
    "    for variant in variants:\n",
    "        if variant.filter.keys()[0] == 'PASS':\n",
    "            # print(variant.chrom, variant.pos, variant.ref, \">\", variant.alts[0], variant.qual, variant.filter.values()[0].name)\n",
    "            passed.append(variant)\n",
    "            alts[variant.alts[0]] += 1\n",
    "            conversions[f'{variant.ref} > {variant.alts[0]}'] += 1\n",
    "        total += 1\n",
    "    print(f'For sample {sample}, {len(passed)} of {total} variants passed, which is {(len(passed)/total)*100:.2f}%.')\n",
    "    all_alts[sample] = alts\n",
    "    all_conversions[sample] = conversions\n",
    "    all_passed[sample] = passed"
   ]
  },
  {
   "cell_type": "markdown",
   "id": "4f67da33-61a6-479f-8832-782f8ead0962",
   "metadata": {},
   "source": [
    "That's great! It substantially narrows down our analysis. Let's save out the filtered subset to look at in IGV:"
   ]
  },
  {
   "cell_type": "code",
   "execution_count": 5,
   "id": "ba5e4afa-b325-4f1a-adff-95b89e7b77b3",
   "metadata": {},
   "outputs": [],
   "source": [
    "# Adapted from the Gemini suggested answer\n",
    "for sample in ['0M_R1', '0_1M_R2']:\n",
    "    with VariantFile(f'../data/nanno_sarek/variant_calling/strelka/{sample}_vs_537_control_R2/{sample}_vs_537_control_R2.strelka.somatic_snvs.vcf.gz') as vcf_in, \\\n",
    "         VariantFile(f'../data/nanno_sarek/variant_calling/strelka/{sample}_vs_537_control_R2/{sample}_vs_537_control_R2_FILTERED.strelka.somatic_snvs.vcf.gz', 'w', header=vcf_in.header) as vcf_out:\n",
    "    \n",
    "        for record in vcf_in:\n",
    "            if 'PASS' in record.filter.keys():\n",
    "                vcf_out.write(record)"
   ]
  },
  {
   "cell_type": "markdown",
   "id": "cbb877d0-ddf5-4c04-b54c-110d91d052ab",
   "metadata": {},
   "source": [
    "## Digging into SNVs\n",
    "Let's take a look at the landscape of variants quantitatively, beyond just looking at the viewer. First, let's look at the rates of the different transitions (which I'll calculate here as just the fraction of times the transition occurred of the variants that passed the screening -- I think this is different than the calculations done in the Arabidopsis paper linked below). Does this match with published expectations of the rates of these transitions?\n",
    "\n",
    "We'll pair together transitions that are complements of one another, as was done in [Ossowski et al, 2014, Table 2](https://pmc.ncbi.nlm.nih.gov/articles/PMC3878865/table/T2/):\n",
    "```\n",
    "A:T→G:C\n",
    "C:G→T:A\n",
    "A:T→T:A\n",
    "C:G→A:T\n",
    "A:T→C:G\n",
    "C:G→G:C\n",
    "```"
   ]
  },
  {
   "cell_type": "code",
   "execution_count": 6,
   "id": "621da2aa-9d9d-4dbc-a4ea-8f251a3b4c98",
   "metadata": {},
   "outputs": [],
   "source": [
    "conversion_pairs = {\n",
    "    'A:T→G:C': ['A > G', 'T > C'],\n",
    "    'C:G→T:A': ['C > T', 'G > A'],\n",
    "    'A:T→T:A': ['A > T', 'T > A'],\n",
    "    'C:G→A:T': ['C > A', 'G > T'],\n",
    "    'A:T→C:G': ['A > C', 'T > G'],\n",
    "    'C:G→G:C': ['C > G', 'G > C']\n",
    "}"
   ]
  },
  {
   "cell_type": "code",
   "execution_count": 7,
   "id": "4780449a-7d22-43ab-9f3d-e908c695f1a8",
   "metadata": {},
   "outputs": [],
   "source": [
    "conversion_probs = defaultdict(dict)\n",
    "for sample, conversions in all_conversions.items():\n",
    "    for name, pair in conversion_pairs.items():\n",
    "        pair_total = conversions[pair[0]] + conversions[pair[1]]\n",
    "        conversion_probs[sample][name] = pair_total/len(all_passed[sample])"
   ]
  },
  {
   "cell_type": "code",
   "execution_count": 8,
   "id": "07c4583f-833b-410b-9044-e4e6082ae789",
   "metadata": {},
   "outputs": [],
   "source": [
    "# Need tow rangle for stacked bars\n",
    "conversions_to_plot = {pair: np.array([v[pair] for v in conversion_probs.values()]) for pair in conversion_pairs.keys()}"
   ]
  },
  {
   "cell_type": "code",
   "execution_count": 9,
   "id": "e09485e4-7e8f-4152-816c-3e4064d9e0f1",
   "metadata": {},
   "outputs": [
    {
     "data": {
      "text/plain": [
       "{'A:T→G:C': array([0.23529412, 0.03956835]),\n",
       " 'C:G→T:A': array([0.09803922, 0.86330935]),\n",
       " 'A:T→T:A': array([0.07843137, 0.02517986]),\n",
       " 'C:G→A:T': array([0.19607843, 0.02697842]),\n",
       " 'A:T→C:G': array([0.21568627, 0.02158273]),\n",
       " 'C:G→G:C': array([0.17647059, 0.02338129])}"
      ]
     },
     "execution_count": 9,
     "metadata": {},
     "output_type": "execute_result"
    }
   ],
   "source": [
    "conversions_to_plot"
   ]
  },
  {
   "cell_type": "code",
   "execution_count": 10,
   "id": "964b97ba-d18c-4d44-ae6d-02786eefca79",
   "metadata": {},
   "outputs": [
    {
     "data": {
      "image/png": "[encoded data removed]",
      "text/plain": [
       "<Figure size 640x480 with 1 Axes>"
      ]
     },
     "metadata": {},
     "output_type": "display_data"
    }
   ],
   "source": [
    "fig, ax = plt.subplots()\n",
    "\n",
    "width = 0.25\n",
    "bottom = np.zeros(2)\n",
    "\n",
    "for name, probs in conversions_to_plot.items():\n",
    "    ax.bar(conversion_probs.keys(), probs, width, bottom=bottom, label=f'{name}')\n",
    "    bottom += probs\n",
    "\n",
    "ax.set_ylabel('Transition Rate')\n",
    "ax.legend(loc='center')\n",
    "\n",
    "plt.show()"
   ]
  },
  {
   "cell_type": "markdown",
   "id": "d8749be8-1c43-45d9-b784-a0b8fea982bd",
   "metadata": {},
   "source": [
    "This is quite cool -- EMS is [known to induce mainly C:G→T:A mutations](https://www.frontiersin.org/journals/plant-science/articles/10.3389/fpls.2022.1052569/full), and we see an enormous rate increase of that kind of mutation in the EMS sample vs. the one that was allowed to evolve on its own."
   ]
  },
  {
   "cell_type": "markdown",
   "id": "bffb0454-d407-4b8d-a248-22ef61c5cf83",
   "metadata": {},
   "source": [
    "## Indels\n",
    "Thus far we've only looked at the SNVs in our data; what about the indels?"
   ]
  },
  {
   "cell_type": "code",
   "execution_count": 2,
   "id": "c16563fe-7eef-479d-bb90-970c97d7c31e",
   "metadata": {},
   "outputs": [],
   "source": [
    "vcf_0M_R1_indels = VariantFile('../data/nanno_sarek/variant_calling/strelka/0M_R1_vs_537_control_R2/0M_R1_vs_537_control_R2.strelka.somatic_indels.vcf.gz') \n",
    "vcf_0_1M_R2_indels = VariantFile('../data/nanno_sarek/variant_calling/strelka/0_1M_R2_vs_537_control_R2/0_1M_R2_vs_537_control_R2.strelka.somatic_indels.vcf.gz') "
   ]
  },
  {
   "cell_type": "code",
   "execution_count": 3,
   "id": "50354f3d-afb7-4cef-9525-410e06a76390",
   "metadata": {},
   "outputs": [],
   "source": [
    "indels_variants_0M_R1 = vcf_0M_R1_indels.fetch()\n",
    "indels_variants_0_1M_R2 = vcf_0_1M_R2_indels.fetch()"
   ]
  },
  {
   "cell_type": "code",
   "execution_count": 4,
   "id": "e0803db4-dee0-4a5a-98eb-cae15421321a",
   "metadata": {},
   "outputs": [
    {
     "name": "stdout",
     "output_type": "stream",
     "text": [
      "Indel variants for sample 0M_R1:\n",
      "-------------------------------------------\n",
      "scf_2 453749 AC > A None PASS\n",
      "scf_9 1044578 C > CAATA None PASS\n",
      "scf_11 803969 T > TCGACGG None PASS\n",
      "scf_14 38344 CA > C None PASS\n",
      "scf_17 66764 C > CCCTT None PASS\n",
      "scf_19 567213 A > AAT None PASS\n",
      "scf_19 572560 CT > C None PASS\n",
      "scf_21 107074 CCT > C None PASS\n",
      "scf_21 196997 GTGTTCA > G None PASS\n",
      "scf_21 197209 GT > G None PASS\n",
      "scf_21 197734 GC > G None PASS\n",
      "scf_29 211683 C > CAT None PASS\n",
      "scf_35 48363 GTA > G None PASS\n",
      "scf_36 103574 TC > T None PASS\n",
      "\n",
      "For sample 0M_R1, 14 of 422 variants passed, which is 3.32%.\n",
      "\n",
      "Indel variants for sample 0_1M_R2:\n",
      "-------------------------------------------\n",
      "scf_6 712028 GCGC > G None PASS\n",
      "scf_14 627792 C > CCCCTCTCT None PASS\n",
      "scf_16 149718 A > AAT None PASS\n",
      "scf_19 707589 T > TC None PASS\n",
      "scf_20 158358 A > AG None PASS\n",
      "scf_24 819444 TG > T None PASS\n",
      "scf_24 1002851 TCTGGAA > T None PASS\n",
      "scf_29 211683 CAT > C None PASS\n",
      "scf_32 550041 C > CG None PASS\n",
      "\n",
      "For sample 0_1M_R2, 9 of 428 variants passed, which is 2.10%.\n",
      "\n"
     ]
    }
   ],
   "source": [
    "for sample, variants in {'0M_R1': indels_variants_0M_R1, '0_1M_R2': indels_variants_0_1M_R2}.items():\n",
    "    print(f'Indel variants for sample {sample}:')\n",
    "    print('-------------------------------------------')\n",
    "    passed = []\n",
    "    total = 0\n",
    "    for variant in variants:\n",
    "        if variant.filter.keys()[0] == 'PASS':\n",
    "            print(variant.chrom, variant.pos, variant.ref, \">\", variant.alts[0], variant.qual, variant.filter.values()[0].name)\n",
    "            passed.append(variant)\n",
    "        total += 1\n",
    "    print(f'\\nFor sample {sample}, {len(passed)} of {total} variants passed, which is {(len(passed)/total)*100:.2f}%.\\n')"
   ]
  },
  {
   "cell_type": "markdown",
   "id": "e29ae82c-7f03-4529-ae10-c7be319bb38f",
   "metadata": {},
   "source": [
    "There are way fewer indel mutants than point mutations, and a similar number between the normal and EMS mutants, which makes sense, as EMS induces point mutations. Write them out:"
   ]
  },
  {
   "cell_type": "code",
   "execution_count": 5,
   "id": "dee6db9e-06ca-4d24-a3e9-8e66d7e4568e",
   "metadata": {},
   "outputs": [],
   "source": [
    "# Adapted from the Gemini suggested answer\n",
    "for sample in ['0M_R1', '0_1M_R2']:\n",
    "    with VariantFile(f'../data/nanno_sarek/variant_calling/strelka/{sample}_vs_537_control_R2/{sample}_vs_537_control_R2.strelka.somatic_indels.vcf.gz') as vcf_in, \\\n",
    "         VariantFile(f'../data/nanno_sarek/variant_calling/strelka/{sample}_vs_537_control_R2/{sample}_vs_537_control_R2_FILTERED.strelka.somatic_indels.vcf.gz', 'w', header=vcf_in.header) as vcf_out:\n",
    "    \n",
    "        for record in vcf_in:\n",
    "            if 'PASS' in record.filter.keys():\n",
    "                vcf_out.write(record)"
   ]
  },
  {
   "cell_type": "markdown",
   "id": "145d648b-87ce-489c-943a-3e2e58d68dbd",
   "metadata": {},
   "source": [
    "## Investigating mutations\n",
    "We now want to narrow in on what genes these mutations may be impacting. Ideally, we want to see what genes are affected by the SNPs and indels. A useful tool for this is the [BEDtools](https://bedtools.readthedocs.io/en/latest/) module; specifically, we can [get the intersection of a SNP file with a genome annotation](https://www.biostars.org/p/379113/#379121). The bulk of this work will take place on the command line.\n",
    "\n",
    "First, we need to convert the `gff3` annotation file to a `gtf` file with `gffread`. From within the `data/genome` directory:\n",
    "\n",
    "```\n",
    "gffread n_salina.working_models.gff3 -T -o n_salina.working_models.gtf\n",
    "```\n",
    "(Note: I provided the full path to where I'd cloned `gffread` rather than adding to `PATH`)\n",
    "\n",
    "Next, use BEDtools to get the intersections. I'm going to start with the non-EMS sample SNV's to get a handle on how the results will look:\n",
    "```\n",
    "bedtools intersect -wa -wb -a ../nanno_sarek/variant_calling/strelka/0M_R1_vs_537_control_R2/0M_R1_vs_537_control_R2_FILTERED.strelka.somatic_snvs.vcf.gz -b n_salina.working_models.gtf > ../nanno_sarek/variant_calling/strelka/0M_R1_vs_537_control_R2/0M_R1_vs_537_control_R2_FILTERED_SNVs_overlap_with_annotations.txt\n",
    "```"
   ]
  },
  {
   "cell_type": "code",
   "execution_count": 14,
   "id": "2916c402-c2b0-4452-bcb2-51e045cde303",
   "metadata": {},
   "outputs": [
    {
     "data": {
      "text/html": [
       "<div>\n",
       "<style scoped>\n",
       "    .dataframe tbody tr th:only-of-type {\n",
       "        vertical-align: middle;\n",
       "    }\n",
       "\n",
       "    .dataframe tbody tr th {\n",
       "        vertical-align: top;\n",
       "    }\n",
       "\n",
       "    .dataframe thead th {\n",
       "        text-align: right;\n",
       "    }\n",
       "</style>\n",
       "<table border=\"1\" class=\"dataframe\">\n",
       "  <thead>\n",
       "    <tr style=\"text-align: right;\">\n",
       "      <th></th>\n",
       "      <th>0</th>\n",
       "      <th>1</th>\n",
       "      <th>2</th>\n",
       "      <th>3</th>\n",
       "      <th>4</th>\n",
       "      <th>5</th>\n",
       "      <th>6</th>\n",
       "      <th>7</th>\n",
       "      <th>8</th>\n",
       "      <th>9</th>\n",
       "      <th>10</th>\n",
       "      <th>11</th>\n",
       "      <th>12</th>\n",
       "      <th>13</th>\n",
       "      <th>14</th>\n",
       "      <th>15</th>\n",
       "      <th>16</th>\n",
       "      <th>17</th>\n",
       "      <th>18</th>\n",
       "      <th>19</th>\n",
       "    </tr>\n",
       "  </thead>\n",
       "  <tbody>\n",
       "    <tr>\n",
       "      <th>0</th>\n",
       "      <td>scf_1</td>\n",
       "      <td>167764</td>\n",
       "      <td>.</td>\n",
       "      <td>T</td>\n",
       "      <td>G</td>\n",
       "      <td>.</td>\n",
       "      <td>PASS</td>\n",
       "      <td>SOMATIC;QSS=48;TQSS=1;NT=ref;QSS_NT=48;TQSS_NT...</td>\n",
       "      <td>DP:FDP:SDP:SUBDP:AU:CU:GU:TU</td>\n",
       "      <td>163:0:0:0:3,3:4,4:3,3:153,154</td>\n",
       "      <td>200:2:0:0:4,5:8,8:9,9:177,178</td>\n",
       "      <td>scf_1</td>\n",
       "      <td>MSU_v1</td>\n",
       "      <td>transcript</td>\n",
       "      <td>167216</td>\n",
       "      <td>168580</td>\n",
       "      <td>.</td>\n",
       "      <td>-</td>\n",
       "      <td>.</td>\n",
       "      <td>transcript_id \"N_sal.S000450.1\"; gene_id \"N_sa...</td>\n",
       "    </tr>\n",
       "    <tr>\n",
       "      <th>1</th>\n",
       "      <td>scf_1</td>\n",
       "      <td>167764</td>\n",
       "      <td>.</td>\n",
       "      <td>T</td>\n",
       "      <td>G</td>\n",
       "      <td>.</td>\n",
       "      <td>PASS</td>\n",
       "      <td>SOMATIC;QSS=48;TQSS=1;NT=ref;QSS_NT=48;TQSS_NT...</td>\n",
       "      <td>DP:FDP:SDP:SUBDP:AU:CU:GU:TU</td>\n",
       "      <td>163:0:0:0:3,3:4,4:3,3:153,154</td>\n",
       "      <td>200:2:0:0:4,5:8,8:9,9:177,178</td>\n",
       "      <td>scf_1</td>\n",
       "      <td>MSU_v1</td>\n",
       "      <td>exon</td>\n",
       "      <td>167216</td>\n",
       "      <td>168580</td>\n",
       "      <td>.</td>\n",
       "      <td>-</td>\n",
       "      <td>.</td>\n",
       "      <td>transcript_id \"N_sal.S000450.1\"; gene_id \"N_sa...</td>\n",
       "    </tr>\n",
       "    <tr>\n",
       "      <th>2</th>\n",
       "      <td>scf_1</td>\n",
       "      <td>167764</td>\n",
       "      <td>.</td>\n",
       "      <td>T</td>\n",
       "      <td>G</td>\n",
       "      <td>.</td>\n",
       "      <td>PASS</td>\n",
       "      <td>SOMATIC;QSS=48;TQSS=1;NT=ref;QSS_NT=48;TQSS_NT...</td>\n",
       "      <td>DP:FDP:SDP:SUBDP:AU:CU:GU:TU</td>\n",
       "      <td>163:0:0:0:3,3:4,4:3,3:153,154</td>\n",
       "      <td>200:2:0:0:4,5:8,8:9,9:177,178</td>\n",
       "      <td>scf_1</td>\n",
       "      <td>MSU_v1</td>\n",
       "      <td>CDS</td>\n",
       "      <td>167216</td>\n",
       "      <td>168580</td>\n",
       "      <td>.</td>\n",
       "      <td>-</td>\n",
       "      <td>0</td>\n",
       "      <td>transcript_id \"N_sal.S000450.1\"; gene_id \"N_sa...</td>\n",
       "    </tr>\n",
       "    <tr>\n",
       "      <th>3</th>\n",
       "      <td>scf_1</td>\n",
       "      <td>860759</td>\n",
       "      <td>.</td>\n",
       "      <td>C</td>\n",
       "      <td>A</td>\n",
       "      <td>.</td>\n",
       "      <td>PASS</td>\n",
       "      <td>SOMATIC;QSS=91;TQSS=1;NT=ref;QSS_NT=91;TQSS_NT...</td>\n",
       "      <td>DP:FDP:SDP:SUBDP:AU:CU:GU:TU</td>\n",
       "      <td>150:0:0:0:3,3:147,148:0,0:0,0</td>\n",
       "      <td>231:1:0:0:52,53:178,181:0,0:0,0</td>\n",
       "      <td>scf_1</td>\n",
       "      <td>MSU_v1</td>\n",
       "      <td>transcript</td>\n",
       "      <td>860486</td>\n",
       "      <td>862164</td>\n",
       "      <td>.</td>\n",
       "      <td>+</td>\n",
       "      <td>.</td>\n",
       "      <td>transcript_id \"N_sal.S002930.1\"; gene_id \"N_sa...</td>\n",
       "    </tr>\n",
       "    <tr>\n",
       "      <th>4</th>\n",
       "      <td>scf_1</td>\n",
       "      <td>947966</td>\n",
       "      <td>.</td>\n",
       "      <td>G</td>\n",
       "      <td>C</td>\n",
       "      <td>.</td>\n",
       "      <td>PASS</td>\n",
       "      <td>SOMATIC;QSS=62;TQSS=1;NT=ref;QSS_NT=62;TQSS_NT...</td>\n",
       "      <td>DP:FDP:SDP:SUBDP:AU:CU:GU:TU</td>\n",
       "      <td>131:1:0:0:1,1:1,1:128,130:0,0</td>\n",
       "      <td>154:1:0:0:1,2:14,14:135,137:3,3</td>\n",
       "      <td>scf_1</td>\n",
       "      <td>MSU_v1</td>\n",
       "      <td>transcript</td>\n",
       "      <td>945949</td>\n",
       "      <td>952185</td>\n",
       "      <td>.</td>\n",
       "      <td>-</td>\n",
       "      <td>.</td>\n",
       "      <td>transcript_id \"N_sal.S003280.1\"; gene_id \"N_sa...</td>\n",
       "    </tr>\n",
       "  </tbody>\n",
       "</table>\n",
       "</div>"
      ],
      "text/plain": [
       "      0       1  2  3  4  5     6   \\\n",
       "0  scf_1  167764  .  T  G  .  PASS   \n",
       "1  scf_1  167764  .  T  G  .  PASS   \n",
       "2  scf_1  167764  .  T  G  .  PASS   \n",
       "3  scf_1  860759  .  C  A  .  PASS   \n",
       "4  scf_1  947966  .  G  C  .  PASS   \n",
       "\n",
       "                                                  7   \\\n",
       "0  SOMATIC;QSS=48;TQSS=1;NT=ref;QSS_NT=48;TQSS_NT...   \n",
       "1  SOMATIC;QSS=48;TQSS=1;NT=ref;QSS_NT=48;TQSS_NT...   \n",
       "2  SOMATIC;QSS=48;TQSS=1;NT=ref;QSS_NT=48;TQSS_NT...   \n",
       "3  SOMATIC;QSS=91;TQSS=1;NT=ref;QSS_NT=91;TQSS_NT...   \n",
       "4  SOMATIC;QSS=62;TQSS=1;NT=ref;QSS_NT=62;TQSS_NT...   \n",
       "\n",
       "                             8                              9   \\\n",
       "0  DP:FDP:SDP:SUBDP:AU:CU:GU:TU  163:0:0:0:3,3:4,4:3,3:153,154   \n",
       "1  DP:FDP:SDP:SUBDP:AU:CU:GU:TU  163:0:0:0:3,3:4,4:3,3:153,154   \n",
       "2  DP:FDP:SDP:SUBDP:AU:CU:GU:TU  163:0:0:0:3,3:4,4:3,3:153,154   \n",
       "3  DP:FDP:SDP:SUBDP:AU:CU:GU:TU  150:0:0:0:3,3:147,148:0,0:0,0   \n",
       "4  DP:FDP:SDP:SUBDP:AU:CU:GU:TU  131:1:0:0:1,1:1,1:128,130:0,0   \n",
       "\n",
       "                                10     11      12          13      14      15  \\\n",
       "0    200:2:0:0:4,5:8,8:9,9:177,178  scf_1  MSU_v1  transcript  167216  168580   \n",
       "1    200:2:0:0:4,5:8,8:9,9:177,178  scf_1  MSU_v1        exon  167216  168580   \n",
       "2    200:2:0:0:4,5:8,8:9,9:177,178  scf_1  MSU_v1         CDS  167216  168580   \n",
       "3  231:1:0:0:52,53:178,181:0,0:0,0  scf_1  MSU_v1  transcript  860486  862164   \n",
       "4  154:1:0:0:1,2:14,14:135,137:3,3  scf_1  MSU_v1  transcript  945949  952185   \n",
       "\n",
       "  16 17 18                                                 19  \n",
       "0  .  -  .  transcript_id \"N_sal.S000450.1\"; gene_id \"N_sa...  \n",
       "1  .  -  .  transcript_id \"N_sal.S000450.1\"; gene_id \"N_sa...  \n",
       "2  .  -  0  transcript_id \"N_sal.S000450.1\"; gene_id \"N_sa...  \n",
       "3  .  +  .  transcript_id \"N_sal.S002930.1\"; gene_id \"N_sa...  \n",
       "4  .  -  .  transcript_id \"N_sal.S003280.1\"; gene_id \"N_sa...  "
      ]
     },
     "execution_count": 14,
     "metadata": {},
     "output_type": "execute_result"
    }
   ],
   "source": [
    "gene_intersects_0M_R1 = pd.read_csv('../data/nanno_sarek/variant_calling/strelka/0M_R1_vs_537_control_R2/0M_R1_vs_537_control_R2_FILTERED_SNVs_overlap_with_annotations.txt', sep='\\t', header=None)\n",
    "gene_intersects_0M_R1.head()"
   ]
  },
  {
   "cell_type": "markdown",
   "id": "74835696-9658-4acb-8f23-501a51df6479",
   "metadata": {},
   "source": [
    "Columns 0-10 are the SNVs data, while 11-19 are from the genome annotation. What we really want is the gene name from the last column for each SNV:"
   ]
  },
  {
   "cell_type": "code",
   "execution_count": 15,
   "id": "e0d521a1-b23e-4e4f-9526-a39bc88d8b4d",
   "metadata": {},
   "outputs": [],
   "source": [
    "gene_intersects_0M_R1['gene_name'] = gene_intersects_0M_R1[19].str.split('\"').str[1]"
   ]
  },
  {
   "cell_type": "markdown",
   "id": "fd086b2f-90f0-40fe-a431-035af788d7ff",
   "metadata": {},
   "source": [
    "For now, we'll only keep the CDS objects:"
   ]
  },
  {
   "cell_type": "code",
   "execution_count": 16,
   "id": "68802761-6b2d-429a-ac72-b1a787d98d12",
   "metadata": {},
   "outputs": [],
   "source": [
    "gene_intersects_0M_R1 = gene_intersects_0M_R1[gene_intersects_0M_R1[13] == 'CDS'].reset_index(drop=True)"
   ]
  },
  {
   "cell_type": "markdown",
   "id": "73bb953a-45be-4cac-a896-798c848f8266",
   "metadata": {},
   "source": [
    "How many SNV-affected genes do we have in the non-EMS mutant?"
   ]
  },
  {
   "cell_type": "code",
   "execution_count": 17,
   "id": "b4806472-afbc-44a3-b75c-ecacf71b8e78",
   "metadata": {},
   "outputs": [
    {
     "data": {
      "text/plain": [
       "40"
      ]
     },
     "execution_count": 17,
     "metadata": {},
     "output_type": "execute_result"
    }
   ],
   "source": [
    "gene_intersects_0M_R1.groupby(by='gene_name').count().shape[0]"
   ]
  },
  {
   "cell_type": "markdown",
   "id": "6c3d925e-a98a-4463-88f0-592553716005",
   "metadata": {},
   "source": [
    "Only 40! Now let's see how many of those genes overlap with SNV-affected genes in the EMS mutant; we'll do the command line step for BEDtools intersect again with that file:\n",
    "\n",
    "```\n",
    "bedtools intersect -wa -wb -a ../nanno_sarek/variant_calling/strelka/0_1M_R2_vs_537_control_R2/0_1M_R2_vs_537_control_R2_FILTERED.strelka.somatic_snvs.vcf.gz -b n_salina.working_models.gtf > ../nanno_sarek/variant_calling/strelka/0_1M_R2_vs_537_control_R2/0_1M_R2_vs_537_control_R2_FILTERED_SNVs_overlap_with_annotations.txt\n",
    "```"
   ]
  },
  {
   "cell_type": "code",
   "execution_count": 18,
   "id": "59ac6156-6320-4daf-b27c-41e06845360c",
   "metadata": {},
   "outputs": [
    {
     "data": {
      "text/html": [
       "<div>\n",
       "<style scoped>\n",
       "    .dataframe tbody tr th:only-of-type {\n",
       "        vertical-align: middle;\n",
       "    }\n",
       "\n",
       "    .dataframe tbody tr th {\n",
       "        vertical-align: top;\n",
       "    }\n",
       "\n",
       "    .dataframe thead th {\n",
       "        text-align: right;\n",
       "    }\n",
       "</style>\n",
       "<table border=\"1\" class=\"dataframe\">\n",
       "  <thead>\n",
       "    <tr style=\"text-align: right;\">\n",
       "      <th></th>\n",
       "      <th>0</th>\n",
       "      <th>1</th>\n",
       "      <th>2</th>\n",
       "      <th>3</th>\n",
       "      <th>4</th>\n",
       "      <th>5</th>\n",
       "      <th>6</th>\n",
       "      <th>7</th>\n",
       "      <th>8</th>\n",
       "      <th>9</th>\n",
       "      <th>10</th>\n",
       "      <th>11</th>\n",
       "      <th>12</th>\n",
       "      <th>13</th>\n",
       "      <th>14</th>\n",
       "      <th>15</th>\n",
       "      <th>16</th>\n",
       "      <th>17</th>\n",
       "      <th>18</th>\n",
       "      <th>19</th>\n",
       "    </tr>\n",
       "  </thead>\n",
       "  <tbody>\n",
       "    <tr>\n",
       "      <th>0</th>\n",
       "      <td>scf_1</td>\n",
       "      <td>101592</td>\n",
       "      <td>.</td>\n",
       "      <td>C</td>\n",
       "      <td>T</td>\n",
       "      <td>.</td>\n",
       "      <td>PASS</td>\n",
       "      <td>SOMATIC;QSS=97;TQSS=2;NT=ref;QSS_NT=97;TQSS_NT...</td>\n",
       "      <td>DP:FDP:SDP:SUBDP:AU:CU:GU:TU</td>\n",
       "      <td>111:4:0:0:0,0:107,115:0,2:0,0</td>\n",
       "      <td>151:8:0:0:0,1:125,137:0,2:18,18</td>\n",
       "      <td>scf_1</td>\n",
       "      <td>MSU_v1</td>\n",
       "      <td>transcript</td>\n",
       "      <td>101442</td>\n",
       "      <td>104482</td>\n",
       "      <td>.</td>\n",
       "      <td>+</td>\n",
       "      <td>.</td>\n",
       "      <td>transcript_id \"N_sal.S000260.1\"; gene_id \"N_sa...</td>\n",
       "    </tr>\n",
       "    <tr>\n",
       "      <th>1</th>\n",
       "      <td>scf_1</td>\n",
       "      <td>101592</td>\n",
       "      <td>.</td>\n",
       "      <td>C</td>\n",
       "      <td>T</td>\n",
       "      <td>.</td>\n",
       "      <td>PASS</td>\n",
       "      <td>SOMATIC;QSS=97;TQSS=2;NT=ref;QSS_NT=97;TQSS_NT...</td>\n",
       "      <td>DP:FDP:SDP:SUBDP:AU:CU:GU:TU</td>\n",
       "      <td>111:4:0:0:0,0:107,115:0,2:0,0</td>\n",
       "      <td>151:8:0:0:0,1:125,137:0,2:18,18</td>\n",
       "      <td>scf_1</td>\n",
       "      <td>MSU_v1</td>\n",
       "      <td>exon</td>\n",
       "      <td>101442</td>\n",
       "      <td>102074</td>\n",
       "      <td>.</td>\n",
       "      <td>+</td>\n",
       "      <td>.</td>\n",
       "      <td>transcript_id \"N_sal.S000260.1\"; gene_id \"N_sa...</td>\n",
       "    </tr>\n",
       "    <tr>\n",
       "      <th>2</th>\n",
       "      <td>scf_1</td>\n",
       "      <td>170428</td>\n",
       "      <td>.</td>\n",
       "      <td>C</td>\n",
       "      <td>T</td>\n",
       "      <td>.</td>\n",
       "      <td>PASS</td>\n",
       "      <td>SOMATIC;QSS=74;TQSS=1;NT=ref;QSS_NT=74;TQSS_NT...</td>\n",
       "      <td>DP:FDP:SDP:SUBDP:AU:CU:GU:TU</td>\n",
       "      <td>91:8:0:0:0,0:83,93:0,0:0,0</td>\n",
       "      <td>121:18:0:0:0,0:96,114:0,0:7,7</td>\n",
       "      <td>scf_1</td>\n",
       "      <td>MSU_v1</td>\n",
       "      <td>transcript</td>\n",
       "      <td>169388</td>\n",
       "      <td>171263</td>\n",
       "      <td>.</td>\n",
       "      <td>+</td>\n",
       "      <td>.</td>\n",
       "      <td>transcript_id \"N_sal.S000460.1\"; gene_id \"N_sa...</td>\n",
       "    </tr>\n",
       "    <tr>\n",
       "      <th>3</th>\n",
       "      <td>scf_1</td>\n",
       "      <td>286810</td>\n",
       "      <td>.</td>\n",
       "      <td>G</td>\n",
       "      <td>A</td>\n",
       "      <td>.</td>\n",
       "      <td>PASS</td>\n",
       "      <td>SOMATIC;QSS=44;TQSS=2;NT=ref;QSS_NT=44;TQSS_NT...</td>\n",
       "      <td>DP:FDP:SDP:SUBDP:AU:CU:GU:TU</td>\n",
       "      <td>201:0:0:0:1,1:0,0:200,200:0,0</td>\n",
       "      <td>205:1:0:0:5,5:0,0:199,201:0,0</td>\n",
       "      <td>scf_1</td>\n",
       "      <td>MSU_v1</td>\n",
       "      <td>transcript</td>\n",
       "      <td>286705</td>\n",
       "      <td>287415</td>\n",
       "      <td>.</td>\n",
       "      <td>+</td>\n",
       "      <td>.</td>\n",
       "      <td>transcript_id \"N_sal.S000920.1\"; gene_id \"N_sa...</td>\n",
       "    </tr>\n",
       "    <tr>\n",
       "      <th>4</th>\n",
       "      <td>scf_1</td>\n",
       "      <td>286810</td>\n",
       "      <td>.</td>\n",
       "      <td>G</td>\n",
       "      <td>A</td>\n",
       "      <td>.</td>\n",
       "      <td>PASS</td>\n",
       "      <td>SOMATIC;QSS=44;TQSS=2;NT=ref;QSS_NT=44;TQSS_NT...</td>\n",
       "      <td>DP:FDP:SDP:SUBDP:AU:CU:GU:TU</td>\n",
       "      <td>201:0:0:0:1,1:0,0:200,200:0,0</td>\n",
       "      <td>205:1:0:0:5,5:0,0:199,201:0,0</td>\n",
       "      <td>scf_1</td>\n",
       "      <td>MSU_v1</td>\n",
       "      <td>exon</td>\n",
       "      <td>286705</td>\n",
       "      <td>287415</td>\n",
       "      <td>.</td>\n",
       "      <td>+</td>\n",
       "      <td>.</td>\n",
       "      <td>transcript_id \"N_sal.S000920.1\"; gene_id \"N_sa...</td>\n",
       "    </tr>\n",
       "  </tbody>\n",
       "</table>\n",
       "</div>"
      ],
      "text/plain": [
       "      0       1  2  3  4  5     6   \\\n",
       "0  scf_1  101592  .  C  T  .  PASS   \n",
       "1  scf_1  101592  .  C  T  .  PASS   \n",
       "2  scf_1  170428  .  C  T  .  PASS   \n",
       "3  scf_1  286810  .  G  A  .  PASS   \n",
       "4  scf_1  286810  .  G  A  .  PASS   \n",
       "\n",
       "                                                  7   \\\n",
       "0  SOMATIC;QSS=97;TQSS=2;NT=ref;QSS_NT=97;TQSS_NT...   \n",
       "1  SOMATIC;QSS=97;TQSS=2;NT=ref;QSS_NT=97;TQSS_NT...   \n",
       "2  SOMATIC;QSS=74;TQSS=1;NT=ref;QSS_NT=74;TQSS_NT...   \n",
       "3  SOMATIC;QSS=44;TQSS=2;NT=ref;QSS_NT=44;TQSS_NT...   \n",
       "4  SOMATIC;QSS=44;TQSS=2;NT=ref;QSS_NT=44;TQSS_NT...   \n",
       "\n",
       "                             8                              9   \\\n",
       "0  DP:FDP:SDP:SUBDP:AU:CU:GU:TU  111:4:0:0:0,0:107,115:0,2:0,0   \n",
       "1  DP:FDP:SDP:SUBDP:AU:CU:GU:TU  111:4:0:0:0,0:107,115:0,2:0,0   \n",
       "2  DP:FDP:SDP:SUBDP:AU:CU:GU:TU     91:8:0:0:0,0:83,93:0,0:0,0   \n",
       "3  DP:FDP:SDP:SUBDP:AU:CU:GU:TU  201:0:0:0:1,1:0,0:200,200:0,0   \n",
       "4  DP:FDP:SDP:SUBDP:AU:CU:GU:TU  201:0:0:0:1,1:0,0:200,200:0,0   \n",
       "\n",
       "                                10     11      12          13      14      15  \\\n",
       "0  151:8:0:0:0,1:125,137:0,2:18,18  scf_1  MSU_v1  transcript  101442  104482   \n",
       "1  151:8:0:0:0,1:125,137:0,2:18,18  scf_1  MSU_v1        exon  101442  102074   \n",
       "2    121:18:0:0:0,0:96,114:0,0:7,7  scf_1  MSU_v1  transcript  169388  171263   \n",
       "3    205:1:0:0:5,5:0,0:199,201:0,0  scf_1  MSU_v1  transcript  286705  287415   \n",
       "4    205:1:0:0:5,5:0,0:199,201:0,0  scf_1  MSU_v1        exon  286705  287415   \n",
       "\n",
       "  16 17 18                                                 19  \n",
       "0  .  +  .  transcript_id \"N_sal.S000260.1\"; gene_id \"N_sa...  \n",
       "1  .  +  .  transcript_id \"N_sal.S000260.1\"; gene_id \"N_sa...  \n",
       "2  .  +  .  transcript_id \"N_sal.S000460.1\"; gene_id \"N_sa...  \n",
       "3  .  +  .  transcript_id \"N_sal.S000920.1\"; gene_id \"N_sa...  \n",
       "4  .  +  .  transcript_id \"N_sal.S000920.1\"; gene_id \"N_sa...  "
      ]
     },
     "execution_count": 18,
     "metadata": {},
     "output_type": "execute_result"
    }
   ],
   "source": [
    "gene_intersects_0_1M_R2 = pd.read_csv('../data/nanno_sarek/variant_calling/strelka/0_1M_R2_vs_537_control_R2/0_1M_R2_vs_537_control_R2_FILTERED_SNVs_overlap_with_annotations.txt', sep='\\t', header=None)\n",
    "gene_intersects_0_1M_R2.head()"
   ]
  },
  {
   "cell_type": "code",
   "execution_count": 19,
   "id": "3561a41b-3b85-48b9-b149-218c54370027",
   "metadata": {},
   "outputs": [],
   "source": [
    "gene_intersects_0_1M_R2['gene_name'] = gene_intersects_0_1M_R2[19].str.split('\"').str[1]\n",
    "gene_intersects_0_1M_R2 = gene_intersects_0_1M_R2[gene_intersects_0_1M_R2[13] == 'CDS'].reset_index(drop=True)"
   ]
  },
  {
   "cell_type": "code",
   "execution_count": 20,
   "id": "417ba4bd-75de-4183-ba63-54781083c018",
   "metadata": {},
   "outputs": [
    {
     "data": {
      "text/plain": [
       "345"
      ]
     },
     "execution_count": 20,
     "metadata": {},
     "output_type": "execute_result"
    }
   ],
   "source": [
    "gene_intersects_0_1M_R2.groupby(by='gene_name').count().shape[0]"
   ]
  },
  {
   "cell_type": "code",
   "execution_count": 21,
   "id": "176417d3-dcd0-4358-a225-2bb5681dc87c",
   "metadata": {},
   "outputs": [],
   "source": [
    "ems_genes = gene_intersects_0_1M_R2.groupby(by='gene_name').count().index.tolist()\n",
    "normal_genes = gene_intersects_0M_R1.groupby(by='gene_name').count().index.tolist()"
   ]
  },
  {
   "cell_type": "code",
   "execution_count": 22,
   "id": "0f8308df-244a-4031-b63e-9789f3308886",
   "metadata": {},
   "outputs": [
    {
     "data": {
      "text/plain": [
       "{'N_sal.S003280.1', 'N_sal.S084590.1', 'N_sal.S088740.1'}"
      ]
     },
     "execution_count": 22,
     "metadata": {},
     "output_type": "execute_result"
    }
   ],
   "source": [
    "overlapping_snps = set(ems_genes).intersection(set(normal_genes))\n",
    "overlapping_snps"
   ]
  },
  {
   "cell_type": "markdown",
   "id": "0c039049-dec8-4ffa-8834-86fe402a6bc5",
   "metadata": {},
   "source": [
    "Only 3 genes overlap between the two conditions!\n",
    "\n",
    "Now let's look at which indels appear in coding regions:\n",
    "\n",
    "```\n",
    "bedtools intersect -wa -wb -a ../nanno_sarek/variant_calling/strelka/0M_R1_vs_537_control_R2/0M_R1_vs_537_control_R2_FILTERED.strelka.somatic_indels.vcf.gz -b n_salina.working_models.gtf > ../nanno_sarek/variant_calling/strelka/0M_R1_vs_537_control_R2/0M_R1_vs_537_control_R2_FILTERED_indels_overlap_with_annotations.txt\n",
    "\n",
    "bedtools intersect -wa -wb -a ../nanno_sarek/variant_calling/strelka/0_1M_R2_vs_537_control_R2/0_1M_R2_vs_537_control_R2_FILTERED.strelka.somatic_indels.vcf.gz -b n_salina.working_models.gtf > ../nanno_sarek/variant_calling/strelka/0_1M_R2_vs_537_control_R2/0_1M_R2_vs_537_control_R2_FILTERED_indels_overlap_with_annotations.txt\n",
    "```"
   ]
  },
  {
   "cell_type": "code",
   "execution_count": 8,
   "id": "aa4327cd-68ed-4ffe-86be-754253f7036e",
   "metadata": {},
   "outputs": [
    {
     "data": {
      "text/html": [
       "<div>\n",
       "<style scoped>\n",
       "    .dataframe tbody tr th:only-of-type {\n",
       "        vertical-align: middle;\n",
       "    }\n",
       "\n",
       "    .dataframe tbody tr th {\n",
       "        vertical-align: top;\n",
       "    }\n",
       "\n",
       "    .dataframe thead th {\n",
       "        text-align: right;\n",
       "    }\n",
       "</style>\n",
       "<table border=\"1\" class=\"dataframe\">\n",
       "  <thead>\n",
       "    <tr style=\"text-align: right;\">\n",
       "      <th></th>\n",
       "      <th>0</th>\n",
       "      <th>1</th>\n",
       "      <th>2</th>\n",
       "      <th>3</th>\n",
       "      <th>4</th>\n",
       "      <th>5</th>\n",
       "      <th>6</th>\n",
       "      <th>7</th>\n",
       "      <th>8</th>\n",
       "      <th>9</th>\n",
       "      <th>10</th>\n",
       "      <th>11</th>\n",
       "      <th>12</th>\n",
       "      <th>13</th>\n",
       "      <th>14</th>\n",
       "      <th>15</th>\n",
       "      <th>16</th>\n",
       "      <th>17</th>\n",
       "      <th>18</th>\n",
       "      <th>19</th>\n",
       "    </tr>\n",
       "  </thead>\n",
       "  <tbody>\n",
       "    <tr>\n",
       "      <th>0</th>\n",
       "      <td>scf_2</td>\n",
       "      <td>453749</td>\n",
       "      <td>.</td>\n",
       "      <td>AC</td>\n",
       "      <td>A</td>\n",
       "      <td>.</td>\n",
       "      <td>PASS</td>\n",
       "      <td>SOMATIC;QSI=66;TQSI=1;NT=ref;QSI_NT=66;TQSI_NT...</td>\n",
       "      <td>DP:DP2:TAR:TIR:TOR:DP50:FDP50:SUBDP50:BCN50</td>\n",
       "      <td>118:118:103,116:3,3:13,1:118.96:7.27:0:0.06</td>\n",
       "      <td>121:121:72,83:23,26:25,13:116.66:6.6:0:0.05</td>\n",
       "      <td>scf_2</td>\n",
       "      <td>MSU_v1</td>\n",
       "      <td>transcript</td>\n",
       "      <td>452792</td>\n",
       "      <td>455413</td>\n",
       "      <td>.</td>\n",
       "      <td>-</td>\n",
       "      <td>.</td>\n",
       "      <td>transcript_id \"N_sal.S016490.1\"; gene_id \"N_sa...</td>\n",
       "    </tr>\n",
       "    <tr>\n",
       "      <th>1</th>\n",
       "      <td>scf_11</td>\n",
       "      <td>803969</td>\n",
       "      <td>.</td>\n",
       "      <td>T</td>\n",
       "      <td>TCGACGG</td>\n",
       "      <td>.</td>\n",
       "      <td>PASS</td>\n",
       "      <td>SOMATIC;QSI=109;TQSI=1;NT=ref;QSI_NT=109;TQSI_...</td>\n",
       "      <td>DP:DP2:TAR:TIR:TOR:DP50:FDP50:SUBDP50:BCN50</td>\n",
       "      <td>125:125:119,119:0,0:4,4:137.93:0.01:0:0</td>\n",
       "      <td>192:192:142,143:30,30:18,18:181.19:0.56:0:0</td>\n",
       "      <td>scf_11</td>\n",
       "      <td>MSU_v1</td>\n",
       "      <td>transcript</td>\n",
       "      <td>803966</td>\n",
       "      <td>806674</td>\n",
       "      <td>.</td>\n",
       "      <td>-</td>\n",
       "      <td>.</td>\n",
       "      <td>transcript_id \"N_sal.S061470.1\"; gene_id \"N_sa...</td>\n",
       "    </tr>\n",
       "    <tr>\n",
       "      <th>2</th>\n",
       "      <td>scf_11</td>\n",
       "      <td>803969</td>\n",
       "      <td>.</td>\n",
       "      <td>T</td>\n",
       "      <td>TCGACGG</td>\n",
       "      <td>.</td>\n",
       "      <td>PASS</td>\n",
       "      <td>SOMATIC;QSI=109;TQSI=1;NT=ref;QSI_NT=109;TQSI_...</td>\n",
       "      <td>DP:DP2:TAR:TIR:TOR:DP50:FDP50:SUBDP50:BCN50</td>\n",
       "      <td>125:125:119,119:0,0:4,4:137.93:0.01:0:0</td>\n",
       "      <td>192:192:142,143:30,30:18,18:181.19:0.56:0:0</td>\n",
       "      <td>scf_11</td>\n",
       "      <td>MSU_v1</td>\n",
       "      <td>exon</td>\n",
       "      <td>803966</td>\n",
       "      <td>804529</td>\n",
       "      <td>.</td>\n",
       "      <td>-</td>\n",
       "      <td>.</td>\n",
       "      <td>transcript_id \"N_sal.S061470.1\"; gene_id \"N_sa...</td>\n",
       "    </tr>\n",
       "    <tr>\n",
       "      <th>3</th>\n",
       "      <td>scf_11</td>\n",
       "      <td>803969</td>\n",
       "      <td>.</td>\n",
       "      <td>T</td>\n",
       "      <td>TCGACGG</td>\n",
       "      <td>.</td>\n",
       "      <td>PASS</td>\n",
       "      <td>SOMATIC;QSI=109;TQSI=1;NT=ref;QSI_NT=109;TQSI_...</td>\n",
       "      <td>DP:DP2:TAR:TIR:TOR:DP50:FDP50:SUBDP50:BCN50</td>\n",
       "      <td>125:125:119,119:0,0:4,4:137.93:0.01:0:0</td>\n",
       "      <td>192:192:142,143:30,30:18,18:181.19:0.56:0:0</td>\n",
       "      <td>scf_11</td>\n",
       "      <td>MSU_v1</td>\n",
       "      <td>CDS</td>\n",
       "      <td>803966</td>\n",
       "      <td>804529</td>\n",
       "      <td>.</td>\n",
       "      <td>-</td>\n",
       "      <td>0</td>\n",
       "      <td>transcript_id \"N_sal.S061470.1\"; gene_id \"N_sa...</td>\n",
       "    </tr>\n",
       "    <tr>\n",
       "      <th>4</th>\n",
       "      <td>scf_17</td>\n",
       "      <td>66764</td>\n",
       "      <td>.</td>\n",
       "      <td>C</td>\n",
       "      <td>CCCTT</td>\n",
       "      <td>.</td>\n",
       "      <td>PASS</td>\n",
       "      <td>SOMATIC;QSI=95;TQSI=2;NT=ref;QSI_NT=95;TQSI_NT...</td>\n",
       "      <td>DP:DP2:TAR:TIR:TOR:DP50:FDP50:SUBDP50:BCN50</td>\n",
       "      <td>98:98:87,91:2,5:14,8:95.48:11.66:0:0.12</td>\n",
       "      <td>82:82:50,52:26,28:10,7:77.84:7.28:0:0.09</td>\n",
       "      <td>scf_17</td>\n",
       "      <td>MSU_v1</td>\n",
       "      <td>transcript</td>\n",
       "      <td>63757</td>\n",
       "      <td>70998</td>\n",
       "      <td>.</td>\n",
       "      <td>+</td>\n",
       "      <td>.</td>\n",
       "      <td>transcript_id \"N_sal.S064940.1\"; gene_id \"N_sa...</td>\n",
       "    </tr>\n",
       "  </tbody>\n",
       "</table>\n",
       "</div>"
      ],
      "text/plain": [
       "       0       1  2   3        4  5     6   \\\n",
       "0   scf_2  453749  .  AC        A  .  PASS   \n",
       "1  scf_11  803969  .   T  TCGACGG  .  PASS   \n",
       "2  scf_11  803969  .   T  TCGACGG  .  PASS   \n",
       "3  scf_11  803969  .   T  TCGACGG  .  PASS   \n",
       "4  scf_17   66764  .   C    CCCTT  .  PASS   \n",
       "\n",
       "                                                  7   \\\n",
       "0  SOMATIC;QSI=66;TQSI=1;NT=ref;QSI_NT=66;TQSI_NT...   \n",
       "1  SOMATIC;QSI=109;TQSI=1;NT=ref;QSI_NT=109;TQSI_...   \n",
       "2  SOMATIC;QSI=109;TQSI=1;NT=ref;QSI_NT=109;TQSI_...   \n",
       "3  SOMATIC;QSI=109;TQSI=1;NT=ref;QSI_NT=109;TQSI_...   \n",
       "4  SOMATIC;QSI=95;TQSI=2;NT=ref;QSI_NT=95;TQSI_NT...   \n",
       "\n",
       "                                            8   \\\n",
       "0  DP:DP2:TAR:TIR:TOR:DP50:FDP50:SUBDP50:BCN50   \n",
       "1  DP:DP2:TAR:TIR:TOR:DP50:FDP50:SUBDP50:BCN50   \n",
       "2  DP:DP2:TAR:TIR:TOR:DP50:FDP50:SUBDP50:BCN50   \n",
       "3  DP:DP2:TAR:TIR:TOR:DP50:FDP50:SUBDP50:BCN50   \n",
       "4  DP:DP2:TAR:TIR:TOR:DP50:FDP50:SUBDP50:BCN50   \n",
       "\n",
       "                                            9   \\\n",
       "0  118:118:103,116:3,3:13,1:118.96:7.27:0:0.06   \n",
       "1      125:125:119,119:0,0:4,4:137.93:0.01:0:0   \n",
       "2      125:125:119,119:0,0:4,4:137.93:0.01:0:0   \n",
       "3      125:125:119,119:0,0:4,4:137.93:0.01:0:0   \n",
       "4      98:98:87,91:2,5:14,8:95.48:11.66:0:0.12   \n",
       "\n",
       "                                            10      11      12          13  \\\n",
       "0  121:121:72,83:23,26:25,13:116.66:6.6:0:0.05   scf_2  MSU_v1  transcript   \n",
       "1  192:192:142,143:30,30:18,18:181.19:0.56:0:0  scf_11  MSU_v1  transcript   \n",
       "2  192:192:142,143:30,30:18,18:181.19:0.56:0:0  scf_11  MSU_v1        exon   \n",
       "3  192:192:142,143:30,30:18,18:181.19:0.56:0:0  scf_11  MSU_v1         CDS   \n",
       "4     82:82:50,52:26,28:10,7:77.84:7.28:0:0.09  scf_17  MSU_v1  transcript   \n",
       "\n",
       "       14      15 16 17 18                                                 19  \n",
       "0  452792  455413  .  -  .  transcript_id \"N_sal.S016490.1\"; gene_id \"N_sa...  \n",
       "1  803966  806674  .  -  .  transcript_id \"N_sal.S061470.1\"; gene_id \"N_sa...  \n",
       "2  803966  804529  .  -  .  transcript_id \"N_sal.S061470.1\"; gene_id \"N_sa...  \n",
       "3  803966  804529  .  -  0  transcript_id \"N_sal.S061470.1\"; gene_id \"N_sa...  \n",
       "4   63757   70998  .  +  .  transcript_id \"N_sal.S064940.1\"; gene_id \"N_sa...  "
      ]
     },
     "execution_count": 8,
     "metadata": {},
     "output_type": "execute_result"
    }
   ],
   "source": [
    "indel_intersects_0M_R1 = pd.read_csv('../data/nanno_sarek/variant_calling/strelka/0M_R1_vs_537_control_R2/0M_R1_vs_537_control_R2_FILTERED_indels_overlap_with_annotations.txt', sep='\\t', header=None)\n",
    "indel_intersects_0M_R1.head()"
   ]
  },
  {
   "cell_type": "code",
   "execution_count": 9,
   "id": "d385f6b8-a224-4507-9b6b-2aa6d3aaa0e7",
   "metadata": {},
   "outputs": [
    {
     "data": {
      "text/plain": [
       "2"
      ]
     },
     "execution_count": 9,
     "metadata": {},
     "output_type": "execute_result"
    }
   ],
   "source": [
    "indel_intersects_0M_R1['gene_name'] = indel_intersects_0M_R1[19].str.split('\"').str[1]\n",
    "indel_intersects_0M_R1 = indel_intersects_0M_R1[indel_intersects_0M_R1[13] == 'CDS'].reset_index(drop=True)\n",
    "indel_intersects_0M_R1.groupby(by='gene_name').count().shape[0]"
   ]
  },
  {
   "cell_type": "code",
   "execution_count": 10,
   "id": "2e439382-8eeb-4062-abac-ae33e9e03622",
   "metadata": {},
   "outputs": [
    {
     "data": {
      "text/html": [
       "<div>\n",
       "<style scoped>\n",
       "    .dataframe tbody tr th:only-of-type {\n",
       "        vertical-align: middle;\n",
       "    }\n",
       "\n",
       "    .dataframe tbody tr th {\n",
       "        vertical-align: top;\n",
       "    }\n",
       "\n",
       "    .dataframe thead th {\n",
       "        text-align: right;\n",
       "    }\n",
       "</style>\n",
       "<table border=\"1\" class=\"dataframe\">\n",
       "  <thead>\n",
       "    <tr style=\"text-align: right;\">\n",
       "      <th></th>\n",
       "      <th>0</th>\n",
       "      <th>1</th>\n",
       "      <th>2</th>\n",
       "      <th>3</th>\n",
       "      <th>4</th>\n",
       "      <th>5</th>\n",
       "      <th>6</th>\n",
       "      <th>7</th>\n",
       "      <th>8</th>\n",
       "      <th>9</th>\n",
       "      <th>10</th>\n",
       "      <th>11</th>\n",
       "      <th>12</th>\n",
       "      <th>13</th>\n",
       "      <th>14</th>\n",
       "      <th>15</th>\n",
       "      <th>16</th>\n",
       "      <th>17</th>\n",
       "      <th>18</th>\n",
       "      <th>19</th>\n",
       "    </tr>\n",
       "  </thead>\n",
       "  <tbody>\n",
       "    <tr>\n",
       "      <th>0</th>\n",
       "      <td>scf_14</td>\n",
       "      <td>627792</td>\n",
       "      <td>.</td>\n",
       "      <td>C</td>\n",
       "      <td>CCCCTCTCT</td>\n",
       "      <td>.</td>\n",
       "      <td>PASS</td>\n",
       "      <td>SOMATIC;QSI=153;TQSI=1;NT=ref;QSI_NT=154;TQSI_...</td>\n",
       "      <td>DP:DP2:TAR:TIR:TOR:DP50:FDP50:SUBDP50:BCN50</td>\n",
       "      <td>109:109:107,107:0,0:2,2:108.73:5.09:0:0.05</td>\n",
       "      <td>96:96:62,65:31,32:3,3:93.88:5.66:0:0.05</td>\n",
       "      <td>scf_14</td>\n",
       "      <td>MSU_v1</td>\n",
       "      <td>transcript</td>\n",
       "      <td>625605</td>\n",
       "      <td>629168</td>\n",
       "      <td>.</td>\n",
       "      <td>-</td>\n",
       "      <td>.</td>\n",
       "      <td>transcript_id \"N_sal.S080730.1\"; gene_id \"N_sa...</td>\n",
       "    </tr>\n",
       "    <tr>\n",
       "      <th>1</th>\n",
       "      <td>scf_16</td>\n",
       "      <td>149718</td>\n",
       "      <td>.</td>\n",
       "      <td>A</td>\n",
       "      <td>AAT</td>\n",
       "      <td>.</td>\n",
       "      <td>PASS</td>\n",
       "      <td>SOMATIC;QSI=48;TQSI=1;NT=ref;QSI_NT=48;TQSI_NT...</td>\n",
       "      <td>DP:DP2:TAR:TIR:TOR:DP50:FDP50:SUBDP50:BCN50</td>\n",
       "      <td>30:30:24,24:0,0:4,5:39.61:0.27:0:0</td>\n",
       "      <td>28:28:22,23:4,4:2,2:36.04:0.47:0:0</td>\n",
       "      <td>scf_16</td>\n",
       "      <td>MSU_v1</td>\n",
       "      <td>transcript</td>\n",
       "      <td>147799</td>\n",
       "      <td>151161</td>\n",
       "      <td>.</td>\n",
       "      <td>-</td>\n",
       "      <td>.</td>\n",
       "      <td>transcript_id \"N_sal.S073150.2\"; gene_id \"N_sa...</td>\n",
       "    </tr>\n",
       "    <tr>\n",
       "      <th>2</th>\n",
       "      <td>scf_16</td>\n",
       "      <td>149718</td>\n",
       "      <td>.</td>\n",
       "      <td>A</td>\n",
       "      <td>AAT</td>\n",
       "      <td>.</td>\n",
       "      <td>PASS</td>\n",
       "      <td>SOMATIC;QSI=48;TQSI=1;NT=ref;QSI_NT=48;TQSI_NT...</td>\n",
       "      <td>DP:DP2:TAR:TIR:TOR:DP50:FDP50:SUBDP50:BCN50</td>\n",
       "      <td>30:30:24,24:0,0:4,5:39.61:0.27:0:0</td>\n",
       "      <td>28:28:22,23:4,4:2,2:36.04:0.47:0:0</td>\n",
       "      <td>scf_16</td>\n",
       "      <td>MSU_v1</td>\n",
       "      <td>transcript</td>\n",
       "      <td>147799</td>\n",
       "      <td>151367</td>\n",
       "      <td>.</td>\n",
       "      <td>-</td>\n",
       "      <td>.</td>\n",
       "      <td>transcript_id \"N_sal.S073150.1\"; gene_id \"N_sa...</td>\n",
       "    </tr>\n",
       "    <tr>\n",
       "      <th>3</th>\n",
       "      <td>scf_16</td>\n",
       "      <td>149718</td>\n",
       "      <td>.</td>\n",
       "      <td>A</td>\n",
       "      <td>AAT</td>\n",
       "      <td>.</td>\n",
       "      <td>PASS</td>\n",
       "      <td>SOMATIC;QSI=48;TQSI=1;NT=ref;QSI_NT=48;TQSI_NT...</td>\n",
       "      <td>DP:DP2:TAR:TIR:TOR:DP50:FDP50:SUBDP50:BCN50</td>\n",
       "      <td>30:30:24,24:0,0:4,5:39.61:0.27:0:0</td>\n",
       "      <td>28:28:22,23:4,4:2,2:36.04:0.47:0:0</td>\n",
       "      <td>scf_16</td>\n",
       "      <td>MSU_v1</td>\n",
       "      <td>transcript</td>\n",
       "      <td>147813</td>\n",
       "      <td>151295</td>\n",
       "      <td>.</td>\n",
       "      <td>-</td>\n",
       "      <td>.</td>\n",
       "      <td>transcript_id \"N_sal.S073150.3\"; gene_id \"N_sa...</td>\n",
       "    </tr>\n",
       "    <tr>\n",
       "      <th>4</th>\n",
       "      <td>scf_20</td>\n",
       "      <td>158358</td>\n",
       "      <td>.</td>\n",
       "      <td>A</td>\n",
       "      <td>AG</td>\n",
       "      <td>.</td>\n",
       "      <td>PASS</td>\n",
       "      <td>SOMATIC;QSI=38;TQSI=1;NT=ref;QSI_NT=38;TQSI_NT...</td>\n",
       "      <td>DP:DP2:TAR:TIR:TOR:DP50:FDP50:SUBDP50:BCN50</td>\n",
       "      <td>36:36:35,39:0,0:1,1:34.41:2.26:0:0.06</td>\n",
       "      <td>57:57:47,48:6,6:4,6:51.67:1.93:0:0.02</td>\n",
       "      <td>scf_20</td>\n",
       "      <td>MSU_v1</td>\n",
       "      <td>transcript</td>\n",
       "      <td>152063</td>\n",
       "      <td>162621</td>\n",
       "      <td>.</td>\n",
       "      <td>-</td>\n",
       "      <td>.</td>\n",
       "      <td>transcript_id \"N_sal.S050720.1\"; gene_id \"N_sa...</td>\n",
       "    </tr>\n",
       "  </tbody>\n",
       "</table>\n",
       "</div>"
      ],
      "text/plain": [
       "       0       1  2  3          4  5     6   \\\n",
       "0  scf_14  627792  .  C  CCCCTCTCT  .  PASS   \n",
       "1  scf_16  149718  .  A        AAT  .  PASS   \n",
       "2  scf_16  149718  .  A        AAT  .  PASS   \n",
       "3  scf_16  149718  .  A        AAT  .  PASS   \n",
       "4  scf_20  158358  .  A         AG  .  PASS   \n",
       "\n",
       "                                                  7   \\\n",
       "0  SOMATIC;QSI=153;TQSI=1;NT=ref;QSI_NT=154;TQSI_...   \n",
       "1  SOMATIC;QSI=48;TQSI=1;NT=ref;QSI_NT=48;TQSI_NT...   \n",
       "2  SOMATIC;QSI=48;TQSI=1;NT=ref;QSI_NT=48;TQSI_NT...   \n",
       "3  SOMATIC;QSI=48;TQSI=1;NT=ref;QSI_NT=48;TQSI_NT...   \n",
       "4  SOMATIC;QSI=38;TQSI=1;NT=ref;QSI_NT=38;TQSI_NT...   \n",
       "\n",
       "                                            8   \\\n",
       "0  DP:DP2:TAR:TIR:TOR:DP50:FDP50:SUBDP50:BCN50   \n",
       "1  DP:DP2:TAR:TIR:TOR:DP50:FDP50:SUBDP50:BCN50   \n",
       "2  DP:DP2:TAR:TIR:TOR:DP50:FDP50:SUBDP50:BCN50   \n",
       "3  DP:DP2:TAR:TIR:TOR:DP50:FDP50:SUBDP50:BCN50   \n",
       "4  DP:DP2:TAR:TIR:TOR:DP50:FDP50:SUBDP50:BCN50   \n",
       "\n",
       "                                           9   \\\n",
       "0  109:109:107,107:0,0:2,2:108.73:5.09:0:0.05   \n",
       "1          30:30:24,24:0,0:4,5:39.61:0.27:0:0   \n",
       "2          30:30:24,24:0,0:4,5:39.61:0.27:0:0   \n",
       "3          30:30:24,24:0,0:4,5:39.61:0.27:0:0   \n",
       "4       36:36:35,39:0,0:1,1:34.41:2.26:0:0.06   \n",
       "\n",
       "                                        10      11      12          13  \\\n",
       "0  96:96:62,65:31,32:3,3:93.88:5.66:0:0.05  scf_14  MSU_v1  transcript   \n",
       "1       28:28:22,23:4,4:2,2:36.04:0.47:0:0  scf_16  MSU_v1  transcript   \n",
       "2       28:28:22,23:4,4:2,2:36.04:0.47:0:0  scf_16  MSU_v1  transcript   \n",
       "3       28:28:22,23:4,4:2,2:36.04:0.47:0:0  scf_16  MSU_v1  transcript   \n",
       "4    57:57:47,48:6,6:4,6:51.67:1.93:0:0.02  scf_20  MSU_v1  transcript   \n",
       "\n",
       "       14      15 16 17 18                                                 19  \n",
       "0  625605  629168  .  -  .  transcript_id \"N_sal.S080730.1\"; gene_id \"N_sa...  \n",
       "1  147799  151161  .  -  .  transcript_id \"N_sal.S073150.2\"; gene_id \"N_sa...  \n",
       "2  147799  151367  .  -  .  transcript_id \"N_sal.S073150.1\"; gene_id \"N_sa...  \n",
       "3  147813  151295  .  -  .  transcript_id \"N_sal.S073150.3\"; gene_id \"N_sa...  \n",
       "4  152063  162621  .  -  .  transcript_id \"N_sal.S050720.1\"; gene_id \"N_sa...  "
      ]
     },
     "execution_count": 10,
     "metadata": {},
     "output_type": "execute_result"
    }
   ],
   "source": [
    "indel_intersects_0_1M_R2 = pd.read_csv('../data/nanno_sarek/variant_calling/strelka/0_1M_R2_vs_537_control_R2/0_1M_R2_vs_537_control_R2_FILTERED_indels_overlap_with_annotations.txt', sep='\\t', header=None)\n",
    "indel_intersects_0_1M_R2.head()"
   ]
  },
  {
   "cell_type": "code",
   "execution_count": 11,
   "id": "3b8e6a98-802f-4d62-9318-90dfaa6cf5bc",
   "metadata": {},
   "outputs": [
    {
     "data": {
      "text/plain": [
       "1"
      ]
     },
     "execution_count": 11,
     "metadata": {},
     "output_type": "execute_result"
    }
   ],
   "source": [
    "indel_intersects_0_1M_R2['gene_name'] = indel_intersects_0_1M_R2[19].str.split('\"').str[1]\n",
    "indel_intersects_0_1M_R2 = indel_intersects_0_1M_R2[indel_intersects_0_1M_R2[13] == 'CDS'].reset_index(drop=True)\n",
    "indel_intersects_0_1M_R2.groupby(by='gene_name').count().shape[0]"
   ]
  },
  {
   "cell_type": "markdown",
   "id": "0cce22ce-2b68-4aaf-b80e-d2dee6c84bec",
   "metadata": {},
   "source": [
    "Only 3 indels overlap coding regions -- what genes are they?"
   ]
  },
  {
   "cell_type": "code",
   "execution_count": 25,
   "id": "bd8e175a-5e98-4aa3-addc-18a4a5eebc0a",
   "metadata": {},
   "outputs": [
    {
     "data": {
      "text/plain": [
       "(['N_sal.S061470.1', 'N_sal.S084590.1'], ['N_sal.S034610.1'])"
      ]
     },
     "execution_count": 25,
     "metadata": {},
     "output_type": "execute_result"
    }
   ],
   "source": [
    "indel_genes_0M_R1 = indel_intersects_0M_R1.groupby(by='gene_name').count().index.tolist()\n",
    "indel_genes_0_1M_R2 = indel_intersects_0_1M_R2.groupby(by='gene_name').count().index.tolist()\n",
    "indel_genes_0M_R1, indel_genes_0_1M_R2"
   ]
  },
  {
   "cell_type": "markdown",
   "id": "9a0c0090-b93d-4bbc-98ad-f07202361a65",
   "metadata": {},
   "source": [
    "None of them overlap between the two mutation conditions:"
   ]
  },
  {
   "cell_type": "code",
   "execution_count": 24,
   "id": "2ae112ab-2d34-413a-b8a4-395b4ae2a93e",
   "metadata": {},
   "outputs": [
    {
     "data": {
      "text/plain": [
       "set()"
      ]
     },
     "execution_count": 24,
     "metadata": {},
     "output_type": "execute_result"
    }
   ],
   "source": [
    "overlapping_indels = set(indel_genes_0M_R1).intersection(set(indel_genes_0_1M_R2))\n",
    "overlapping_indels"
   ]
  },
  {
   "cell_type": "markdown",
   "id": "834219e4-1dea-4de2-b1f3-0434f4d2c3ee",
   "metadata": {},
   "source": [
    "Do any of them appear in genes that also have SNPs?"
   ]
  },
  {
   "cell_type": "code",
   "execution_count": 26,
   "id": "81094967-138f-4a04-b04a-510b89ea8f97",
   "metadata": {},
   "outputs": [
    {
     "data": {
      "text/plain": [
       "{'N_sal.S084590.1'}"
      ]
     },
     "execution_count": 26,
     "metadata": {},
     "output_type": "execute_result"
    }
   ],
   "source": [
    "set(indel_genes_0M_R1).intersection(set(normal_genes))"
   ]
  },
  {
   "cell_type": "code",
   "execution_count": 27,
   "id": "72f16084-b0bb-410f-8dc7-b14ec780a5cd",
   "metadata": {},
   "outputs": [
    {
     "data": {
      "text/plain": [
       "set()"
      ]
     },
     "execution_count": 27,
     "metadata": {},
     "output_type": "execute_result"
    }
   ],
   "source": [
    "set(indel_genes_0_1M_R2).intersection(set(ems_genes))"
   ]
  }
 ],
 "metadata": {
  "kernelspec": {
   "display_name": "omics",
   "language": "python",
   "name": "omics"
  },
  "language_info": {
   "codemirror_mode": {
    "name": "ipython",
    "version": 3
   },
   "file_extension": ".py",
   "mimetype": "text/x-python",
   "name": "python",
   "nbconvert_exporter": "python",
   "pygments_lexer": "ipython3",
   "version": "3.10.16"
  }
 },
 "nbformat": 4,
 "nbformat_minor": 5
}
