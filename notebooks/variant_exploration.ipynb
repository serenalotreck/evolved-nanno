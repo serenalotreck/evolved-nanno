{
 "cells": [
  {
   "cell_type": "markdown",
   "id": "e36f8907-d88c-4af0-ba62-159f64762105",
   "metadata": {},
   "source": [
    "# Variant exploration\n",
    "We've used the `nf-core/sarek` pipeline to call variants in our samples; now let's explore the data we have!"
   ]
  },
  {
   "cell_type": "code",
   "execution_count": 1,
   "id": "b999f12c-2d58-4bc6-9ace-27e20bc7aeb1",
   "metadata": {},
   "outputs": [],
   "source": [
    "from pysam import VariantFile\n",
    "from tqdm import tqdm\n",
    "from collections import defaultdict\n",
    "import numpy as np\n",
    "import matplotlib.pyplot as plt\n",
    "import pandas as pd\n",
    "import gzip\n",
    "import seaborn as sns"
   ]
  },
  {
   "cell_type": "markdown",
   "id": "a40c69b7-151f-4c02-8ae0-2784fd57542e",
   "metadata": {},
   "source": [
    "## Read in the data\n",
    "`0M_R1` was grown without EMS in 10/10\n",
    "\n",
    "`0_1M_R1` was treated with EMS in 10/10"
   ]
  },
  {
   "cell_type": "code",
   "execution_count": 2,
   "id": "1eee9263-65be-4224-ae8f-dcad2c4c4d43",
   "metadata": {},
   "outputs": [],
   "source": [
    "vcf_0M_R1 = VariantFile('../data/nanno_sarek/variant_calling/strelka/0M_R1_vs_537_control_R2/0M_R1_vs_537_control_R2.strelka.somatic_snvs.vcf.gz') \n",
    "vcf_0_1M_R2 = VariantFile('../data/nanno_sarek/variant_calling/strelka/0_1M_R2_vs_537_control_R2/0_1M_R2_vs_537_control_R2.strelka.somatic_snvs.vcf.gz') "
   ]
  },
  {
   "cell_type": "code",
   "execution_count": 3,
   "id": "314a48f3-b8e9-4a27-87a3-496473882c79",
   "metadata": {},
   "outputs": [],
   "source": [
    "all_variants_0M_R1 = vcf_0M_R1.fetch()\n",
    "all_variants_0_1M_R2 = vcf_0_1M_R2.fetch()"
   ]
  },
  {
   "cell_type": "markdown",
   "id": "cffb24b7-ab88-4229-aee9-0098b9d53f4c",
   "metadata": {},
   "source": [
    "## Filtering by support\n",
    "As mentioned in [this video](https://youtu.be/zO9WCOaq3aQ?si=GZD3t4__wenFgTxh&t=665), variants that only appear in a few reads are more likely to be sequencing errors than true variants. Therefore, we want to filter our variants. While Strelka2 doesn't provide a score in the `QUAL` column of the `vcf` file, it does provide a `PASS` value based on the Empirical Variant Scoring model (see [Supplementary Note 1](https://static-content.springer.com/esm/art%3A10.1038%2Fs41592-018-0051-x/MediaObjects/41592_2018_51_MOESM1_ESM.pdf)) if the variant is good quality, or `LowEVS` or `LowDepth` if it's not a good variant."
   ]
  },
  {
   "cell_type": "code",
   "execution_count": 4,
   "id": "ac15254e-ea75-49cd-8762-26fac5b8bf6c",
   "metadata": {},
   "outputs": [
    {
     "name": "stdout",
     "output_type": "stream",
     "text": [
      "For sample 0M_R1, 51 of 41470 variants passed, which is 0.12%.\n",
      "For sample 0_1M_R2, 556 of 46391 variants passed, which is 1.20%.\n"
     ]
    }
   ],
   "source": [
    "all_alts = {}\n",
    "all_conversions = {}\n",
    "all_passed = {}\n",
    "for sample, variants in {'0M_R1': all_variants_0M_R1, '0_1M_R2': all_variants_0_1M_R2}.items():\n",
    "    passed = []\n",
    "    alts = defaultdict(int)\n",
    "    conversions = defaultdict(int)\n",
    "    total = 0\n",
    "    for variant in variants:\n",
    "        if variant.filter.keys()[0] == 'PASS':\n",
    "            # print(variant.chrom, variant.pos, variant.ref, \">\", variant.alts[0], variant.qual, variant.filter.values()[0].name)\n",
    "            passed.append(variant)\n",
    "            alts[variant.alts[0]] += 1\n",
    "            conversions[f'{variant.ref} > {variant.alts[0]}'] += 1\n",
    "        total += 1\n",
    "    print(f'For sample {sample}, {len(passed)} of {total} variants passed, which is {(len(passed)/total)*100:.2f}%.')\n",
    "    all_alts[sample] = alts\n",
    "    all_conversions[sample] = conversions\n",
    "    all_passed[sample] = passed"
   ]
  },
  {
   "cell_type": "markdown",
   "id": "4f67da33-61a6-479f-8832-782f8ead0962",
   "metadata": {},
   "source": [
    "That's great! It substantially narrows down our analysis. Let's save out the filtered subset to look at in IGV:"
   ]
  },
  {
   "cell_type": "code",
   "execution_count": 5,
   "id": "ba5e4afa-b325-4f1a-adff-95b89e7b77b3",
   "metadata": {},
   "outputs": [],
   "source": [
    "# Adapted from the Gemini suggested answer\n",
    "for sample in ['0M_R1', '0_1M_R2']:\n",
    "    with VariantFile(f'../data/nanno_sarek/variant_calling/strelka/{sample}_vs_537_control_R2/{sample}_vs_537_control_R2.strelka.somatic_snvs.vcf.gz') as vcf_in, \\\n",
    "         VariantFile(f'../data/nanno_sarek/variant_calling/strelka/{sample}_vs_537_control_R2/{sample}_vs_537_control_R2_FILTERED.strelka.somatic_snvs.vcf.gz', 'w', header=vcf_in.header) as vcf_out:\n",
    "    \n",
    "        for record in vcf_in:\n",
    "            if 'PASS' in record.filter.keys():\n",
    "                vcf_out.write(record)"
   ]
  },
  {
   "cell_type": "markdown",
   "id": "cbb877d0-ddf5-4c04-b54c-110d91d052ab",
   "metadata": {},
   "source": [
    "## Digging into SNVs\n",
    "Let's take a look at the landscape of variants quantitatively, beyond just looking at the viewer. First, let's look at the rates of the different transitions (which I'll calculate here as just the fraction of times the transition occurred of the variants that passed the screening -- I think this is different than the calculations done in the Arabidopsis paper linked below). Does this match with published expectations of the rates of these transitions?\n",
    "\n",
    "We'll pair together transitions that are complements of one another, as was done in [Ossowski et al, 2014, Table 2](https://pmc.ncbi.nlm.nih.gov/articles/PMC3878865/table/T2/):\n",
    "```\n",
    "A:T→G:C\n",
    "C:G→T:A\n",
    "A:T→T:A\n",
    "C:G→A:T\n",
    "A:T→C:G\n",
    "C:G→G:C\n",
    "```"
   ]
  },
  {
   "cell_type": "code",
   "execution_count": 6,
   "id": "621da2aa-9d9d-4dbc-a4ea-8f251a3b4c98",
   "metadata": {},
   "outputs": [],
   "source": [
    "conversion_pairs = {\n",
    "    'A:T→G:C': ['A > G', 'T > C'],\n",
    "    'C:G→T:A': ['C > T', 'G > A'],\n",
    "    'A:T→T:A': ['A > T', 'T > A'],\n",
    "    'C:G→A:T': ['C > A', 'G > T'],\n",
    "    'A:T→C:G': ['A > C', 'T > G'],\n",
    "    'C:G→G:C': ['C > G', 'G > C']\n",
    "}"
   ]
  },
  {
   "cell_type": "code",
   "execution_count": 7,
   "id": "4780449a-7d22-43ab-9f3d-e908c695f1a8",
   "metadata": {},
   "outputs": [],
   "source": [
    "conversion_probs = defaultdict(dict)\n",
    "for sample, conversions in all_conversions.items():\n",
    "    for name, pair in conversion_pairs.items():\n",
    "        pair_total = conversions[pair[0]] + conversions[pair[1]]\n",
    "        conversion_probs[sample][name] = pair_total/len(all_passed[sample])"
   ]
  },
  {
   "cell_type": "code",
   "execution_count": 8,
   "id": "07c4583f-833b-410b-9044-e4e6082ae789",
   "metadata": {},
   "outputs": [],
   "source": [
    "# Need tow rangle for stacked bars\n",
    "conversions_to_plot = {pair: np.array([v[pair] for v in conversion_probs.values()]) for pair in conversion_pairs.keys()}"
   ]
  },
  {
   "cell_type": "code",
   "execution_count": 9,
   "id": "e09485e4-7e8f-4152-816c-3e4064d9e0f1",
   "metadata": {},
   "outputs": [
    {
     "data": {
      "text/plain": [
       "{'A:T→G:C': array([0.23529412, 0.03956835]),\n",
       " 'C:G→T:A': array([0.09803922, 0.86330935]),\n",
       " 'A:T→T:A': array([0.07843137, 0.02517986]),\n",
       " 'C:G→A:T': array([0.19607843, 0.02697842]),\n",
       " 'A:T→C:G': array([0.21568627, 0.02158273]),\n",
       " 'C:G→G:C': array([0.17647059, 0.02338129])}"
      ]
     },
     "execution_count": 9,
     "metadata": {},
     "output_type": "execute_result"
    }
   ],
   "source": [
    "conversions_to_plot"
   ]
  },
  {
   "cell_type": "code",
   "execution_count": 10,
   "id": "964b97ba-d18c-4d44-ae6d-02786eefca79",
   "metadata": {},
   "outputs": [
    {
     "data": {
      "image/png": "[encoded data removed]",
      "text/plain": [
       "<Figure size 640x480 with 1 Axes>"
      ]
     },
     "metadata": {},
     "output_type": "display_data"
    }
   ],
   "source": [
    "fig, ax = plt.subplots()\n",
    "\n",
    "width = 0.25\n",
    "bottom = np.zeros(2)\n",
    "\n",
    "for name, probs in conversions_to_plot.items():\n",
    "    ax.bar(conversion_probs.keys(), probs, width, bottom=bottom, label=f'{name}')\n",
    "    bottom += probs\n",
    "\n",
    "ax.set_ylabel('Transition Rate')\n",
    "ax.legend(loc='center')\n",
    "\n",
    "plt.show()"
   ]
  },
  {
   "cell_type": "markdown",
   "id": "d8749be8-1c43-45d9-b784-a0b8fea982bd",
   "metadata": {},
   "source": [
    "This is quite cool -- EMS is [known to induce mainly C:G→T:A mutations](https://www.frontiersin.org/journals/plant-science/articles/10.3389/fpls.2022.1052569/full), and we see an enormous rate increase of that kind of mutation in the EMS sample vs. the one that was allowed to evolve on its own."
   ]
  },
  {
   "cell_type": "markdown",
   "id": "ce4b6882-b23e-441c-807a-95d448e32d70",
   "metadata": {},
   "source": [
    "Another thing we want to know is what proportion of the reads in the population have each variant. *Nanno* is haploid, but we sequenced a population; so the proportion of reads containing a given variant represents the proportion of the population containing that mutation. Strelka's docs provide a [procedure for calculating alternate allele frequency](https://github.com/Illumina/strelka/blob/v2.9.x/docs/userGuide/README.md#somatic) from the `vcf` file, which we'll implement here:\n",
    "\n",
    "```\n",
    "refCounts = Value of FORMAT column $REF + “U” (e.g. if REF=\"A\" then use the value in FOMRAT/AU)\n",
    "altCounts = Value of FORMAT column $ALT + “U” (e.g. if ALT=\"T\" then use the value in FOMRAT/TU)\n",
    "tier1RefCounts = First comma-delimited value from $refCounts\n",
    "tier1AltCounts = First comma-delimited value from $altCounts\n",
    "Somatic allele freqeuncy is $tier1AltCounts / ($tier1AltCounts + $tier1RefCounts)\n",
    "```\n",
    "\n",
    "Note that this is a formula, not a code snippet, so our implementation below will look different. I can't figure out a straightforward way to get the values from the custom columns of the `vcf` with `pysam`, so I'll just read it in as a dataframe, skipping the rows beginning with `#`:"
   ]
  },
  {
   "cell_type": "code",
   "execution_count": 11,
   "id": "aa2c97c5-bd11-4a29-adc9-9d2c625df00f",
   "metadata": {},
   "outputs": [],
   "source": [
    "def loadVCF(vcf):\n",
    "    \"\"\"\n",
    "    Use pandas to load a vcf as a dataframe.\n",
    "    \"\"\"\n",
    "    # Detect true header row\n",
    "    with gzip.open(vcf, 'rb') as f:\n",
    "        for i, l in enumerate(f.readlines()):\n",
    "            if l.decode()[0] != '#':\n",
    "                header_row = i - 1 # Want the last row starting with #\n",
    "                break\n",
    "\n",
    "    # Load vcf\n",
    "    df = pd.read_csv(vcf, sep='\\t', header=header_row)\n",
    "\n",
    "    return df\n",
    "    \n",
    "\n",
    "def calculateAlleleFreqs(vcf, indels=False):\n",
    "    \"\"\"\n",
    "    Calculate minor allele frequencies for every variant in a vcf.\n",
    "\n",
    "    parameters:\n",
    "        vcf, str: path to a vcf file\n",
    "        indels, bool: whether or not the file contains indels or SNVs\n",
    "        \n",
    "    returns:\n",
    "        alt_freq_dict, dict: keys are variants (as <chrom>_<pos>_<ref>_<alt>),\n",
    "            values are a dict of allele frequencies between 0 and 1 for each base\n",
    "    \"\"\"\n",
    "    # Headers are:\n",
    "    #CHROM\tPOS\tID\tREF\tALT\tQUAL FILTER\tINFO FORMAT\tNORMAL TUMOR\n",
    "    variant_df = loadVCF(vcf)\n",
    "\n",
    "    # Could do this with apply, but I don't think that's actually any\n",
    "    # faster than iterating directly, and this is simpler to read\n",
    "    alt_freq_dict = {}\n",
    "    for i, variant in tqdm(variant_df.iterrows()):\n",
    "\n",
    "        # Get the count values -- need to coprresond the position in the FORMAT\n",
    "        # string with the value in the TUMOR string\n",
    "\n",
    "        ref_indexer = 'TAR' if indels else f'{variant.REF}U'\n",
    "        ref_count_idx = variant.FORMAT.split(':').index(ref_indexer)\n",
    "        ref_count = int(variant.TUMOR.split(':')[ref_count_idx].split(',')[0])\n",
    "\n",
    "        alt_indexer = 'TIR' if indels else f'{variant.ALT}U'\n",
    "        alt_count_idx = variant.FORMAT.split(':').index(alt_indexer)\n",
    "        alt_count = int(variant.TUMOR.split(':')[alt_count_idx].split(',')[0])\n",
    "\n",
    "\n",
    "        # Calculate frequency\n",
    "        alt_freq = alt_count / (alt_count + ref_count)\n",
    "\n",
    "        # Add to dict\n",
    "        alt_freq_dict['_'.join([variant['#CHROM'], str(variant.POS), variant.REF, variant.ALT])] = alt_freq\n",
    "\n",
    "    return alt_freq_dict"
   ]
  },
  {
   "cell_type": "code",
   "execution_count": 12,
   "id": "a255d15a-b0da-4cf2-8eec-124753127876",
   "metadata": {},
   "outputs": [
    {
     "name": "stderr",
     "output_type": "stream",
     "text": [
      "51it [00:00, 10457.05it/s]\n",
      "556it [00:00, 11311.27it/s]\n"
     ]
    }
   ],
   "source": [
    "alt_freqs_0M_R1 = calculateAlleleFreqs('../data/nanno_sarek/variant_calling/strelka/0M_R1_vs_537_control_R2/0M_R1_vs_537_control_R2_FILTERED.strelka.somatic_snvs.vcf.gz')\n",
    "alt_freqs_0_1M_R2 = calculateAlleleFreqs('../data/nanno_sarek/variant_calling/strelka/0_1M_R2_vs_537_control_R2/0_1M_R2_vs_537_control_R2_FILTERED.strelka.somatic_snvs.vcf.gz')"
   ]
  },
  {
   "cell_type": "markdown",
   "id": "4e131353-5135-45f8-a097-fea1147967d6",
   "metadata": {},
   "source": [
    "Now let's make a violin plot of the frequencies:"
   ]
  },
  {
   "cell_type": "code",
   "execution_count": 13,
   "id": "224dbd11-d753-4fc9-88c8-79809de86948",
   "metadata": {},
   "outputs": [
    {
     "data": {
      "text/html": [
       "<div>\n",
       "<style scoped>\n",
       "    .dataframe tbody tr th:only-of-type {\n",
       "        vertical-align: middle;\n",
       "    }\n",
       "\n",
       "    .dataframe tbody tr th {\n",
       "        vertical-align: top;\n",
       "    }\n",
       "\n",
       "    .dataframe thead th {\n",
       "        text-align: right;\n",
       "    }\n",
       "</style>\n",
       "<table border=\"1\" class=\"dataframe\">\n",
       "  <thead>\n",
       "    <tr style=\"text-align: right;\">\n",
       "      <th></th>\n",
       "      <th>sample</th>\n",
       "      <th>alt_frequency</th>\n",
       "    </tr>\n",
       "  </thead>\n",
       "  <tbody>\n",
       "    <tr>\n",
       "      <th>0</th>\n",
       "      <td>0M_R1</td>\n",
       "      <td>0.048387</td>\n",
       "    </tr>\n",
       "    <tr>\n",
       "      <th>1</th>\n",
       "      <td>0M_R1</td>\n",
       "      <td>0.226087</td>\n",
       "    </tr>\n",
       "    <tr>\n",
       "      <th>2</th>\n",
       "      <td>0M_R1</td>\n",
       "      <td>0.093960</td>\n",
       "    </tr>\n",
       "    <tr>\n",
       "      <th>3</th>\n",
       "      <td>0M_R1</td>\n",
       "      <td>0.111111</td>\n",
       "    </tr>\n",
       "    <tr>\n",
       "      <th>4</th>\n",
       "      <td>0M_R1</td>\n",
       "      <td>0.039801</td>\n",
       "    </tr>\n",
       "  </tbody>\n",
       "</table>\n",
       "</div>"
      ],
      "text/plain": [
       "  sample  alt_frequency\n",
       "0  0M_R1       0.048387\n",
       "1  0M_R1       0.226087\n",
       "2  0M_R1       0.093960\n",
       "3  0M_R1       0.111111\n",
       "4  0M_R1       0.039801"
      ]
     },
     "execution_count": 13,
     "metadata": {},
     "output_type": "execute_result"
    }
   ],
   "source": [
    "for_violin = [(k, freq) for k, v in {'0M_R1': list(alt_freqs_0M_R1.values()),\n",
    "     '0_1M_R2': list(alt_freqs_0_1M_R2.values())}.items() for freq in v]\n",
    "\n",
    "\n",
    "for_violin_df = pd.DataFrame.from_records(for_violin, columns=['sample', 'alt_frequency'])\n",
    "for_violin_df.head()"
   ]
  },
  {
   "cell_type": "code",
   "execution_count": 14,
   "id": "d2873661-3304-4690-b500-96e7d78c95fa",
   "metadata": {},
   "outputs": [
    {
     "data": {
      "text/plain": [
       "<Axes: xlabel='sample', ylabel='alt_frequency'>"
      ]
     },
     "execution_count": 14,
     "metadata": {},
     "output_type": "execute_result"
    },
    {
     "data": {
      "image/png": "[encoded data removed]",
      "text/plain": [
       "<Figure size 640x480 with 1 Axes>"
      ]
     },
     "metadata": {},
     "output_type": "display_data"
    }
   ],
   "source": [
    "sns.violinplot(for_violin_df, x='sample', y='alt_frequency')"
   ]
  },
  {
   "cell_type": "markdown",
   "id": "d3080212-b769-4416-9293-838f09f07928",
   "metadata": {},
   "source": [
    "The violin plot indicates that no more than 50% of the population has any given variant. What are the mins and maxes, and which variants do they correspond to? We'll save this for later when we map variants to genes."
   ]
  },
  {
   "cell_type": "code",
   "execution_count": 15,
   "id": "b12333f0-1bd5-4dc6-ac17-ebd81747a0e2",
   "metadata": {},
   "outputs": [],
   "source": [
    "max_id_0M_R1, max_val_0M_R1 = max(alt_freqs_0M_R1, key=alt_freqs_0M_R1.get), max(alt_freqs_0M_R1.values())\n",
    "max_id_0_1M_R2, max_val_0_1M_R2 = max(alt_freqs_0_1M_R2, key=alt_freqs_0_1M_R2.get), max(alt_freqs_0_1M_R2.values())"
   ]
  },
  {
   "cell_type": "markdown",
   "id": "bffb0454-d407-4b8d-a248-22ef61c5cf83",
   "metadata": {},
   "source": [
    "## Indels\n",
    "Thus far we've only looked at the SNVs in our data; what about the indels?"
   ]
  },
  {
   "cell_type": "code",
   "execution_count": 16,
   "id": "c16563fe-7eef-479d-bb90-970c97d7c31e",
   "metadata": {},
   "outputs": [],
   "source": [
    "vcf_0M_R1_indels = VariantFile('../data/nanno_sarek/variant_calling/strelka/0M_R1_vs_537_control_R2/0M_R1_vs_537_control_R2.strelka.somatic_indels.vcf.gz') \n",
    "vcf_0_1M_R2_indels = VariantFile('../data/nanno_sarek/variant_calling/strelka/0_1M_R2_vs_537_control_R2/0_1M_R2_vs_537_control_R2.strelka.somatic_indels.vcf.gz') "
   ]
  },
  {
   "cell_type": "code",
   "execution_count": 17,
   "id": "50354f3d-afb7-4cef-9525-410e06a76390",
   "metadata": {},
   "outputs": [],
   "source": [
    "indels_variants_0M_R1 = vcf_0M_R1_indels.fetch()\n",
    "indels_variants_0_1M_R2 = vcf_0_1M_R2_indels.fetch()"
   ]
  },
  {
   "cell_type": "code",
   "execution_count": 18,
   "id": "e0803db4-dee0-4a5a-98eb-cae15421321a",
   "metadata": {},
   "outputs": [
    {
     "name": "stdout",
     "output_type": "stream",
     "text": [
      "Indel variants for sample 0M_R1:\n",
      "-------------------------------------------\n",
      "scf_2 453749 AC > A None PASS\n",
      "scf_9 1044578 C > CAATA None PASS\n",
      "scf_11 803969 T > TCGACGG None PASS\n",
      "scf_14 38344 CA > C None PASS\n",
      "scf_17 66764 C > CCCTT None PASS\n",
      "scf_19 567213 A > AAT None PASS\n",
      "scf_19 572560 CT > C None PASS\n",
      "scf_21 107074 CCT > C None PASS\n",
      "scf_21 196997 GTGTTCA > G None PASS\n",
      "scf_21 197209 GT > G None PASS\n",
      "scf_21 197734 GC > G None PASS\n",
      "scf_29 211683 C > CAT None PASS\n",
      "scf_35 48363 GTA > G None PASS\n",
      "scf_36 103574 TC > T None PASS\n",
      "\n",
      "For sample 0M_R1, 14 of 422 variants passed, which is 3.32%.\n",
      "\n",
      "Indel variants for sample 0_1M_R2:\n",
      "-------------------------------------------\n",
      "scf_6 712028 GCGC > G None PASS\n",
      "scf_14 627792 C > CCCCTCTCT None PASS\n",
      "scf_16 149718 A > AAT None PASS\n",
      "scf_19 707589 T > TC None PASS\n",
      "scf_20 158358 A > AG None PASS\n",
      "scf_24 819444 TG > T None PASS\n",
      "scf_24 1002851 TCTGGAA > T None PASS\n",
      "scf_29 211683 CAT > C None PASS\n",
      "scf_32 550041 C > CG None PASS\n",
      "\n",
      "For sample 0_1M_R2, 9 of 428 variants passed, which is 2.10%.\n",
      "\n"
     ]
    }
   ],
   "source": [
    "for sample, variants in {'0M_R1': indels_variants_0M_R1, '0_1M_R2': indels_variants_0_1M_R2}.items():\n",
    "    print(f'Indel variants for sample {sample}:')\n",
    "    print('-------------------------------------------')\n",
    "    passed = []\n",
    "    total = 0\n",
    "    for variant in variants:\n",
    "        if variant.filter.keys()[0] == 'PASS':\n",
    "            print(variant.chrom, variant.pos, variant.ref, \">\", variant.alts[0], variant.qual, variant.filter.values()[0].name)\n",
    "            passed.append(variant)\n",
    "        total += 1\n",
    "    print(f'\\nFor sample {sample}, {len(passed)} of {total} variants passed, which is {(len(passed)/total)*100:.2f}%.\\n')"
   ]
  },
  {
   "cell_type": "markdown",
   "id": "e29ae82c-7f03-4529-ae10-c7be319bb38f",
   "metadata": {},
   "source": [
    "There are way fewer indel mutants than point mutations, and a similar number between the normal and EMS mutants, which makes sense, as EMS induces point mutations. Write them out:"
   ]
  },
  {
   "cell_type": "code",
   "execution_count": 19,
   "id": "dee6db9e-06ca-4d24-a3e9-8e66d7e4568e",
   "metadata": {},
   "outputs": [],
   "source": [
    "# Adapted from the Gemini suggested answer\n",
    "for sample in ['0M_R1', '0_1M_R2']:\n",
    "    with VariantFile(f'../data/nanno_sarek/variant_calling/strelka/{sample}_vs_537_control_R2/{sample}_vs_537_control_R2.strelka.somatic_indels.vcf.gz') as vcf_in, \\\n",
    "         VariantFile(f'../data/nanno_sarek/variant_calling/strelka/{sample}_vs_537_control_R2/{sample}_vs_537_control_R2_FILTERED.strelka.somatic_indels.vcf.gz', 'w', header=vcf_in.header) as vcf_out:\n",
    "    \n",
    "        for record in vcf_in:\n",
    "            if 'PASS' in record.filter.keys():\n",
    "                vcf_out.write(record)"
   ]
  },
  {
   "cell_type": "markdown",
   "id": "22f7add6-adf5-4fb2-ae8b-c02a0fb147f1",
   "metadata": {},
   "source": [
    "Calculate the alternate allele frequencies of the indels, following the procedure provided by strelka (modified the previous function to have an indels option):\n",
    "\n",
    "```\n",
    "tier1RefCounts = First comma-delimited value from FORMAT/TAR\n",
    "tier1AltCounts = First comma-delimited value from FORMAT/TIR\n",
    "Somatic allele freqeuncy is $tier1AltCounts / ($tier1AltCounts + $tier1RefCounts)\n",
    "```"
   ]
  },
  {
   "cell_type": "code",
   "execution_count": 20,
   "id": "3992323e-90e6-4377-b674-cdbd706145bb",
   "metadata": {},
   "outputs": [
    {
     "name": "stderr",
     "output_type": "stream",
     "text": [
      "14it [00:00, 9408.79it/s]\n",
      "9it [00:00, 9530.10it/s]\n"
     ]
    }
   ],
   "source": [
    "indel_freqs_0M_R1 = calculateAlleleFreqs('../data/nanno_sarek/variant_calling/strelka/0M_R1_vs_537_control_R2/0M_R1_vs_537_control_R2_FILTERED.strelka.somatic_indels.vcf.gz', indels=True)\n",
    "indel_freqs_0_1M_R2 = calculateAlleleFreqs('../data/nanno_sarek/variant_calling/strelka/0_1M_R2_vs_537_control_R2/0_1M_R2_vs_537_control_R2_FILTERED.strelka.somatic_indels.vcf.gz', indels=True)"
   ]
  },
  {
   "cell_type": "code",
   "execution_count": 21,
   "id": "bddbb0ef-4e58-432a-94ab-f98a0a3734ef",
   "metadata": {},
   "outputs": [
    {
     "data": {
      "text/html": [
       "<div>\n",
       "<style scoped>\n",
       "    .dataframe tbody tr th:only-of-type {\n",
       "        vertical-align: middle;\n",
       "    }\n",
       "\n",
       "    .dataframe tbody tr th {\n",
       "        vertical-align: top;\n",
       "    }\n",
       "\n",
       "    .dataframe thead th {\n",
       "        text-align: right;\n",
       "    }\n",
       "</style>\n",
       "<table border=\"1\" class=\"dataframe\">\n",
       "  <thead>\n",
       "    <tr style=\"text-align: right;\">\n",
       "      <th></th>\n",
       "      <th>sample</th>\n",
       "      <th>alt_frequency</th>\n",
       "    </tr>\n",
       "  </thead>\n",
       "  <tbody>\n",
       "    <tr>\n",
       "      <th>0</th>\n",
       "      <td>0M_R1</td>\n",
       "      <td>0.242105</td>\n",
       "    </tr>\n",
       "    <tr>\n",
       "      <th>1</th>\n",
       "      <td>0M_R1</td>\n",
       "      <td>0.077778</td>\n",
       "    </tr>\n",
       "    <tr>\n",
       "      <th>2</th>\n",
       "      <td>0M_R1</td>\n",
       "      <td>0.174419</td>\n",
       "    </tr>\n",
       "    <tr>\n",
       "      <th>3</th>\n",
       "      <td>0M_R1</td>\n",
       "      <td>0.083333</td>\n",
       "    </tr>\n",
       "    <tr>\n",
       "      <th>4</th>\n",
       "      <td>0M_R1</td>\n",
       "      <td>0.342105</td>\n",
       "    </tr>\n",
       "  </tbody>\n",
       "</table>\n",
       "</div>"
      ],
      "text/plain": [
       "  sample  alt_frequency\n",
       "0  0M_R1       0.242105\n",
       "1  0M_R1       0.077778\n",
       "2  0M_R1       0.174419\n",
       "3  0M_R1       0.083333\n",
       "4  0M_R1       0.342105"
      ]
     },
     "execution_count": 21,
     "metadata": {},
     "output_type": "execute_result"
    }
   ],
   "source": [
    "indel_for_violin = [(k, freq) for k, v in {'0M_R1': list(indel_freqs_0M_R1.values()),\n",
    "     '0_1M_R2': list(indel_freqs_0_1M_R2.values())}.items() for freq in v]\n",
    "\n",
    "\n",
    "indel_for_violin_df = pd.DataFrame.from_records(indel_for_violin, columns=['sample', 'alt_frequency'])\n",
    "indel_for_violin_df.head()"
   ]
  },
  {
   "cell_type": "code",
   "execution_count": 22,
   "id": "c4e47369-7355-426d-b31a-03cc09254e61",
   "metadata": {},
   "outputs": [
    {
     "data": {
      "text/plain": [
       "<Axes: xlabel='sample', ylabel='alt_frequency'>"
      ]
     },
     "execution_count": 22,
     "metadata": {},
     "output_type": "execute_result"
    },
    {
     "data": {
      "image/png": "[encoded data removed]",
      "text/plain": [
       "<Figure size 640x480 with 1 Axes>"
      ]
     },
     "metadata": {},
     "output_type": "display_data"
    }
   ],
   "source": [
    "sns.violinplot(indel_for_violin_df, x='sample', y='alt_frequency')"
   ]
  },
  {
   "cell_type": "markdown",
   "id": "c95c060f-346f-43ed-b1db-39d69e86a988",
   "metadata": {},
   "source": [
    "This is much different than the SNVs! In the non-EMS sample, there's at least one mutation with a high frequency; what's the maximum value, and what's the indel?"
   ]
  },
  {
   "cell_type": "code",
   "execution_count": 23,
   "id": "86c75a0d-a982-4a2f-8b24-db7c300d0bd4",
   "metadata": {},
   "outputs": [
    {
     "name": "stdout",
     "output_type": "stream",
     "text": [
      "The maximum frequency indel in 0M_R1 was scf_19_572560_CT_C, with a frequency of 0.83\n",
      "The maximum frequency indel in 0_1M_R2 was scf_14_627792_C_CCCCTCTCT, with a frequency of 0.33\n"
     ]
    }
   ],
   "source": [
    "print(f'The maximum frequency indel in 0M_R1 was {max(indel_freqs_0M_R1, key=indel_freqs_0M_R1.get)}, with a frequency of {max(indel_freqs_0M_R1.values()):.2f}')\n",
    "print(f'The maximum frequency indel in 0_1M_R2 was {max(indel_freqs_0_1M_R2, key=indel_freqs_0_1M_R2.get)}, with a frequency of {max(indel_freqs_0_1M_R2.values()):.2f}')"
   ]
  },
  {
   "cell_type": "markdown",
   "id": "87984c97-18da-4f60-92f3-58f42f9d45f3",
   "metadata": {},
   "source": [
    "Those are high frequencies! We'll come back around to this in further investigation later on."
   ]
  },
  {
   "cell_type": "code",
   "execution_count": 24,
   "id": "752e4646-914d-4c1d-8348-49b772abd61f",
   "metadata": {},
   "outputs": [],
   "source": [
    "indel_max_id_0M_R1, indel_max_val_0M_R1 = max(indel_freqs_0M_R1, key=indel_freqs_0M_R1.get), max(indel_freqs_0M_R1.values())\n",
    "indel_max_id_0_1M_R2, indel_max_val_0_1M_R2 = max(indel_freqs_0_1M_R2, key=indel_freqs_0_1M_R2.get), max(indel_freqs_0_1M_R2.values())"
   ]
  },
  {
   "cell_type": "markdown",
   "id": "145d648b-87ce-489c-943a-3e2e58d68dbd",
   "metadata": {},
   "source": [
    "## Investigating mutations\n",
    "We now want to narrow in on what genes these mutations may be impacting. Ideally, we want to see what genes are affected by the SNPs and indels. A useful tool for this is the [BEDtools](https://bedtools.readthedocs.io/en/latest/) module; specifically, we can [get the intersection of a SNP file with a genome annotation](https://www.biostars.org/p/379113/#379121). The bulk of this work will take place on the command line.\n",
    "\n",
    "First, we need to convert the `gff3` annotation file to a `gtf` file with `gffread`. From within the `data/genome` directory:\n",
    "\n",
    "```\n",
    "gffread n_salina.working_models.gff3 -T -o n_salina.working_models.gtf\n",
    "```\n",
    "(Note: I provided the full path to where I'd cloned `gffread` rather than adding to `PATH`)\n",
    "\n",
    "Next, use BEDtools to get the intersections. I'm going to start with the non-EMS sample SNV's to get a handle on how the results will look:\n",
    "```\n",
    "bedtools intersect -wa -wb -a ../nanno_sarek/variant_calling/strelka/0M_R1_vs_537_control_R2/0M_R1_vs_537_control_R2_FILTERED.strelka.somatic_snvs.vcf.gz -b n_salina.working_models.gtf > ../nanno_sarek/variant_calling/strelka/0M_R1_vs_537_control_R2/0M_R1_vs_537_control_R2_FILTERED_SNVs_overlap_with_annotations.txt\n",
    "```"
   ]
  },
  {
   "cell_type": "code",
   "execution_count": 25,
   "id": "2916c402-c2b0-4452-bcb2-51e045cde303",
   "metadata": {},
   "outputs": [
    {
     "data": {
      "text/html": [
       "<div>\n",
       "<style scoped>\n",
       "    .dataframe tbody tr th:only-of-type {\n",
       "        vertical-align: middle;\n",
       "    }\n",
       "\n",
       "    .dataframe tbody tr th {\n",
       "        vertical-align: top;\n",
       "    }\n",
       "\n",
       "    .dataframe thead th {\n",
       "        text-align: right;\n",
       "    }\n",
       "</style>\n",
       "<table border=\"1\" class=\"dataframe\">\n",
       "  <thead>\n",
       "    <tr style=\"text-align: right;\">\n",
       "      <th></th>\n",
       "      <th>0</th>\n",
       "      <th>1</th>\n",
       "      <th>2</th>\n",
       "      <th>3</th>\n",
       "      <th>4</th>\n",
       "      <th>5</th>\n",
       "      <th>6</th>\n",
       "      <th>7</th>\n",
       "      <th>8</th>\n",
       "      <th>9</th>\n",
       "      <th>10</th>\n",
       "      <th>11</th>\n",
       "      <th>12</th>\n",
       "      <th>13</th>\n",
       "      <th>14</th>\n",
       "      <th>15</th>\n",
       "      <th>16</th>\n",
       "      <th>17</th>\n",
       "      <th>18</th>\n",
       "      <th>19</th>\n",
       "    </tr>\n",
       "  </thead>\n",
       "  <tbody>\n",
       "    <tr>\n",
       "      <th>0</th>\n",
       "      <td>scf_1</td>\n",
       "      <td>167764</td>\n",
       "      <td>.</td>\n",
       "      <td>T</td>\n",
       "      <td>G</td>\n",
       "      <td>.</td>\n",
       "      <td>PASS</td>\n",
       "      <td>SOMATIC;QSS=48;TQSS=1;NT=ref;QSS_NT=48;TQSS_NT...</td>\n",
       "      <td>DP:FDP:SDP:SUBDP:AU:CU:GU:TU</td>\n",
       "      <td>163:0:0:0:3,3:4,4:3,3:153,154</td>\n",
       "      <td>200:2:0:0:4,5:8,8:9,9:177,178</td>\n",
       "      <td>scf_1</td>\n",
       "      <td>MSU_v1</td>\n",
       "      <td>transcript</td>\n",
       "      <td>167216</td>\n",
       "      <td>168580</td>\n",
       "      <td>.</td>\n",
       "      <td>-</td>\n",
       "      <td>.</td>\n",
       "      <td>transcript_id \"N_sal.S000450.1\"; gene_id \"N_sa...</td>\n",
       "    </tr>\n",
       "    <tr>\n",
       "      <th>1</th>\n",
       "      <td>scf_1</td>\n",
       "      <td>167764</td>\n",
       "      <td>.</td>\n",
       "      <td>T</td>\n",
       "      <td>G</td>\n",
       "      <td>.</td>\n",
       "      <td>PASS</td>\n",
       "      <td>SOMATIC;QSS=48;TQSS=1;NT=ref;QSS_NT=48;TQSS_NT...</td>\n",
       "      <td>DP:FDP:SDP:SUBDP:AU:CU:GU:TU</td>\n",
       "      <td>163:0:0:0:3,3:4,4:3,3:153,154</td>\n",
       "      <td>200:2:0:0:4,5:8,8:9,9:177,178</td>\n",
       "      <td>scf_1</td>\n",
       "      <td>MSU_v1</td>\n",
       "      <td>exon</td>\n",
       "      <td>167216</td>\n",
       "      <td>168580</td>\n",
       "      <td>.</td>\n",
       "      <td>-</td>\n",
       "      <td>.</td>\n",
       "      <td>transcript_id \"N_sal.S000450.1\"; gene_id \"N_sa...</td>\n",
       "    </tr>\n",
       "    <tr>\n",
       "      <th>2</th>\n",
       "      <td>scf_1</td>\n",
       "      <td>167764</td>\n",
       "      <td>.</td>\n",
       "      <td>T</td>\n",
       "      <td>G</td>\n",
       "      <td>.</td>\n",
       "      <td>PASS</td>\n",
       "      <td>SOMATIC;QSS=48;TQSS=1;NT=ref;QSS_NT=48;TQSS_NT...</td>\n",
       "      <td>DP:FDP:SDP:SUBDP:AU:CU:GU:TU</td>\n",
       "      <td>163:0:0:0:3,3:4,4:3,3:153,154</td>\n",
       "      <td>200:2:0:0:4,5:8,8:9,9:177,178</td>\n",
       "      <td>scf_1</td>\n",
       "      <td>MSU_v1</td>\n",
       "      <td>CDS</td>\n",
       "      <td>167216</td>\n",
       "      <td>168580</td>\n",
       "      <td>.</td>\n",
       "      <td>-</td>\n",
       "      <td>0</td>\n",
       "      <td>transcript_id \"N_sal.S000450.1\"; gene_id \"N_sa...</td>\n",
       "    </tr>\n",
       "    <tr>\n",
       "      <th>3</th>\n",
       "      <td>scf_1</td>\n",
       "      <td>860759</td>\n",
       "      <td>.</td>\n",
       "      <td>C</td>\n",
       "      <td>A</td>\n",
       "      <td>.</td>\n",
       "      <td>PASS</td>\n",
       "      <td>SOMATIC;QSS=91;TQSS=1;NT=ref;QSS_NT=91;TQSS_NT...</td>\n",
       "      <td>DP:FDP:SDP:SUBDP:AU:CU:GU:TU</td>\n",
       "      <td>150:0:0:0:3,3:147,148:0,0:0,0</td>\n",
       "      <td>231:1:0:0:52,53:178,181:0,0:0,0</td>\n",
       "      <td>scf_1</td>\n",
       "      <td>MSU_v1</td>\n",
       "      <td>transcript</td>\n",
       "      <td>860486</td>\n",
       "      <td>862164</td>\n",
       "      <td>.</td>\n",
       "      <td>+</td>\n",
       "      <td>.</td>\n",
       "      <td>transcript_id \"N_sal.S002930.1\"; gene_id \"N_sa...</td>\n",
       "    </tr>\n",
       "    <tr>\n",
       "      <th>4</th>\n",
       "      <td>scf_1</td>\n",
       "      <td>947966</td>\n",
       "      <td>.</td>\n",
       "      <td>G</td>\n",
       "      <td>C</td>\n",
       "      <td>.</td>\n",
       "      <td>PASS</td>\n",
       "      <td>SOMATIC;QSS=62;TQSS=1;NT=ref;QSS_NT=62;TQSS_NT...</td>\n",
       "      <td>DP:FDP:SDP:SUBDP:AU:CU:GU:TU</td>\n",
       "      <td>131:1:0:0:1,1:1,1:128,130:0,0</td>\n",
       "      <td>154:1:0:0:1,2:14,14:135,137:3,3</td>\n",
       "      <td>scf_1</td>\n",
       "      <td>MSU_v1</td>\n",
       "      <td>transcript</td>\n",
       "      <td>945949</td>\n",
       "      <td>952185</td>\n",
       "      <td>.</td>\n",
       "      <td>-</td>\n",
       "      <td>.</td>\n",
       "      <td>transcript_id \"N_sal.S003280.1\"; gene_id \"N_sa...</td>\n",
       "    </tr>\n",
       "  </tbody>\n",
       "</table>\n",
       "</div>"
      ],
      "text/plain": [
       "      0       1  2  3  4  5     6   \\\n",
       "0  scf_1  167764  .  T  G  .  PASS   \n",
       "1  scf_1  167764  .  T  G  .  PASS   \n",
       "2  scf_1  167764  .  T  G  .  PASS   \n",
       "3  scf_1  860759  .  C  A  .  PASS   \n",
       "4  scf_1  947966  .  G  C  .  PASS   \n",
       "\n",
       "                                                  7   \\\n",
       "0  SOMATIC;QSS=48;TQSS=1;NT=ref;QSS_NT=48;TQSS_NT...   \n",
       "1  SOMATIC;QSS=48;TQSS=1;NT=ref;QSS_NT=48;TQSS_NT...   \n",
       "2  SOMATIC;QSS=48;TQSS=1;NT=ref;QSS_NT=48;TQSS_NT...   \n",
       "3  SOMATIC;QSS=91;TQSS=1;NT=ref;QSS_NT=91;TQSS_NT...   \n",
       "4  SOMATIC;QSS=62;TQSS=1;NT=ref;QSS_NT=62;TQSS_NT...   \n",
       "\n",
       "                             8                              9   \\\n",
       "0  DP:FDP:SDP:SUBDP:AU:CU:GU:TU  163:0:0:0:3,3:4,4:3,3:153,154   \n",
       "1  DP:FDP:SDP:SUBDP:AU:CU:GU:TU  163:0:0:0:3,3:4,4:3,3:153,154   \n",
       "2  DP:FDP:SDP:SUBDP:AU:CU:GU:TU  163:0:0:0:3,3:4,4:3,3:153,154   \n",
       "3  DP:FDP:SDP:SUBDP:AU:CU:GU:TU  150:0:0:0:3,3:147,148:0,0:0,0   \n",
       "4  DP:FDP:SDP:SUBDP:AU:CU:GU:TU  131:1:0:0:1,1:1,1:128,130:0,0   \n",
       "\n",
       "                                10     11      12          13      14      15  \\\n",
       "0    200:2:0:0:4,5:8,8:9,9:177,178  scf_1  MSU_v1  transcript  167216  168580   \n",
       "1    200:2:0:0:4,5:8,8:9,9:177,178  scf_1  MSU_v1        exon  167216  168580   \n",
       "2    200:2:0:0:4,5:8,8:9,9:177,178  scf_1  MSU_v1         CDS  167216  168580   \n",
       "3  231:1:0:0:52,53:178,181:0,0:0,0  scf_1  MSU_v1  transcript  860486  862164   \n",
       "4  154:1:0:0:1,2:14,14:135,137:3,3  scf_1  MSU_v1  transcript  945949  952185   \n",
       "\n",
       "  16 17 18                                                 19  \n",
       "0  .  -  .  transcript_id \"N_sal.S000450.1\"; gene_id \"N_sa...  \n",
       "1  .  -  .  transcript_id \"N_sal.S000450.1\"; gene_id \"N_sa...  \n",
       "2  .  -  0  transcript_id \"N_sal.S000450.1\"; gene_id \"N_sa...  \n",
       "3  .  +  .  transcript_id \"N_sal.S002930.1\"; gene_id \"N_sa...  \n",
       "4  .  -  .  transcript_id \"N_sal.S003280.1\"; gene_id \"N_sa...  "
      ]
     },
     "execution_count": 25,
     "metadata": {},
     "output_type": "execute_result"
    }
   ],
   "source": [
    "gene_intersects_0M_R1 = pd.read_csv('../data/nanno_sarek/variant_calling/strelka/0M_R1_vs_537_control_R2/0M_R1_vs_537_control_R2_FILTERED_SNVs_overlap_with_annotations.txt', sep='\\t', header=None)\n",
    "gene_intersects_0M_R1.head()"
   ]
  },
  {
   "cell_type": "markdown",
   "id": "74835696-9658-4acb-8f23-501a51df6479",
   "metadata": {},
   "source": [
    "Columns 0-10 are the SNVs data, while 11-19 are from the genome annotation. What we really want is the gene name from the last column for each SNV:"
   ]
  },
  {
   "cell_type": "code",
   "execution_count": 26,
   "id": "e0d521a1-b23e-4e4f-9526-a39bc88d8b4d",
   "metadata": {},
   "outputs": [],
   "source": [
    "gene_intersects_0M_R1['gene_name'] = gene_intersects_0M_R1[19].str.split('\"').str[1]"
   ]
  },
  {
   "cell_type": "markdown",
   "id": "fd086b2f-90f0-40fe-a431-035af788d7ff",
   "metadata": {},
   "source": [
    "For now, we'll only keep the CDS objects:"
   ]
  },
  {
   "cell_type": "code",
   "execution_count": 27,
   "id": "68802761-6b2d-429a-ac72-b1a787d98d12",
   "metadata": {},
   "outputs": [],
   "source": [
    "gene_intersects_0M_R1 = gene_intersects_0M_R1[gene_intersects_0M_R1[13] == 'CDS'].reset_index(drop=True)"
   ]
  },
  {
   "cell_type": "markdown",
   "id": "73bb953a-45be-4cac-a896-798c848f8266",
   "metadata": {},
   "source": [
    "How many SNV-affected genes do we have in the non-EMS mutant?"
   ]
  },
  {
   "cell_type": "code",
   "execution_count": 28,
   "id": "b4806472-afbc-44a3-b75c-ecacf71b8e78",
   "metadata": {},
   "outputs": [
    {
     "data": {
      "text/plain": [
       "40"
      ]
     },
     "execution_count": 28,
     "metadata": {},
     "output_type": "execute_result"
    }
   ],
   "source": [
    "gene_intersects_0M_R1.groupby(by='gene_name').count().shape[0]"
   ]
  },
  {
   "cell_type": "markdown",
   "id": "6c3d925e-a98a-4463-88f0-592553716005",
   "metadata": {},
   "source": [
    "Only 40! Now let's see how many of those genes overlap with SNV-affected genes in the EMS mutant; we'll do the command line step for BEDtools intersect again with that file:\n",
    "\n",
    "```\n",
    "bedtools intersect -wa -wb -a ../nanno_sarek/variant_calling/strelka/0_1M_R2_vs_537_control_R2/0_1M_R2_vs_537_control_R2_FILTERED.strelka.somatic_snvs.vcf.gz -b n_salina.working_models.gtf > ../nanno_sarek/variant_calling/strelka/0_1M_R2_vs_537_control_R2/0_1M_R2_vs_537_control_R2_FILTERED_SNVs_overlap_with_annotations.txt\n",
    "```"
   ]
  },
  {
   "cell_type": "code",
   "execution_count": 29,
   "id": "59ac6156-6320-4daf-b27c-41e06845360c",
   "metadata": {},
   "outputs": [
    {
     "data": {
      "text/html": [
       "<div>\n",
       "<style scoped>\n",
       "    .dataframe tbody tr th:only-of-type {\n",
       "        vertical-align: middle;\n",
       "    }\n",
       "\n",
       "    .dataframe tbody tr th {\n",
       "        vertical-align: top;\n",
       "    }\n",
       "\n",
       "    .dataframe thead th {\n",
       "        text-align: right;\n",
       "    }\n",
       "</style>\n",
       "<table border=\"1\" class=\"dataframe\">\n",
       "  <thead>\n",
       "    <tr style=\"text-align: right;\">\n",
       "      <th></th>\n",
       "      <th>0</th>\n",
       "      <th>1</th>\n",
       "      <th>2</th>\n",
       "      <th>3</th>\n",
       "      <th>4</th>\n",
       "      <th>5</th>\n",
       "      <th>6</th>\n",
       "      <th>7</th>\n",
       "      <th>8</th>\n",
       "      <th>9</th>\n",
       "      <th>10</th>\n",
       "      <th>11</th>\n",
       "      <th>12</th>\n",
       "      <th>13</th>\n",
       "      <th>14</th>\n",
       "      <th>15</th>\n",
       "      <th>16</th>\n",
       "      <th>17</th>\n",
       "      <th>18</th>\n",
       "      <th>19</th>\n",
       "    </tr>\n",
       "  </thead>\n",
       "  <tbody>\n",
       "    <tr>\n",
       "      <th>0</th>\n",
       "      <td>scf_1</td>\n",
       "      <td>101592</td>\n",
       "      <td>.</td>\n",
       "      <td>C</td>\n",
       "      <td>T</td>\n",
       "      <td>.</td>\n",
       "      <td>PASS</td>\n",
       "      <td>SOMATIC;QSS=97;TQSS=2;NT=ref;QSS_NT=97;TQSS_NT...</td>\n",
       "      <td>DP:FDP:SDP:SUBDP:AU:CU:GU:TU</td>\n",
       "      <td>111:4:0:0:0,0:107,115:0,2:0,0</td>\n",
       "      <td>151:8:0:0:0,1:125,137:0,2:18,18</td>\n",
       "      <td>scf_1</td>\n",
       "      <td>MSU_v1</td>\n",
       "      <td>transcript</td>\n",
       "      <td>101442</td>\n",
       "      <td>104482</td>\n",
       "      <td>.</td>\n",
       "      <td>+</td>\n",
       "      <td>.</td>\n",
       "      <td>transcript_id \"N_sal.S000260.1\"; gene_id \"N_sa...</td>\n",
       "    </tr>\n",
       "    <tr>\n",
       "      <th>1</th>\n",
       "      <td>scf_1</td>\n",
       "      <td>101592</td>\n",
       "      <td>.</td>\n",
       "      <td>C</td>\n",
       "      <td>T</td>\n",
       "      <td>.</td>\n",
       "      <td>PASS</td>\n",
       "      <td>SOMATIC;QSS=97;TQSS=2;NT=ref;QSS_NT=97;TQSS_NT...</td>\n",
       "      <td>DP:FDP:SDP:SUBDP:AU:CU:GU:TU</td>\n",
       "      <td>111:4:0:0:0,0:107,115:0,2:0,0</td>\n",
       "      <td>151:8:0:0:0,1:125,137:0,2:18,18</td>\n",
       "      <td>scf_1</td>\n",
       "      <td>MSU_v1</td>\n",
       "      <td>exon</td>\n",
       "      <td>101442</td>\n",
       "      <td>102074</td>\n",
       "      <td>.</td>\n",
       "      <td>+</td>\n",
       "      <td>.</td>\n",
       "      <td>transcript_id \"N_sal.S000260.1\"; gene_id \"N_sa...</td>\n",
       "    </tr>\n",
       "    <tr>\n",
       "      <th>2</th>\n",
       "      <td>scf_1</td>\n",
       "      <td>170428</td>\n",
       "      <td>.</td>\n",
       "      <td>C</td>\n",
       "      <td>T</td>\n",
       "      <td>.</td>\n",
       "      <td>PASS</td>\n",
       "      <td>SOMATIC;QSS=74;TQSS=1;NT=ref;QSS_NT=74;TQSS_NT...</td>\n",
       "      <td>DP:FDP:SDP:SUBDP:AU:CU:GU:TU</td>\n",
       "      <td>91:8:0:0:0,0:83,93:0,0:0,0</td>\n",
       "      <td>121:18:0:0:0,0:96,114:0,0:7,7</td>\n",
       "      <td>scf_1</td>\n",
       "      <td>MSU_v1</td>\n",
       "      <td>transcript</td>\n",
       "      <td>169388</td>\n",
       "      <td>171263</td>\n",
       "      <td>.</td>\n",
       "      <td>+</td>\n",
       "      <td>.</td>\n",
       "      <td>transcript_id \"N_sal.S000460.1\"; gene_id \"N_sa...</td>\n",
       "    </tr>\n",
       "    <tr>\n",
       "      <th>3</th>\n",
       "      <td>scf_1</td>\n",
       "      <td>286810</td>\n",
       "      <td>.</td>\n",
       "      <td>G</td>\n",
       "      <td>A</td>\n",
       "      <td>.</td>\n",
       "      <td>PASS</td>\n",
       "      <td>SOMATIC;QSS=44;TQSS=2;NT=ref;QSS_NT=44;TQSS_NT...</td>\n",
       "      <td>DP:FDP:SDP:SUBDP:AU:CU:GU:TU</td>\n",
       "      <td>201:0:0:0:1,1:0,0:200,200:0,0</td>\n",
       "      <td>205:1:0:0:5,5:0,0:199,201:0,0</td>\n",
       "      <td>scf_1</td>\n",
       "      <td>MSU_v1</td>\n",
       "      <td>transcript</td>\n",
       "      <td>286705</td>\n",
       "      <td>287415</td>\n",
       "      <td>.</td>\n",
       "      <td>+</td>\n",
       "      <td>.</td>\n",
       "      <td>transcript_id \"N_sal.S000920.1\"; gene_id \"N_sa...</td>\n",
       "    </tr>\n",
       "    <tr>\n",
       "      <th>4</th>\n",
       "      <td>scf_1</td>\n",
       "      <td>286810</td>\n",
       "      <td>.</td>\n",
       "      <td>G</td>\n",
       "      <td>A</td>\n",
       "      <td>.</td>\n",
       "      <td>PASS</td>\n",
       "      <td>SOMATIC;QSS=44;TQSS=2;NT=ref;QSS_NT=44;TQSS_NT...</td>\n",
       "      <td>DP:FDP:SDP:SUBDP:AU:CU:GU:TU</td>\n",
       "      <td>201:0:0:0:1,1:0,0:200,200:0,0</td>\n",
       "      <td>205:1:0:0:5,5:0,0:199,201:0,0</td>\n",
       "      <td>scf_1</td>\n",
       "      <td>MSU_v1</td>\n",
       "      <td>exon</td>\n",
       "      <td>286705</td>\n",
       "      <td>287415</td>\n",
       "      <td>.</td>\n",
       "      <td>+</td>\n",
       "      <td>.</td>\n",
       "      <td>transcript_id \"N_sal.S000920.1\"; gene_id \"N_sa...</td>\n",
       "    </tr>\n",
       "  </tbody>\n",
       "</table>\n",
       "</div>"
      ],
      "text/plain": [
       "      0       1  2  3  4  5     6   \\\n",
       "0  scf_1  101592  .  C  T  .  PASS   \n",
       "1  scf_1  101592  .  C  T  .  PASS   \n",
       "2  scf_1  170428  .  C  T  .  PASS   \n",
       "3  scf_1  286810  .  G  A  .  PASS   \n",
       "4  scf_1  286810  .  G  A  .  PASS   \n",
       "\n",
       "                                                  7   \\\n",
       "0  SOMATIC;QSS=97;TQSS=2;NT=ref;QSS_NT=97;TQSS_NT...   \n",
       "1  SOMATIC;QSS=97;TQSS=2;NT=ref;QSS_NT=97;TQSS_NT...   \n",
       "2  SOMATIC;QSS=74;TQSS=1;NT=ref;QSS_NT=74;TQSS_NT...   \n",
       "3  SOMATIC;QSS=44;TQSS=2;NT=ref;QSS_NT=44;TQSS_NT...   \n",
       "4  SOMATIC;QSS=44;TQSS=2;NT=ref;QSS_NT=44;TQSS_NT...   \n",
       "\n",
       "                             8                              9   \\\n",
       "0  DP:FDP:SDP:SUBDP:AU:CU:GU:TU  111:4:0:0:0,0:107,115:0,2:0,0   \n",
       "1  DP:FDP:SDP:SUBDP:AU:CU:GU:TU  111:4:0:0:0,0:107,115:0,2:0,0   \n",
       "2  DP:FDP:SDP:SUBDP:AU:CU:GU:TU     91:8:0:0:0,0:83,93:0,0:0,0   \n",
       "3  DP:FDP:SDP:SUBDP:AU:CU:GU:TU  201:0:0:0:1,1:0,0:200,200:0,0   \n",
       "4  DP:FDP:SDP:SUBDP:AU:CU:GU:TU  201:0:0:0:1,1:0,0:200,200:0,0   \n",
       "\n",
       "                                10     11      12          13      14      15  \\\n",
       "0  151:8:0:0:0,1:125,137:0,2:18,18  scf_1  MSU_v1  transcript  101442  104482   \n",
       "1  151:8:0:0:0,1:125,137:0,2:18,18  scf_1  MSU_v1        exon  101442  102074   \n",
       "2    121:18:0:0:0,0:96,114:0,0:7,7  scf_1  MSU_v1  transcript  169388  171263   \n",
       "3    205:1:0:0:5,5:0,0:199,201:0,0  scf_1  MSU_v1  transcript  286705  287415   \n",
       "4    205:1:0:0:5,5:0,0:199,201:0,0  scf_1  MSU_v1        exon  286705  287415   \n",
       "\n",
       "  16 17 18                                                 19  \n",
       "0  .  +  .  transcript_id \"N_sal.S000260.1\"; gene_id \"N_sa...  \n",
       "1  .  +  .  transcript_id \"N_sal.S000260.1\"; gene_id \"N_sa...  \n",
       "2  .  +  .  transcript_id \"N_sal.S000460.1\"; gene_id \"N_sa...  \n",
       "3  .  +  .  transcript_id \"N_sal.S000920.1\"; gene_id \"N_sa...  \n",
       "4  .  +  .  transcript_id \"N_sal.S000920.1\"; gene_id \"N_sa...  "
      ]
     },
     "execution_count": 29,
     "metadata": {},
     "output_type": "execute_result"
    }
   ],
   "source": [
    "gene_intersects_0_1M_R2 = pd.read_csv('../data/nanno_sarek/variant_calling/strelka/0_1M_R2_vs_537_control_R2/0_1M_R2_vs_537_control_R2_FILTERED_SNVs_overlap_with_annotations.txt', sep='\\t', header=None)\n",
    "gene_intersects_0_1M_R2.head()"
   ]
  },
  {
   "cell_type": "code",
   "execution_count": 30,
   "id": "3561a41b-3b85-48b9-b149-218c54370027",
   "metadata": {},
   "outputs": [],
   "source": [
    "gene_intersects_0_1M_R2['gene_name'] = gene_intersects_0_1M_R2[19].str.split('\"').str[1]\n",
    "gene_intersects_0_1M_R2 = gene_intersects_0_1M_R2[gene_intersects_0_1M_R2[13] == 'CDS'].reset_index(drop=True)"
   ]
  },
  {
   "cell_type": "code",
   "execution_count": 31,
   "id": "417ba4bd-75de-4183-ba63-54781083c018",
   "metadata": {},
   "outputs": [
    {
     "data": {
      "text/plain": [
       "345"
      ]
     },
     "execution_count": 31,
     "metadata": {},
     "output_type": "execute_result"
    }
   ],
   "source": [
    "gene_intersects_0_1M_R2.groupby(by='gene_name').count().shape[0]"
   ]
  },
  {
   "cell_type": "code",
   "execution_count": 32,
   "id": "176417d3-dcd0-4358-a225-2bb5681dc87c",
   "metadata": {},
   "outputs": [],
   "source": [
    "ems_genes = gene_intersects_0_1M_R2.groupby(by='gene_name').count().index.tolist()\n",
    "normal_genes = gene_intersects_0M_R1.groupby(by='gene_name').count().index.tolist()"
   ]
  },
  {
   "cell_type": "code",
   "execution_count": 33,
   "id": "0f8308df-244a-4031-b63e-9789f3308886",
   "metadata": {},
   "outputs": [
    {
     "data": {
      "text/plain": [
       "{'N_sal.S003280.1', 'N_sal.S084590.1', 'N_sal.S088740.1'}"
      ]
     },
     "execution_count": 33,
     "metadata": {},
     "output_type": "execute_result"
    }
   ],
   "source": [
    "overlapping_snps = set(ems_genes).intersection(set(normal_genes))\n",
    "overlapping_snps"
   ]
  },
  {
   "cell_type": "markdown",
   "id": "b120acf4-7061-4a2d-b289-5ebecaf9792a",
   "metadata": {},
   "source": [
    "Only 3 genes overlap between the two conditions!"
   ]
  },
  {
   "cell_type": "markdown",
   "id": "0c039049-dec8-4ffa-8834-86fe402a6bc5",
   "metadata": {},
   "source": [
    "Now let's look at which indels appear in coding regions:\n",
    "\n",
    "```\n",
    "bedtools intersect -wa -wb -a ../nanno_sarek/variant_calling/strelka/0M_R1_vs_537_control_R2/0M_R1_vs_537_control_R2_FILTERED.strelka.somatic_indels.vcf.gz -b n_salina.working_models.gtf > ../nanno_sarek/variant_calling/strelka/0M_R1_vs_537_control_R2/0M_R1_vs_537_control_R2_FILTERED_indels_overlap_with_annotations.txt\n",
    "\n",
    "bedtools intersect -wa -wb -a ../nanno_sarek/variant_calling/strelka/0_1M_R2_vs_537_control_R2/0_1M_R2_vs_537_control_R2_FILTERED.strelka.somatic_indels.vcf.gz -b n_salina.working_models.gtf > ../nanno_sarek/variant_calling/strelka/0_1M_R2_vs_537_control_R2/0_1M_R2_vs_537_control_R2_FILTERED_indels_overlap_with_annotations.txt\n",
    "```"
   ]
  },
  {
   "cell_type": "code",
   "execution_count": 34,
   "id": "aa4327cd-68ed-4ffe-86be-754253f7036e",
   "metadata": {},
   "outputs": [
    {
     "data": {
      "text/html": [
       "<div>\n",
       "<style scoped>\n",
       "    .dataframe tbody tr th:only-of-type {\n",
       "        vertical-align: middle;\n",
       "    }\n",
       "\n",
       "    .dataframe tbody tr th {\n",
       "        vertical-align: top;\n",
       "    }\n",
       "\n",
       "    .dataframe thead th {\n",
       "        text-align: right;\n",
       "    }\n",
       "</style>\n",
       "<table border=\"1\" class=\"dataframe\">\n",
       "  <thead>\n",
       "    <tr style=\"text-align: right;\">\n",
       "      <th></th>\n",
       "      <th>0</th>\n",
       "      <th>1</th>\n",
       "      <th>2</th>\n",
       "      <th>3</th>\n",
       "      <th>4</th>\n",
       "      <th>5</th>\n",
       "      <th>6</th>\n",
       "      <th>7</th>\n",
       "      <th>8</th>\n",
       "      <th>9</th>\n",
       "      <th>10</th>\n",
       "      <th>11</th>\n",
       "      <th>12</th>\n",
       "      <th>13</th>\n",
       "      <th>14</th>\n",
       "      <th>15</th>\n",
       "      <th>16</th>\n",
       "      <th>17</th>\n",
       "      <th>18</th>\n",
       "      <th>19</th>\n",
       "    </tr>\n",
       "  </thead>\n",
       "  <tbody>\n",
       "    <tr>\n",
       "      <th>0</th>\n",
       "      <td>scf_2</td>\n",
       "      <td>453749</td>\n",
       "      <td>.</td>\n",
       "      <td>AC</td>\n",
       "      <td>A</td>\n",
       "      <td>.</td>\n",
       "      <td>PASS</td>\n",
       "      <td>SOMATIC;QSI=66;TQSI=1;NT=ref;QSI_NT=66;TQSI_NT...</td>\n",
       "      <td>DP:DP2:TAR:TIR:TOR:DP50:FDP50:SUBDP50:BCN50</td>\n",
       "      <td>118:118:103,116:3,3:13,1:118.96:7.27:0:0.06</td>\n",
       "      <td>121:121:72,83:23,26:25,13:116.66:6.6:0:0.05</td>\n",
       "      <td>scf_2</td>\n",
       "      <td>MSU_v1</td>\n",
       "      <td>transcript</td>\n",
       "      <td>452792</td>\n",
       "      <td>455413</td>\n",
       "      <td>.</td>\n",
       "      <td>-</td>\n",
       "      <td>.</td>\n",
       "      <td>transcript_id \"N_sal.S016490.1\"; gene_id \"N_sa...</td>\n",
       "    </tr>\n",
       "    <tr>\n",
       "      <th>1</th>\n",
       "      <td>scf_11</td>\n",
       "      <td>803969</td>\n",
       "      <td>.</td>\n",
       "      <td>T</td>\n",
       "      <td>TCGACGG</td>\n",
       "      <td>.</td>\n",
       "      <td>PASS</td>\n",
       "      <td>SOMATIC;QSI=109;TQSI=1;NT=ref;QSI_NT=109;TQSI_...</td>\n",
       "      <td>DP:DP2:TAR:TIR:TOR:DP50:FDP50:SUBDP50:BCN50</td>\n",
       "      <td>125:125:119,119:0,0:4,4:137.93:0.01:0:0</td>\n",
       "      <td>192:192:142,143:30,30:18,18:181.19:0.56:0:0</td>\n",
       "      <td>scf_11</td>\n",
       "      <td>MSU_v1</td>\n",
       "      <td>transcript</td>\n",
       "      <td>803966</td>\n",
       "      <td>806674</td>\n",
       "      <td>.</td>\n",
       "      <td>-</td>\n",
       "      <td>.</td>\n",
       "      <td>transcript_id \"N_sal.S061470.1\"; gene_id \"N_sa...</td>\n",
       "    </tr>\n",
       "    <tr>\n",
       "      <th>2</th>\n",
       "      <td>scf_11</td>\n",
       "      <td>803969</td>\n",
       "      <td>.</td>\n",
       "      <td>T</td>\n",
       "      <td>TCGACGG</td>\n",
       "      <td>.</td>\n",
       "      <td>PASS</td>\n",
       "      <td>SOMATIC;QSI=109;TQSI=1;NT=ref;QSI_NT=109;TQSI_...</td>\n",
       "      <td>DP:DP2:TAR:TIR:TOR:DP50:FDP50:SUBDP50:BCN50</td>\n",
       "      <td>125:125:119,119:0,0:4,4:137.93:0.01:0:0</td>\n",
       "      <td>192:192:142,143:30,30:18,18:181.19:0.56:0:0</td>\n",
       "      <td>scf_11</td>\n",
       "      <td>MSU_v1</td>\n",
       "      <td>exon</td>\n",
       "      <td>803966</td>\n",
       "      <td>804529</td>\n",
       "      <td>.</td>\n",
       "      <td>-</td>\n",
       "      <td>.</td>\n",
       "      <td>transcript_id \"N_sal.S061470.1\"; gene_id \"N_sa...</td>\n",
       "    </tr>\n",
       "    <tr>\n",
       "      <th>3</th>\n",
       "      <td>scf_11</td>\n",
       "      <td>803969</td>\n",
       "      <td>.</td>\n",
       "      <td>T</td>\n",
       "      <td>TCGACGG</td>\n",
       "      <td>.</td>\n",
       "      <td>PASS</td>\n",
       "      <td>SOMATIC;QSI=109;TQSI=1;NT=ref;QSI_NT=109;TQSI_...</td>\n",
       "      <td>DP:DP2:TAR:TIR:TOR:DP50:FDP50:SUBDP50:BCN50</td>\n",
       "      <td>125:125:119,119:0,0:4,4:137.93:0.01:0:0</td>\n",
       "      <td>192:192:142,143:30,30:18,18:181.19:0.56:0:0</td>\n",
       "      <td>scf_11</td>\n",
       "      <td>MSU_v1</td>\n",
       "      <td>CDS</td>\n",
       "      <td>803966</td>\n",
       "      <td>804529</td>\n",
       "      <td>.</td>\n",
       "      <td>-</td>\n",
       "      <td>0</td>\n",
       "      <td>transcript_id \"N_sal.S061470.1\"; gene_id \"N_sa...</td>\n",
       "    </tr>\n",
       "    <tr>\n",
       "      <th>4</th>\n",
       "      <td>scf_17</td>\n",
       "      <td>66764</td>\n",
       "      <td>.</td>\n",
       "      <td>C</td>\n",
       "      <td>CCCTT</td>\n",
       "      <td>.</td>\n",
       "      <td>PASS</td>\n",
       "      <td>SOMATIC;QSI=95;TQSI=2;NT=ref;QSI_NT=95;TQSI_NT...</td>\n",
       "      <td>DP:DP2:TAR:TIR:TOR:DP50:FDP50:SUBDP50:BCN50</td>\n",
       "      <td>98:98:87,91:2,5:14,8:95.48:11.66:0:0.12</td>\n",
       "      <td>82:82:50,52:26,28:10,7:77.84:7.28:0:0.09</td>\n",
       "      <td>scf_17</td>\n",
       "      <td>MSU_v1</td>\n",
       "      <td>transcript</td>\n",
       "      <td>63757</td>\n",
       "      <td>70998</td>\n",
       "      <td>.</td>\n",
       "      <td>+</td>\n",
       "      <td>.</td>\n",
       "      <td>transcript_id \"N_sal.S064940.1\"; gene_id \"N_sa...</td>\n",
       "    </tr>\n",
       "  </tbody>\n",
       "</table>\n",
       "</div>"
      ],
      "text/plain": [
       "       0       1  2   3        4  5     6   \\\n",
       "0   scf_2  453749  .  AC        A  .  PASS   \n",
       "1  scf_11  803969  .   T  TCGACGG  .  PASS   \n",
       "2  scf_11  803969  .   T  TCGACGG  .  PASS   \n",
       "3  scf_11  803969  .   T  TCGACGG  .  PASS   \n",
       "4  scf_17   66764  .   C    CCCTT  .  PASS   \n",
       "\n",
       "                                                  7   \\\n",
       "0  SOMATIC;QSI=66;TQSI=1;NT=ref;QSI_NT=66;TQSI_NT...   \n",
       "1  SOMATIC;QSI=109;TQSI=1;NT=ref;QSI_NT=109;TQSI_...   \n",
       "2  SOMATIC;QSI=109;TQSI=1;NT=ref;QSI_NT=109;TQSI_...   \n",
       "3  SOMATIC;QSI=109;TQSI=1;NT=ref;QSI_NT=109;TQSI_...   \n",
       "4  SOMATIC;QSI=95;TQSI=2;NT=ref;QSI_NT=95;TQSI_NT...   \n",
       "\n",
       "                                            8   \\\n",
       "0  DP:DP2:TAR:TIR:TOR:DP50:FDP50:SUBDP50:BCN50   \n",
       "1  DP:DP2:TAR:TIR:TOR:DP50:FDP50:SUBDP50:BCN50   \n",
       "2  DP:DP2:TAR:TIR:TOR:DP50:FDP50:SUBDP50:BCN50   \n",
       "3  DP:DP2:TAR:TIR:TOR:DP50:FDP50:SUBDP50:BCN50   \n",
       "4  DP:DP2:TAR:TIR:TOR:DP50:FDP50:SUBDP50:BCN50   \n",
       "\n",
       "                                            9   \\\n",
       "0  118:118:103,116:3,3:13,1:118.96:7.27:0:0.06   \n",
       "1      125:125:119,119:0,0:4,4:137.93:0.01:0:0   \n",
       "2      125:125:119,119:0,0:4,4:137.93:0.01:0:0   \n",
       "3      125:125:119,119:0,0:4,4:137.93:0.01:0:0   \n",
       "4      98:98:87,91:2,5:14,8:95.48:11.66:0:0.12   \n",
       "\n",
       "                                            10      11      12          13  \\\n",
       "0  121:121:72,83:23,26:25,13:116.66:6.6:0:0.05   scf_2  MSU_v1  transcript   \n",
       "1  192:192:142,143:30,30:18,18:181.19:0.56:0:0  scf_11  MSU_v1  transcript   \n",
       "2  192:192:142,143:30,30:18,18:181.19:0.56:0:0  scf_11  MSU_v1        exon   \n",
       "3  192:192:142,143:30,30:18,18:181.19:0.56:0:0  scf_11  MSU_v1         CDS   \n",
       "4     82:82:50,52:26,28:10,7:77.84:7.28:0:0.09  scf_17  MSU_v1  transcript   \n",
       "\n",
       "       14      15 16 17 18                                                 19  \n",
       "0  452792  455413  .  -  .  transcript_id \"N_sal.S016490.1\"; gene_id \"N_sa...  \n",
       "1  803966  806674  .  -  .  transcript_id \"N_sal.S061470.1\"; gene_id \"N_sa...  \n",
       "2  803966  804529  .  -  .  transcript_id \"N_sal.S061470.1\"; gene_id \"N_sa...  \n",
       "3  803966  804529  .  -  0  transcript_id \"N_sal.S061470.1\"; gene_id \"N_sa...  \n",
       "4   63757   70998  .  +  .  transcript_id \"N_sal.S064940.1\"; gene_id \"N_sa...  "
      ]
     },
     "execution_count": 34,
     "metadata": {},
     "output_type": "execute_result"
    }
   ],
   "source": [
    "indel_intersects_0M_R1 = pd.read_csv('../data/nanno_sarek/variant_calling/strelka/0M_R1_vs_537_control_R2/0M_R1_vs_537_control_R2_FILTERED_indels_overlap_with_annotations.txt', sep='\\t', header=None)\n",
    "indel_intersects_0M_R1.head()"
   ]
  },
  {
   "cell_type": "code",
   "execution_count": 35,
   "id": "d385f6b8-a224-4507-9b6b-2aa6d3aaa0e7",
   "metadata": {},
   "outputs": [
    {
     "data": {
      "text/plain": [
       "2"
      ]
     },
     "execution_count": 35,
     "metadata": {},
     "output_type": "execute_result"
    }
   ],
   "source": [
    "indel_intersects_0M_R1['gene_name'] = indel_intersects_0M_R1[19].str.split('\"').str[1]\n",
    "indel_intersects_0M_R1 = indel_intersects_0M_R1[indel_intersects_0M_R1[13] == 'CDS'].reset_index(drop=True)\n",
    "indel_intersects_0M_R1.groupby(by='gene_name').count().shape[0]"
   ]
  },
  {
   "cell_type": "code",
   "execution_count": 36,
   "id": "2e439382-8eeb-4062-abac-ae33e9e03622",
   "metadata": {},
   "outputs": [
    {
     "data": {
      "text/html": [
       "<div>\n",
       "<style scoped>\n",
       "    .dataframe tbody tr th:only-of-type {\n",
       "        vertical-align: middle;\n",
       "    }\n",
       "\n",
       "    .dataframe tbody tr th {\n",
       "        vertical-align: top;\n",
       "    }\n",
       "\n",
       "    .dataframe thead th {\n",
       "        text-align: right;\n",
       "    }\n",
       "</style>\n",
       "<table border=\"1\" class=\"dataframe\">\n",
       "  <thead>\n",
       "    <tr style=\"text-align: right;\">\n",
       "      <th></th>\n",
       "      <th>0</th>\n",
       "      <th>1</th>\n",
       "      <th>2</th>\n",
       "      <th>3</th>\n",
       "      <th>4</th>\n",
       "      <th>5</th>\n",
       "      <th>6</th>\n",
       "      <th>7</th>\n",
       "      <th>8</th>\n",
       "      <th>9</th>\n",
       "      <th>10</th>\n",
       "      <th>11</th>\n",
       "      <th>12</th>\n",
       "      <th>13</th>\n",
       "      <th>14</th>\n",
       "      <th>15</th>\n",
       "      <th>16</th>\n",
       "      <th>17</th>\n",
       "      <th>18</th>\n",
       "      <th>19</th>\n",
       "    </tr>\n",
       "  </thead>\n",
       "  <tbody>\n",
       "    <tr>\n",
       "      <th>0</th>\n",
       "      <td>scf_14</td>\n",
       "      <td>627792</td>\n",
       "      <td>.</td>\n",
       "      <td>C</td>\n",
       "      <td>CCCCTCTCT</td>\n",
       "      <td>.</td>\n",
       "      <td>PASS</td>\n",
       "      <td>SOMATIC;QSI=153;TQSI=1;NT=ref;QSI_NT=154;TQSI_...</td>\n",
       "      <td>DP:DP2:TAR:TIR:TOR:DP50:FDP50:SUBDP50:BCN50</td>\n",
       "      <td>109:109:107,107:0,0:2,2:108.73:5.09:0:0.05</td>\n",
       "      <td>96:96:62,65:31,32:3,3:93.88:5.66:0:0.05</td>\n",
       "      <td>scf_14</td>\n",
       "      <td>MSU_v1</td>\n",
       "      <td>transcript</td>\n",
       "      <td>625605</td>\n",
       "      <td>629168</td>\n",
       "      <td>.</td>\n",
       "      <td>-</td>\n",
       "      <td>.</td>\n",
       "      <td>transcript_id \"N_sal.S080730.1\"; gene_id \"N_sa...</td>\n",
       "    </tr>\n",
       "    <tr>\n",
       "      <th>1</th>\n",
       "      <td>scf_16</td>\n",
       "      <td>149718</td>\n",
       "      <td>.</td>\n",
       "      <td>A</td>\n",
       "      <td>AAT</td>\n",
       "      <td>.</td>\n",
       "      <td>PASS</td>\n",
       "      <td>SOMATIC;QSI=48;TQSI=1;NT=ref;QSI_NT=48;TQSI_NT...</td>\n",
       "      <td>DP:DP2:TAR:TIR:TOR:DP50:FDP50:SUBDP50:BCN50</td>\n",
       "      <td>30:30:24,24:0,0:4,5:39.61:0.27:0:0</td>\n",
       "      <td>28:28:22,23:4,4:2,2:36.04:0.47:0:0</td>\n",
       "      <td>scf_16</td>\n",
       "      <td>MSU_v1</td>\n",
       "      <td>transcript</td>\n",
       "      <td>147799</td>\n",
       "      <td>151161</td>\n",
       "      <td>.</td>\n",
       "      <td>-</td>\n",
       "      <td>.</td>\n",
       "      <td>transcript_id \"N_sal.S073150.2\"; gene_id \"N_sa...</td>\n",
       "    </tr>\n",
       "    <tr>\n",
       "      <th>2</th>\n",
       "      <td>scf_16</td>\n",
       "      <td>149718</td>\n",
       "      <td>.</td>\n",
       "      <td>A</td>\n",
       "      <td>AAT</td>\n",
       "      <td>.</td>\n",
       "      <td>PASS</td>\n",
       "      <td>SOMATIC;QSI=48;TQSI=1;NT=ref;QSI_NT=48;TQSI_NT...</td>\n",
       "      <td>DP:DP2:TAR:TIR:TOR:DP50:FDP50:SUBDP50:BCN50</td>\n",
       "      <td>30:30:24,24:0,0:4,5:39.61:0.27:0:0</td>\n",
       "      <td>28:28:22,23:4,4:2,2:36.04:0.47:0:0</td>\n",
       "      <td>scf_16</td>\n",
       "      <td>MSU_v1</td>\n",
       "      <td>transcript</td>\n",
       "      <td>147799</td>\n",
       "      <td>151367</td>\n",
       "      <td>.</td>\n",
       "      <td>-</td>\n",
       "      <td>.</td>\n",
       "      <td>transcript_id \"N_sal.S073150.1\"; gene_id \"N_sa...</td>\n",
       "    </tr>\n",
       "    <tr>\n",
       "      <th>3</th>\n",
       "      <td>scf_16</td>\n",
       "      <td>149718</td>\n",
       "      <td>.</td>\n",
       "      <td>A</td>\n",
       "      <td>AAT</td>\n",
       "      <td>.</td>\n",
       "      <td>PASS</td>\n",
       "      <td>SOMATIC;QSI=48;TQSI=1;NT=ref;QSI_NT=48;TQSI_NT...</td>\n",
       "      <td>DP:DP2:TAR:TIR:TOR:DP50:FDP50:SUBDP50:BCN50</td>\n",
       "      <td>30:30:24,24:0,0:4,5:39.61:0.27:0:0</td>\n",
       "      <td>28:28:22,23:4,4:2,2:36.04:0.47:0:0</td>\n",
       "      <td>scf_16</td>\n",
       "      <td>MSU_v1</td>\n",
       "      <td>transcript</td>\n",
       "      <td>147813</td>\n",
       "      <td>151295</td>\n",
       "      <td>.</td>\n",
       "      <td>-</td>\n",
       "      <td>.</td>\n",
       "      <td>transcript_id \"N_sal.S073150.3\"; gene_id \"N_sa...</td>\n",
       "    </tr>\n",
       "    <tr>\n",
       "      <th>4</th>\n",
       "      <td>scf_20</td>\n",
       "      <td>158358</td>\n",
       "      <td>.</td>\n",
       "      <td>A</td>\n",
       "      <td>AG</td>\n",
       "      <td>.</td>\n",
       "      <td>PASS</td>\n",
       "      <td>SOMATIC;QSI=38;TQSI=1;NT=ref;QSI_NT=38;TQSI_NT...</td>\n",
       "      <td>DP:DP2:TAR:TIR:TOR:DP50:FDP50:SUBDP50:BCN50</td>\n",
       "      <td>36:36:35,39:0,0:1,1:34.41:2.26:0:0.06</td>\n",
       "      <td>57:57:47,48:6,6:4,6:51.67:1.93:0:0.02</td>\n",
       "      <td>scf_20</td>\n",
       "      <td>MSU_v1</td>\n",
       "      <td>transcript</td>\n",
       "      <td>152063</td>\n",
       "      <td>162621</td>\n",
       "      <td>.</td>\n",
       "      <td>-</td>\n",
       "      <td>.</td>\n",
       "      <td>transcript_id \"N_sal.S050720.1\"; gene_id \"N_sa...</td>\n",
       "    </tr>\n",
       "  </tbody>\n",
       "</table>\n",
       "</div>"
      ],
      "text/plain": [
       "       0       1  2  3          4  5     6   \\\n",
       "0  scf_14  627792  .  C  CCCCTCTCT  .  PASS   \n",
       "1  scf_16  149718  .  A        AAT  .  PASS   \n",
       "2  scf_16  149718  .  A        AAT  .  PASS   \n",
       "3  scf_16  149718  .  A        AAT  .  PASS   \n",
       "4  scf_20  158358  .  A         AG  .  PASS   \n",
       "\n",
       "                                                  7   \\\n",
       "0  SOMATIC;QSI=153;TQSI=1;NT=ref;QSI_NT=154;TQSI_...   \n",
       "1  SOMATIC;QSI=48;TQSI=1;NT=ref;QSI_NT=48;TQSI_NT...   \n",
       "2  SOMATIC;QSI=48;TQSI=1;NT=ref;QSI_NT=48;TQSI_NT...   \n",
       "3  SOMATIC;QSI=48;TQSI=1;NT=ref;QSI_NT=48;TQSI_NT...   \n",
       "4  SOMATIC;QSI=38;TQSI=1;NT=ref;QSI_NT=38;TQSI_NT...   \n",
       "\n",
       "                                            8   \\\n",
       "0  DP:DP2:TAR:TIR:TOR:DP50:FDP50:SUBDP50:BCN50   \n",
       "1  DP:DP2:TAR:TIR:TOR:DP50:FDP50:SUBDP50:BCN50   \n",
       "2  DP:DP2:TAR:TIR:TOR:DP50:FDP50:SUBDP50:BCN50   \n",
       "3  DP:DP2:TAR:TIR:TOR:DP50:FDP50:SUBDP50:BCN50   \n",
       "4  DP:DP2:TAR:TIR:TOR:DP50:FDP50:SUBDP50:BCN50   \n",
       "\n",
       "                                           9   \\\n",
       "0  109:109:107,107:0,0:2,2:108.73:5.09:0:0.05   \n",
       "1          30:30:24,24:0,0:4,5:39.61:0.27:0:0   \n",
       "2          30:30:24,24:0,0:4,5:39.61:0.27:0:0   \n",
       "3          30:30:24,24:0,0:4,5:39.61:0.27:0:0   \n",
       "4       36:36:35,39:0,0:1,1:34.41:2.26:0:0.06   \n",
       "\n",
       "                                        10      11      12          13  \\\n",
       "0  96:96:62,65:31,32:3,3:93.88:5.66:0:0.05  scf_14  MSU_v1  transcript   \n",
       "1       28:28:22,23:4,4:2,2:36.04:0.47:0:0  scf_16  MSU_v1  transcript   \n",
       "2       28:28:22,23:4,4:2,2:36.04:0.47:0:0  scf_16  MSU_v1  transcript   \n",
       "3       28:28:22,23:4,4:2,2:36.04:0.47:0:0  scf_16  MSU_v1  transcript   \n",
       "4    57:57:47,48:6,6:4,6:51.67:1.93:0:0.02  scf_20  MSU_v1  transcript   \n",
       "\n",
       "       14      15 16 17 18                                                 19  \n",
       "0  625605  629168  .  -  .  transcript_id \"N_sal.S080730.1\"; gene_id \"N_sa...  \n",
       "1  147799  151161  .  -  .  transcript_id \"N_sal.S073150.2\"; gene_id \"N_sa...  \n",
       "2  147799  151367  .  -  .  transcript_id \"N_sal.S073150.1\"; gene_id \"N_sa...  \n",
       "3  147813  151295  .  -  .  transcript_id \"N_sal.S073150.3\"; gene_id \"N_sa...  \n",
       "4  152063  162621  .  -  .  transcript_id \"N_sal.S050720.1\"; gene_id \"N_sa...  "
      ]
     },
     "execution_count": 36,
     "metadata": {},
     "output_type": "execute_result"
    }
   ],
   "source": [
    "indel_intersects_0_1M_R2 = pd.read_csv('../data/nanno_sarek/variant_calling/strelka/0_1M_R2_vs_537_control_R2/0_1M_R2_vs_537_control_R2_FILTERED_indels_overlap_with_annotations.txt', sep='\\t', header=None)\n",
    "indel_intersects_0_1M_R2.head()"
   ]
  },
  {
   "cell_type": "code",
   "execution_count": 37,
   "id": "3b8e6a98-802f-4d62-9318-90dfaa6cf5bc",
   "metadata": {},
   "outputs": [
    {
     "data": {
      "text/plain": [
       "1"
      ]
     },
     "execution_count": 37,
     "metadata": {},
     "output_type": "execute_result"
    }
   ],
   "source": [
    "indel_intersects_0_1M_R2['gene_name'] = indel_intersects_0_1M_R2[19].str.split('\"').str[1]\n",
    "indel_intersects_0_1M_R2 = indel_intersects_0_1M_R2[indel_intersects_0_1M_R2[13] == 'CDS'].reset_index(drop=True)\n",
    "indel_intersects_0_1M_R2.groupby(by='gene_name').count().shape[0]"
   ]
  },
  {
   "cell_type": "markdown",
   "id": "0cce22ce-2b68-4aaf-b80e-d2dee6c84bec",
   "metadata": {},
   "source": [
    "Only 3 indels overlap coding regions -- what genes are they?"
   ]
  },
  {
   "cell_type": "code",
   "execution_count": 38,
   "id": "bd8e175a-5e98-4aa3-addc-18a4a5eebc0a",
   "metadata": {},
   "outputs": [
    {
     "data": {
      "text/plain": [
       "(['N_sal.S061470.1', 'N_sal.S084590.1'], ['N_sal.S034610.1'])"
      ]
     },
     "execution_count": 38,
     "metadata": {},
     "output_type": "execute_result"
    }
   ],
   "source": [
    "indel_genes_0M_R1 = indel_intersects_0M_R1.groupby(by='gene_name').count().index.tolist()\n",
    "indel_genes_0_1M_R2 = indel_intersects_0_1M_R2.groupby(by='gene_name').count().index.tolist()\n",
    "indel_genes_0M_R1, indel_genes_0_1M_R2"
   ]
  },
  {
   "cell_type": "markdown",
   "id": "9a0c0090-b93d-4bbc-98ad-f07202361a65",
   "metadata": {},
   "source": [
    "None of them overlap between the two mutation conditions:"
   ]
  },
  {
   "cell_type": "code",
   "execution_count": 39,
   "id": "2ae112ab-2d34-413a-b8a4-395b4ae2a93e",
   "metadata": {},
   "outputs": [
    {
     "data": {
      "text/plain": [
       "set()"
      ]
     },
     "execution_count": 39,
     "metadata": {},
     "output_type": "execute_result"
    }
   ],
   "source": [
    "overlapping_indels = set(indel_genes_0M_R1).intersection(set(indel_genes_0_1M_R2))\n",
    "overlapping_indels"
   ]
  },
  {
   "cell_type": "markdown",
   "id": "834219e4-1dea-4de2-b1f3-0434f4d2c3ee",
   "metadata": {},
   "source": [
    "Do any of them appear in genes that also have SNPs?"
   ]
  },
  {
   "cell_type": "code",
   "execution_count": 40,
   "id": "81094967-138f-4a04-b04a-510b89ea8f97",
   "metadata": {},
   "outputs": [
    {
     "data": {
      "text/plain": [
       "{'N_sal.S084590.1'}"
      ]
     },
     "execution_count": 40,
     "metadata": {},
     "output_type": "execute_result"
    }
   ],
   "source": [
    "set(indel_genes_0M_R1).intersection(set(normal_genes))"
   ]
  },
  {
   "cell_type": "code",
   "execution_count": 41,
   "id": "72f16084-b0bb-410f-8dc7-b14ec780a5cd",
   "metadata": {},
   "outputs": [
    {
     "data": {
      "text/plain": [
       "set()"
      ]
     },
     "execution_count": 41,
     "metadata": {},
     "output_type": "execute_result"
    }
   ],
   "source": [
    "set(indel_genes_0_1M_R2).intersection(set(ems_genes))"
   ]
  },
  {
   "cell_type": "markdown",
   "id": "f9a17184-6098-4018-94d1-79d19d56bc64",
   "metadata": {},
   "source": [
    "We also want to crosscheck these for overlapping genes; a similar phenotype could be caused by one sample having a SNP in the gene while the other has an indel."
   ]
  },
  {
   "cell_type": "code",
   "execution_count": 42,
   "id": "5bec3d45-8c66-4547-848e-04afe6350529",
   "metadata": {},
   "outputs": [
    {
     "data": {
      "text/plain": [
       "{'N_sal.S084590.1'}"
      ]
     },
     "execution_count": 42,
     "metadata": {},
     "output_type": "execute_result"
    }
   ],
   "source": [
    "set(indel_genes_0M_R1).intersection(set(ems_genes))"
   ]
  },
  {
   "cell_type": "code",
   "execution_count": 43,
   "id": "ffd041b3-cccd-401a-8ea3-d1f6a5d4aaf0",
   "metadata": {},
   "outputs": [
    {
     "data": {
      "text/plain": [
       "set()"
      ]
     },
     "execution_count": 43,
     "metadata": {},
     "output_type": "execute_result"
    }
   ],
   "source": [
    "set(indel_genes_0_1M_R2).intersection(set(normal_genes))"
   ]
  },
  {
   "cell_type": "markdown",
   "id": "c2bc49ac-3d9e-4692-9047-6f223337b49d",
   "metadata": {},
   "source": [
    "This is the same gene as before; because both samples have SNPs in it, in addition to the non-EMS sample having an indel there."
   ]
  },
  {
   "cell_type": "markdown",
   "id": "9b203f9c-a7ca-4c26-9436-83fac7a91cfd",
   "metadata": {},
   "source": [
    "## Combining allele frequencies and gene annotations\n",
    "We've separately seen that no allele has an alternate frequency of more than 0.5, and we've matched SNVs to genes. But do our high-frequency alleles correspond with genic regions, or do they account for some of the non-coding sequence mutations that we filtered out in the previous step?\n",
    "\n",
    "First, make a map between gene names and the notation we've been using to identify individual SNVs:"
   ]
  },
  {
   "cell_type": "code",
   "execution_count": 44,
   "id": "4bda0d5b-24ee-456a-9961-defbc0a75701",
   "metadata": {},
   "outputs": [],
   "source": [
    "gene_intersects_0M_R1['snv_id'] = gene_intersects_0M_R1[0] + '_' + gene_intersects_0M_R1[1].astype('str') + '_' + gene_intersects_0M_R1[3] + '_' + gene_intersects_0M_R1[4]\n",
    "snv2gene_0M_R1 = gene_intersects_0M_R1[['snv_id', 'gene_name']].set_index('snv_id').to_dict()['gene_name']"
   ]
  },
  {
   "cell_type": "code",
   "execution_count": 45,
   "id": "4b46cefb-a705-4adb-af41-56ab8095db1a",
   "metadata": {},
   "outputs": [],
   "source": [
    "gene_intersects_0_1M_R2['snv_id'] = gene_intersects_0_1M_R2[0] + '_' + gene_intersects_0_1M_R2[1].astype('str') + '_' + gene_intersects_0_1M_R2[3] + '_' + gene_intersects_0_1M_R2[4]\n",
    "snv2gene_0_1M_R2 = gene_intersects_0_1M_R2[['snv_id', 'gene_name']].set_index('snv_id').to_dict()['gene_name']"
   ]
  },
  {
   "cell_type": "markdown",
   "id": "60191a3f-ded3-4676-83e8-64e5378b2754",
   "metadata": {},
   "source": [
    "Now, let's make a swarmplot of the allele frequencies, coloring those in genic regions a different color:"
   ]
  },
  {
   "cell_type": "code",
   "execution_count": 105,
   "id": "ea5b6888-8210-4f9f-8d85-69db9668c3aa",
   "metadata": {},
   "outputs": [
    {
     "data": {
      "text/html": [
       "<div>\n",
       "<style scoped>\n",
       "    .dataframe tbody tr th:only-of-type {\n",
       "        vertical-align: middle;\n",
       "    }\n",
       "\n",
       "    .dataframe tbody tr th {\n",
       "        vertical-align: top;\n",
       "    }\n",
       "\n",
       "    .dataframe thead th {\n",
       "        text-align: right;\n",
       "    }\n",
       "</style>\n",
       "<table border=\"1\" class=\"dataframe\">\n",
       "  <thead>\n",
       "    <tr style=\"text-align: right;\">\n",
       "      <th></th>\n",
       "      <th>sample</th>\n",
       "      <th>snv_id</th>\n",
       "      <th>alt_frequency</th>\n",
       "      <th>is_genic</th>\n",
       "    </tr>\n",
       "  </thead>\n",
       "  <tbody>\n",
       "    <tr>\n",
       "      <th>0</th>\n",
       "      <td>0M_R1</td>\n",
       "      <td>scf_1_167764_T_G</td>\n",
       "      <td>0.048387</td>\n",
       "      <td>True</td>\n",
       "    </tr>\n",
       "    <tr>\n",
       "      <th>1</th>\n",
       "      <td>0M_R1</td>\n",
       "      <td>scf_1_860759_C_A</td>\n",
       "      <td>0.226087</td>\n",
       "      <td>False</td>\n",
       "    </tr>\n",
       "    <tr>\n",
       "      <th>2</th>\n",
       "      <td>0M_R1</td>\n",
       "      <td>scf_1_947966_G_C</td>\n",
       "      <td>0.093960</td>\n",
       "      <td>True</td>\n",
       "    </tr>\n",
       "    <tr>\n",
       "      <th>3</th>\n",
       "      <td>0M_R1</td>\n",
       "      <td>scf_2_295083_A_C</td>\n",
       "      <td>0.111111</td>\n",
       "      <td>True</td>\n",
       "    </tr>\n",
       "    <tr>\n",
       "      <th>4</th>\n",
       "      <td>0M_R1</td>\n",
       "      <td>scf_2_371413_C_G</td>\n",
       "      <td>0.039801</td>\n",
       "      <td>True</td>\n",
       "    </tr>\n",
       "  </tbody>\n",
       "</table>\n",
       "</div>"
      ],
      "text/plain": [
       "  sample            snv_id  alt_frequency  is_genic\n",
       "0  0M_R1  scf_1_167764_T_G       0.048387      True\n",
       "1  0M_R1  scf_1_860759_C_A       0.226087     False\n",
       "2  0M_R1  scf_1_947966_G_C       0.093960      True\n",
       "3  0M_R1  scf_2_295083_A_C       0.111111      True\n",
       "4  0M_R1  scf_2_371413_C_G       0.039801      True"
      ]
     },
     "execution_count": 105,
     "metadata": {},
     "output_type": "execute_result"
    }
   ],
   "source": [
    "for_swarm = [(k, snv_id, freq, True if snv_id in gene_intersects_0M_R1['snv_id'].tolist() + gene_intersects_0_1M_R2['snv_id'].tolist() else False)\n",
    "             for k, v in\n",
    "             {'0M_R1': alt_freqs_0M_R1,\n",
    "                 '0_1M_R2': alt_freqs_0_1M_R2}.items()\n",
    "             for snv_id, freq in v.items()]\n",
    "\n",
    "\n",
    "for_swarm_df = pd.DataFrame.from_records(for_swarm, columns=['sample', 'snv_id', 'alt_frequency', 'is_genic'])\n",
    "for_swarm_df.head()"
   ]
  },
  {
   "cell_type": "code",
   "execution_count": 106,
   "id": "011908d3-6de9-4385-8132-dfd1dde73e08",
   "metadata": {},
   "outputs": [
    {
     "data": {
      "text/plain": [
       "<Axes: xlabel='sample', ylabel='alt_frequency'>"
      ]
     },
     "execution_count": 106,
     "metadata": {},
     "output_type": "execute_result"
    },
    {
     "data": {
      "image/png": "[encoded data removed]",
      "text/plain": [
       "<Figure size 640x480 with 1 Axes>"
      ]
     },
     "metadata": {},
     "output_type": "display_data"
    }
   ],
   "source": [
    "sns.swarmplot(data=for_swarm_df, x='sample', y='alt_frequency', hue='is_genic', size=3)"
   ]
  },
  {
   "cell_type": "markdown",
   "id": "a4604316-5255-4a64-8371-93700688c57b",
   "metadata": {},
   "source": [
    "There appears to be no relationship between whether or not the SNV is genic and whether or not it has a high frequency in the population. Where do the genes of interest we've identified (those overlapping in both samples) fall here?"
   ]
  },
  {
   "cell_type": "code",
   "execution_count": 48,
   "id": "31e5ad07-e4ad-4e8f-8e6a-43e48bbf78ad",
   "metadata": {},
   "outputs": [
    {
     "data": {
      "text/plain": [
       "{'N_sal.S003280.1', 'N_sal.S084590.1', 'N_sal.S088740.1'}"
      ]
     },
     "execution_count": 48,
     "metadata": {},
     "output_type": "execute_result"
    }
   ],
   "source": [
    "overlapping_snps"
   ]
  },
  {
   "cell_type": "code",
   "execution_count": 49,
   "id": "4b6d6264-5c0d-4658-95b0-6ff9cc51acf0",
   "metadata": {},
   "outputs": [],
   "source": [
    "gene2snv_0M_R1 = {v: k for k, v in snv2gene_0M_R1.items()}\n",
    "gene2snv_0_1M_R2 = {v: k for k, v in snv2gene_0_1M_R2.items()}"
   ]
  },
  {
   "cell_type": "code",
   "execution_count": 50,
   "id": "8f9f921f-8439-45d2-9edb-1685e62bf757",
   "metadata": {},
   "outputs": [
    {
     "name": "stdout",
     "output_type": "stream",
     "text": [
      "The allele frequency of gene N_sal.S088740.1 in the non-EMS sample is 0.07, while in the EMS sample its frequency is 0.06\n",
      "The allele frequency of gene N_sal.S084590.1 in the non-EMS sample is 0.31, while in the EMS sample its frequency is 0.22\n",
      "The allele frequency of gene N_sal.S003280.1 in the non-EMS sample is 0.09, while in the EMS sample its frequency is 0.08\n"
     ]
    }
   ],
   "source": [
    "for g in overlapping_snps:\n",
    "    freq_0M_R1 = alt_freqs_0M_R1[gene2snv_0M_R1[g]]\n",
    "    freq_0_1M_R2 = alt_freqs_0_1M_R2[gene2snv_0_1M_R2[g]]\n",
    "    print(f'The allele frequency of gene {g} in the non-EMS sample is {freq_0M_R1:.2f}, while in the EMS sample its frequency is {freq_0_1M_R2:.2f}')"
   ]
  },
  {
   "cell_type": "markdown",
   "id": "40f4fd23-a7d7-49c7-82da-27fce990cabe",
   "metadata": {},
   "source": [
    "Only one of the three genes has a high alternate allele frequency in either population."
   ]
  },
  {
   "cell_type": "markdown",
   "id": "030a3bf3-0319-45e9-8079-25bdbf770c9a",
   "metadata": {},
   "source": [
    "What about the indels?"
   ]
  },
  {
   "cell_type": "code",
   "execution_count": 51,
   "id": "47606726-e0c4-4371-b2d3-ad9b0d627119",
   "metadata": {},
   "outputs": [],
   "source": [
    "indel_intersects_0M_R1['indel_id'] = indel_intersects_0M_R1[0] + '_' + indel_intersects_0M_R1[1].astype('str') + '_' + indel_intersects_0M_R1[3] + '_' + indel_intersects_0M_R1[4]\n",
    "indel2gene_0M_R1 = indel_intersects_0M_R1[['indel_id', 'gene_name']].set_index('indel_id').to_dict()['gene_name']"
   ]
  },
  {
   "cell_type": "code",
   "execution_count": 52,
   "id": "91007496-3dbf-4f67-9399-8b98440d167e",
   "metadata": {},
   "outputs": [],
   "source": [
    "indel_intersects_0_1M_R2['indel_id'] = indel_intersects_0_1M_R2[0] + '_' + indel_intersects_0_1M_R2[1].astype('str') + '_' + indel_intersects_0_1M_R2[3] + '_' + indel_intersects_0_1M_R2[4]\n",
    "indel2gene_0_1M_R2 = indel_intersects_0_1M_R2[['indel_id', 'gene_name']].set_index('indel_id').to_dict()['gene_name']"
   ]
  },
  {
   "cell_type": "code",
   "execution_count": 107,
   "id": "39ba0212-ecc8-4951-a6ca-a3d24b898be0",
   "metadata": {},
   "outputs": [
    {
     "data": {
      "text/html": [
       "<div>\n",
       "<style scoped>\n",
       "    .dataframe tbody tr th:only-of-type {\n",
       "        vertical-align: middle;\n",
       "    }\n",
       "\n",
       "    .dataframe tbody tr th {\n",
       "        vertical-align: top;\n",
       "    }\n",
       "\n",
       "    .dataframe thead th {\n",
       "        text-align: right;\n",
       "    }\n",
       "</style>\n",
       "<table border=\"1\" class=\"dataframe\">\n",
       "  <thead>\n",
       "    <tr style=\"text-align: right;\">\n",
       "      <th></th>\n",
       "      <th>sample</th>\n",
       "      <th>indel_id</th>\n",
       "      <th>alt_frequency</th>\n",
       "      <th>is_genic</th>\n",
       "    </tr>\n",
       "  </thead>\n",
       "  <tbody>\n",
       "    <tr>\n",
       "      <th>0</th>\n",
       "      <td>0M_R1</td>\n",
       "      <td>scf_2_453749_AC_A</td>\n",
       "      <td>0.242105</td>\n",
       "      <td>False</td>\n",
       "    </tr>\n",
       "    <tr>\n",
       "      <th>1</th>\n",
       "      <td>0M_R1</td>\n",
       "      <td>scf_9_1044578_C_CAATA</td>\n",
       "      <td>0.077778</td>\n",
       "      <td>False</td>\n",
       "    </tr>\n",
       "    <tr>\n",
       "      <th>2</th>\n",
       "      <td>0M_R1</td>\n",
       "      <td>scf_11_803969_T_TCGACGG</td>\n",
       "      <td>0.174419</td>\n",
       "      <td>True</td>\n",
       "    </tr>\n",
       "    <tr>\n",
       "      <th>3</th>\n",
       "      <td>0M_R1</td>\n",
       "      <td>scf_14_38344_CA_C</td>\n",
       "      <td>0.083333</td>\n",
       "      <td>False</td>\n",
       "    </tr>\n",
       "    <tr>\n",
       "      <th>4</th>\n",
       "      <td>0M_R1</td>\n",
       "      <td>scf_17_66764_C_CCCTT</td>\n",
       "      <td>0.342105</td>\n",
       "      <td>False</td>\n",
       "    </tr>\n",
       "  </tbody>\n",
       "</table>\n",
       "</div>"
      ],
      "text/plain": [
       "  sample                 indel_id  alt_frequency  is_genic\n",
       "0  0M_R1        scf_2_453749_AC_A       0.242105     False\n",
       "1  0M_R1    scf_9_1044578_C_CAATA       0.077778     False\n",
       "2  0M_R1  scf_11_803969_T_TCGACGG       0.174419      True\n",
       "3  0M_R1        scf_14_38344_CA_C       0.083333     False\n",
       "4  0M_R1     scf_17_66764_C_CCCTT       0.342105     False"
      ]
     },
     "execution_count": 107,
     "metadata": {},
     "output_type": "execute_result"
    }
   ],
   "source": [
    "indel_for_swarm = [(k, indel_id, freq, True if indel_id in indel_intersects_0M_R1['indel_id'].tolist() + indel_intersects_0_1M_R2['indel_id'].tolist() else False)\n",
    "             for k, v in\n",
    "             {'0M_R1': indel_freqs_0M_R1,\n",
    "                 '0_1M_R2': indel_freqs_0_1M_R2}.items()\n",
    "             for indel_id, freq in v.items()]\n",
    "\n",
    "\n",
    "indel_for_swarm_df = pd.DataFrame.from_records(indel_for_swarm, columns=['sample', 'indel_id', 'alt_frequency', 'is_genic'])\n",
    "indel_for_swarm_df.head()"
   ]
  },
  {
   "cell_type": "code",
   "execution_count": 108,
   "id": "e1489ee3-92ab-4475-a4f9-f5d72e099c98",
   "metadata": {},
   "outputs": [
    {
     "data": {
      "text/plain": [
       "<Axes: xlabel='sample', ylabel='alt_frequency'>"
      ]
     },
     "execution_count": 108,
     "metadata": {},
     "output_type": "execute_result"
    },
    {
     "data": {
      "image/png": "[encoded data removed]",
      "text/plain": [
       "<Figure size 640x480 with 1 Axes>"
      ]
     },
     "metadata": {},
     "output_type": "display_data"
    }
   ],
   "source": [
    "sns.swarmplot(data=indel_for_swarm_df, x='sample', y='alt_frequency', hue='is_genic', size=10)"
   ]
  },
  {
   "cell_type": "markdown",
   "id": "30905f3b-1c39-4c77-b93f-4783b3464c21",
   "metadata": {},
   "source": [
    "There are a lot fewer indels than SNVs so it's less clear what pattern may or may not be present here in terms of the relationships bewteen the indels and genic regions. However, we can see that the high-frequency allele in the non-EMS population is not in a genic region -- maybe it impacts a motif?"
   ]
  },
  {
   "cell_type": "markdown",
   "id": "ad120244-b3ab-46c1-b89b-60b088ae2e87",
   "metadata": {},
   "source": [
    "## Looking for mutations within promoters\n",
    "We want to know if any of the non-genic mutations are within the region 500bp upstream of the promoter, as many cit-regulatory motifs are found within that region. Conveniently, we have the start sites of all the coding sequences in our annotation `.gtf` file, we just have to read them in."
   ]
  },
  {
   "cell_type": "code",
   "execution_count": 73,
   "id": "fc3aa3ae-615a-4af9-9689-8b4224c00962",
   "metadata": {},
   "outputs": [],
   "source": [
    "annotation = pd.read_csv('../data/genome/n_salina.working_models.gtf', names=[ # Taken from http://useast.ensembl.org/info/website/upload/gff.html\n",
    "    'seqname',\n",
    "    'source',\n",
    "    'feature',\n",
    "    'start',\n",
    "    'end',\n",
    "    'score',\n",
    "    'strand',\n",
    "    'frame',\n",
    "    'attribute' \n",
    "],\n",
    "    sep='\\t')"
   ]
  },
  {
   "cell_type": "code",
   "execution_count": 74,
   "id": "a16e33a7-b198-4fcb-a762-73ebd3742daa",
   "metadata": {},
   "outputs": [
    {
     "data": {
      "text/html": [
       "<div>\n",
       "<style scoped>\n",
       "    .dataframe tbody tr th:only-of-type {\n",
       "        vertical-align: middle;\n",
       "    }\n",
       "\n",
       "    .dataframe tbody tr th {\n",
       "        vertical-align: top;\n",
       "    }\n",
       "\n",
       "    .dataframe thead th {\n",
       "        text-align: right;\n",
       "    }\n",
       "</style>\n",
       "<table border=\"1\" class=\"dataframe\">\n",
       "  <thead>\n",
       "    <tr style=\"text-align: right;\">\n",
       "      <th></th>\n",
       "      <th>seqname</th>\n",
       "      <th>source</th>\n",
       "      <th>feature</th>\n",
       "      <th>start</th>\n",
       "      <th>end</th>\n",
       "      <th>score</th>\n",
       "      <th>strand</th>\n",
       "      <th>frame</th>\n",
       "      <th>attribute</th>\n",
       "    </tr>\n",
       "  </thead>\n",
       "  <tbody>\n",
       "    <tr>\n",
       "      <th>0</th>\n",
       "      <td>scf_11</td>\n",
       "      <td>MSU_v1</td>\n",
       "      <td>transcript</td>\n",
       "      <td>1931</td>\n",
       "      <td>4136</td>\n",
       "      <td>.</td>\n",
       "      <td>-</td>\n",
       "      <td>.</td>\n",
       "      <td>transcript_id \"N_sal.S058750.1\"; gene_id \"N_sa...</td>\n",
       "    </tr>\n",
       "    <tr>\n",
       "      <th>1</th>\n",
       "      <td>scf_11</td>\n",
       "      <td>MSU_v1</td>\n",
       "      <td>exon</td>\n",
       "      <td>1931</td>\n",
       "      <td>2105</td>\n",
       "      <td>.</td>\n",
       "      <td>-</td>\n",
       "      <td>.</td>\n",
       "      <td>transcript_id \"N_sal.S058750.1\"; gene_id \"N_sa...</td>\n",
       "    </tr>\n",
       "    <tr>\n",
       "      <th>2</th>\n",
       "      <td>scf_11</td>\n",
       "      <td>MSU_v1</td>\n",
       "      <td>exon</td>\n",
       "      <td>2204</td>\n",
       "      <td>2345</td>\n",
       "      <td>.</td>\n",
       "      <td>-</td>\n",
       "      <td>.</td>\n",
       "      <td>transcript_id \"N_sal.S058750.1\"; gene_id \"N_sa...</td>\n",
       "    </tr>\n",
       "    <tr>\n",
       "      <th>3</th>\n",
       "      <td>scf_11</td>\n",
       "      <td>MSU_v1</td>\n",
       "      <td>exon</td>\n",
       "      <td>2569</td>\n",
       "      <td>2680</td>\n",
       "      <td>.</td>\n",
       "      <td>-</td>\n",
       "      <td>.</td>\n",
       "      <td>transcript_id \"N_sal.S058750.1\"; gene_id \"N_sa...</td>\n",
       "    </tr>\n",
       "    <tr>\n",
       "      <th>4</th>\n",
       "      <td>scf_11</td>\n",
       "      <td>MSU_v1</td>\n",
       "      <td>exon</td>\n",
       "      <td>3270</td>\n",
       "      <td>3392</td>\n",
       "      <td>.</td>\n",
       "      <td>-</td>\n",
       "      <td>.</td>\n",
       "      <td>transcript_id \"N_sal.S058750.1\"; gene_id \"N_sa...</td>\n",
       "    </tr>\n",
       "  </tbody>\n",
       "</table>\n",
       "</div>"
      ],
      "text/plain": [
       "  seqname  source     feature  start   end score strand frame  \\\n",
       "0  scf_11  MSU_v1  transcript   1931  4136     .      -     .   \n",
       "1  scf_11  MSU_v1        exon   1931  2105     .      -     .   \n",
       "2  scf_11  MSU_v1        exon   2204  2345     .      -     .   \n",
       "3  scf_11  MSU_v1        exon   2569  2680     .      -     .   \n",
       "4  scf_11  MSU_v1        exon   3270  3392     .      -     .   \n",
       "\n",
       "                                           attribute  \n",
       "0  transcript_id \"N_sal.S058750.1\"; gene_id \"N_sa...  \n",
       "1  transcript_id \"N_sal.S058750.1\"; gene_id \"N_sa...  \n",
       "2  transcript_id \"N_sal.S058750.1\"; gene_id \"N_sa...  \n",
       "3  transcript_id \"N_sal.S058750.1\"; gene_id \"N_sa...  \n",
       "4  transcript_id \"N_sal.S058750.1\"; gene_id \"N_sa...  "
      ]
     },
     "execution_count": 74,
     "metadata": {},
     "output_type": "execute_result"
    }
   ],
   "source": [
    "annotation.head()"
   ]
  },
  {
   "cell_type": "markdown",
   "id": "e8c21f29-0f2b-4902-8d98-5915a0598b7a",
   "metadata": {},
   "source": [
    "Filter to get just the transcripts. We used CDS above, but they're broken into the same pieces as the exons, so for this anlaysis we'll take the entire transcript:"
   ]
  },
  {
   "cell_type": "code",
   "execution_count": 75,
   "id": "8cf33683-e4b5-4576-b9fa-569857abc1dd",
   "metadata": {},
   "outputs": [
    {
     "data": {
      "text/html": [
       "<div>\n",
       "<style scoped>\n",
       "    .dataframe tbody tr th:only-of-type {\n",
       "        vertical-align: middle;\n",
       "    }\n",
       "\n",
       "    .dataframe tbody tr th {\n",
       "        vertical-align: top;\n",
       "    }\n",
       "\n",
       "    .dataframe thead th {\n",
       "        text-align: right;\n",
       "    }\n",
       "</style>\n",
       "<table border=\"1\" class=\"dataframe\">\n",
       "  <thead>\n",
       "    <tr style=\"text-align: right;\">\n",
       "      <th></th>\n",
       "      <th>seqname</th>\n",
       "      <th>source</th>\n",
       "      <th>feature</th>\n",
       "      <th>start</th>\n",
       "      <th>end</th>\n",
       "      <th>score</th>\n",
       "      <th>strand</th>\n",
       "      <th>frame</th>\n",
       "      <th>attribute</th>\n",
       "    </tr>\n",
       "  </thead>\n",
       "  <tbody>\n",
       "    <tr>\n",
       "      <th>0</th>\n",
       "      <td>scf_11</td>\n",
       "      <td>MSU_v1</td>\n",
       "      <td>transcript</td>\n",
       "      <td>1931</td>\n",
       "      <td>4136</td>\n",
       "      <td>.</td>\n",
       "      <td>-</td>\n",
       "      <td>.</td>\n",
       "      <td>transcript_id \"N_sal.S058750.1\"; gene_id \"N_sa...</td>\n",
       "    </tr>\n",
       "    <tr>\n",
       "      <th>13</th>\n",
       "      <td>scf_11</td>\n",
       "      <td>MSU_v1</td>\n",
       "      <td>transcript</td>\n",
       "      <td>4320</td>\n",
       "      <td>5601</td>\n",
       "      <td>.</td>\n",
       "      <td>-</td>\n",
       "      <td>.</td>\n",
       "      <td>transcript_id \"N_sal.S058760.1\"; gene_id \"N_sa...</td>\n",
       "    </tr>\n",
       "    <tr>\n",
       "      <th>24</th>\n",
       "      <td>scf_11</td>\n",
       "      <td>MSU_v1</td>\n",
       "      <td>transcript</td>\n",
       "      <td>6381</td>\n",
       "      <td>7726</td>\n",
       "      <td>.</td>\n",
       "      <td>+</td>\n",
       "      <td>.</td>\n",
       "      <td>transcript_id \"N_sal.S058770.1\"; gene_id \"N_sa...</td>\n",
       "    </tr>\n",
       "    <tr>\n",
       "      <th>37</th>\n",
       "      <td>scf_11</td>\n",
       "      <td>MSU_v1</td>\n",
       "      <td>transcript</td>\n",
       "      <td>7788</td>\n",
       "      <td>8845</td>\n",
       "      <td>.</td>\n",
       "      <td>+</td>\n",
       "      <td>.</td>\n",
       "      <td>transcript_id \"N_sal.S058780.1\"; gene_id \"N_sa...</td>\n",
       "    </tr>\n",
       "    <tr>\n",
       "      <th>44</th>\n",
       "      <td>scf_11</td>\n",
       "      <td>MSU_v1</td>\n",
       "      <td>transcript</td>\n",
       "      <td>9693</td>\n",
       "      <td>10266</td>\n",
       "      <td>.</td>\n",
       "      <td>-</td>\n",
       "      <td>.</td>\n",
       "      <td>transcript_id \"N_sal.S058790.1\"; gene_id \"N_sa...</td>\n",
       "    </tr>\n",
       "  </tbody>\n",
       "</table>\n",
       "</div>"
      ],
      "text/plain": [
       "   seqname  source     feature  start    end score strand frame  \\\n",
       "0   scf_11  MSU_v1  transcript   1931   4136     .      -     .   \n",
       "13  scf_11  MSU_v1  transcript   4320   5601     .      -     .   \n",
       "24  scf_11  MSU_v1  transcript   6381   7726     .      +     .   \n",
       "37  scf_11  MSU_v1  transcript   7788   8845     .      +     .   \n",
       "44  scf_11  MSU_v1  transcript   9693  10266     .      -     .   \n",
       "\n",
       "                                            attribute  \n",
       "0   transcript_id \"N_sal.S058750.1\"; gene_id \"N_sa...  \n",
       "13  transcript_id \"N_sal.S058760.1\"; gene_id \"N_sa...  \n",
       "24  transcript_id \"N_sal.S058770.1\"; gene_id \"N_sa...  \n",
       "37  transcript_id \"N_sal.S058780.1\"; gene_id \"N_sa...  \n",
       "44  transcript_id \"N_sal.S058790.1\"; gene_id \"N_sa...  "
      ]
     },
     "execution_count": 75,
     "metadata": {},
     "output_type": "execute_result"
    }
   ],
   "source": [
    "annotation_trans = annotation[annotation['feature']=='transcript']\n",
    "annotation_trans.head()"
   ]
  },
  {
   "cell_type": "markdown",
   "id": "92794d4b-fbfa-4781-a408-ab88d3b91fb6",
   "metadata": {},
   "source": [
    "In order to get the 500bp uptream regions, we need to account for the strandedness of each feature. For genes on the negative strand, the start site is actually the end of the gene, because the start value is always smaller than the end value."
   ]
  },
  {
   "cell_type": "code",
   "execution_count": 79,
   "id": "f31b1089-3151-401d-9954-cf300459b5f6",
   "metadata": {},
   "outputs": [],
   "source": [
    "def getPromoterStart(row):\n",
    "    if row.strand == '+':\n",
    "        return row.start - 500\n",
    "    elif row.strand == '-':\n",
    "        return row.end + 500\n",
    "\n",
    "def getTSS(row):\n",
    "    if row.strand == '+':\n",
    "        return row.start\n",
    "    elif row.strand == '-':\n",
    "        return row.end\n",
    "\n",
    "annotation_trans.loc[:, 'fiveHundred_upstream'] = annotation_trans.apply(getPromoterStart, axis=1)\n",
    "annotation_trans.loc[:, 'TSS'] = annotation_trans.apply(getTSS, axis=1)"
   ]
  },
  {
   "cell_type": "code",
   "execution_count": 80,
   "id": "b2e657ce-9615-4d6f-b76f-bad236d6d980",
   "metadata": {},
   "outputs": [
    {
     "data": {
      "text/html": [
       "<div>\n",
       "<style scoped>\n",
       "    .dataframe tbody tr th:only-of-type {\n",
       "        vertical-align: middle;\n",
       "    }\n",
       "\n",
       "    .dataframe tbody tr th {\n",
       "        vertical-align: top;\n",
       "    }\n",
       "\n",
       "    .dataframe thead th {\n",
       "        text-align: right;\n",
       "    }\n",
       "</style>\n",
       "<table border=\"1\" class=\"dataframe\">\n",
       "  <thead>\n",
       "    <tr style=\"text-align: right;\">\n",
       "      <th></th>\n",
       "      <th>seqname</th>\n",
       "      <th>source</th>\n",
       "      <th>feature</th>\n",
       "      <th>start</th>\n",
       "      <th>end</th>\n",
       "      <th>score</th>\n",
       "      <th>strand</th>\n",
       "      <th>frame</th>\n",
       "      <th>attribute</th>\n",
       "      <th>fiveHundred_upstream</th>\n",
       "      <th>TSS</th>\n",
       "    </tr>\n",
       "  </thead>\n",
       "  <tbody>\n",
       "    <tr>\n",
       "      <th>0</th>\n",
       "      <td>scf_11</td>\n",
       "      <td>MSU_v1</td>\n",
       "      <td>transcript</td>\n",
       "      <td>1931</td>\n",
       "      <td>4136</td>\n",
       "      <td>.</td>\n",
       "      <td>-</td>\n",
       "      <td>.</td>\n",
       "      <td>transcript_id \"N_sal.S058750.1\"; gene_id \"N_sa...</td>\n",
       "      <td>4636</td>\n",
       "      <td>4136</td>\n",
       "    </tr>\n",
       "    <tr>\n",
       "      <th>13</th>\n",
       "      <td>scf_11</td>\n",
       "      <td>MSU_v1</td>\n",
       "      <td>transcript</td>\n",
       "      <td>4320</td>\n",
       "      <td>5601</td>\n",
       "      <td>.</td>\n",
       "      <td>-</td>\n",
       "      <td>.</td>\n",
       "      <td>transcript_id \"N_sal.S058760.1\"; gene_id \"N_sa...</td>\n",
       "      <td>6101</td>\n",
       "      <td>5601</td>\n",
       "    </tr>\n",
       "    <tr>\n",
       "      <th>24</th>\n",
       "      <td>scf_11</td>\n",
       "      <td>MSU_v1</td>\n",
       "      <td>transcript</td>\n",
       "      <td>6381</td>\n",
       "      <td>7726</td>\n",
       "      <td>.</td>\n",
       "      <td>+</td>\n",
       "      <td>.</td>\n",
       "      <td>transcript_id \"N_sal.S058770.1\"; gene_id \"N_sa...</td>\n",
       "      <td>5881</td>\n",
       "      <td>6381</td>\n",
       "    </tr>\n",
       "    <tr>\n",
       "      <th>37</th>\n",
       "      <td>scf_11</td>\n",
       "      <td>MSU_v1</td>\n",
       "      <td>transcript</td>\n",
       "      <td>7788</td>\n",
       "      <td>8845</td>\n",
       "      <td>.</td>\n",
       "      <td>+</td>\n",
       "      <td>.</td>\n",
       "      <td>transcript_id \"N_sal.S058780.1\"; gene_id \"N_sa...</td>\n",
       "      <td>7288</td>\n",
       "      <td>7788</td>\n",
       "    </tr>\n",
       "    <tr>\n",
       "      <th>44</th>\n",
       "      <td>scf_11</td>\n",
       "      <td>MSU_v1</td>\n",
       "      <td>transcript</td>\n",
       "      <td>9693</td>\n",
       "      <td>10266</td>\n",
       "      <td>.</td>\n",
       "      <td>-</td>\n",
       "      <td>.</td>\n",
       "      <td>transcript_id \"N_sal.S058790.1\"; gene_id \"N_sa...</td>\n",
       "      <td>10766</td>\n",
       "      <td>10266</td>\n",
       "    </tr>\n",
       "  </tbody>\n",
       "</table>\n",
       "</div>"
      ],
      "text/plain": [
       "   seqname  source     feature  start    end score strand frame  \\\n",
       "0   scf_11  MSU_v1  transcript   1931   4136     .      -     .   \n",
       "13  scf_11  MSU_v1  transcript   4320   5601     .      -     .   \n",
       "24  scf_11  MSU_v1  transcript   6381   7726     .      +     .   \n",
       "37  scf_11  MSU_v1  transcript   7788   8845     .      +     .   \n",
       "44  scf_11  MSU_v1  transcript   9693  10266     .      -     .   \n",
       "\n",
       "                                            attribute  fiveHundred_upstream  \\\n",
       "0   transcript_id \"N_sal.S058750.1\"; gene_id \"N_sa...                  4636   \n",
       "13  transcript_id \"N_sal.S058760.1\"; gene_id \"N_sa...                  6101   \n",
       "24  transcript_id \"N_sal.S058770.1\"; gene_id \"N_sa...                  5881   \n",
       "37  transcript_id \"N_sal.S058780.1\"; gene_id \"N_sa...                  7288   \n",
       "44  transcript_id \"N_sal.S058790.1\"; gene_id \"N_sa...                 10766   \n",
       "\n",
       "      TSS  \n",
       "0    4136  \n",
       "13   5601  \n",
       "24   6381  \n",
       "37   7788  \n",
       "44  10266  "
      ]
     },
     "execution_count": 80,
     "metadata": {},
     "output_type": "execute_result"
    }
   ],
   "source": [
    "annotation_trans.head()"
   ]
  },
  {
   "cell_type": "markdown",
   "id": "d6487b85-8804-49e3-8a5e-66b439930f32",
   "metadata": {},
   "source": [
    "Now implement the check:"
   ]
  },
  {
   "cell_type": "code",
   "execution_count": 83,
   "id": "1becc787-c36a-4272-b078-8d50bde773bb",
   "metadata": {},
   "outputs": [],
   "source": [
    "# Make a dict to map gene names to the ordered ranges\n",
    "# Need to keep track of the chromosomes too\n",
    "promoter_ranges = defaultdict(dict)\n",
    "for i, row in annotation_trans.iterrows():\n",
    "    range_tup = (row.fiveHundred_upstream, row.TSS) if row.strand == '+' else (row.TSS, row.fiveHundred_upstream)\n",
    "    promoter_ranges[row.seqname][row.attribute.split('\"')[1]] = range_tup"
   ]
  },
  {
   "cell_type": "code",
   "execution_count": 84,
   "id": "02b447fc-43bf-45ca-880e-8d0519ba6bf4",
   "metadata": {},
   "outputs": [],
   "source": [
    "# We want to do all kinds of variants for both samples\n",
    "all_vcfs_filtered = {\n",
    "    '0M_R1': {\n",
    "        'snv': '../data/nanno_sarek/variant_calling/strelka/0M_R1_vs_537_control_R2/0M_R1_vs_537_control_R2_FILTERED.strelka.somatic_snvs.vcf.gz',\n",
    "        'indel': '../data/nanno_sarek/variant_calling/strelka/0M_R1_vs_537_control_R2/0M_R1_vs_537_control_R2_FILTERED.strelka.somatic_indels.vcf.gz'\n",
    "    },\n",
    "    '0_1M_R2': {\n",
    "        'snv': '../data/nanno_sarek/variant_calling/strelka/0_1M_R2_vs_537_control_R2/0_1M_R2_vs_537_control_R2_FILTERED.strelka.somatic_snvs.vcf.gz',\n",
    "        'indel': '../data/nanno_sarek/variant_calling/strelka/0_1M_R2_vs_537_control_R2/0_1M_R2_vs_537_control_R2_FILTERED.strelka.somatic_indels.vcf.gz'\n",
    "    }\n",
    "    \n",
    "}"
   ]
  },
  {
   "cell_type": "code",
   "execution_count": 112,
   "id": "49c88bde-0bed-4866-b587-21e175d42104",
   "metadata": {},
   "outputs": [
    {
     "name": "stderr",
     "output_type": "stream",
     "text": [
      "[E::idx_find_and_load] Could not retrieve index file for '../data/nanno_sarek/variant_calling/strelka/0M_R1_vs_537_control_R2/0M_R1_vs_537_control_R2_FILTERED.strelka.somatic_snvs.vcf.gz'\n",
      "51it [00:00, 11126.63it/s]\n",
      "[E::idx_find_and_load] Could not retrieve index file for '../data/nanno_sarek/variant_calling/strelka/0M_R1_vs_537_control_R2/0M_R1_vs_537_control_R2_FILTERED.strelka.somatic_indels.vcf.gz'\n",
      "14it [00:00, 12804.24it/s]\n",
      "[E::idx_find_and_load] Could not retrieve index file for '../data/nanno_sarek/variant_calling/strelka/0_1M_R2_vs_537_control_R2/0_1M_R2_vs_537_control_R2_FILTERED.strelka.somatic_snvs.vcf.gz'\n",
      "556it [00:00, 13572.22it/s]\n",
      "[E::idx_find_and_load] Could not retrieve index file for '../data/nanno_sarek/variant_calling/strelka/0_1M_R2_vs_537_control_R2/0_1M_R2_vs_537_control_R2_FILTERED.strelka.somatic_indels.vcf.gz'\n",
      "9it [00:00, 11027.97it/s]\n"
     ]
    }
   ],
   "source": [
    "# Apparently there's no way to do the core task with less than 2 nested loops (I even asked AI),\n",
    "# and then because I want to go over samples and variant types, it's quadruply nested...\n",
    "# I am suitably ashamed of this implementation, don't worry lol\n",
    "in_promoter_for_swarm = []\n",
    "for sample, files in all_vcfs_filtered.items():\n",
    "    for var_type, file in files.items():\n",
    "        vcf = VariantFile(file)\n",
    "        for variant in tqdm(vcf.fetch()):\n",
    "            variant_id = f'{variant.chrom}_{variant.pos}_{variant.ref}_{variant.alts[0]}'\n",
    "            for gene, prom_rng in promoter_ranges[variant.chrom].items():\n",
    "                if (prom_rng[0] <= variant.pos <= prom_rng[1]):\n",
    "                    for_swarm_format = (sample, var_type, variant_id, gene, True)\n",
    "                    in_promoter_for_swarm.append(for_swarm_format)"
   ]
  },
  {
   "cell_type": "markdown",
   "id": "174c6879-2e77-461a-94c2-c574fdac3001",
   "metadata": {},
   "source": [
    "Now combine this data with the allele frequencies so we can recreate the swarmplots with whether or not the mutations are in promoter sequences:"
   ]
  },
  {
   "cell_type": "code",
   "execution_count": 115,
   "id": "efbcfefd-bd55-4636-9d80-6d5f8720ce61",
   "metadata": {},
   "outputs": [
    {
     "data": {
      "text/html": [
       "<div>\n",
       "<style scoped>\n",
       "    .dataframe tbody tr th:only-of-type {\n",
       "        vertical-align: middle;\n",
       "    }\n",
       "\n",
       "    .dataframe tbody tr th {\n",
       "        vertical-align: top;\n",
       "    }\n",
       "\n",
       "    .dataframe thead th {\n",
       "        text-align: right;\n",
       "    }\n",
       "</style>\n",
       "<table border=\"1\" class=\"dataframe\">\n",
       "  <thead>\n",
       "    <tr style=\"text-align: right;\">\n",
       "      <th></th>\n",
       "      <th>sample</th>\n",
       "      <th>variant_type</th>\n",
       "      <th>variant_id</th>\n",
       "      <th>promoter_gene</th>\n",
       "      <th>in_promoter</th>\n",
       "    </tr>\n",
       "  </thead>\n",
       "  <tbody>\n",
       "    <tr>\n",
       "      <th>0</th>\n",
       "      <td>0M_R1</td>\n",
       "      <td>snv</td>\n",
       "      <td>scf_3_360860_A_C</td>\n",
       "      <td>N_sal.S044370.3</td>\n",
       "      <td>True</td>\n",
       "    </tr>\n",
       "    <tr>\n",
       "      <th>1</th>\n",
       "      <td>0M_R1</td>\n",
       "      <td>snv</td>\n",
       "      <td>scf_4_640532_G_A</td>\n",
       "      <td>N_sal.S012480.1</td>\n",
       "      <td>True</td>\n",
       "    </tr>\n",
       "    <tr>\n",
       "      <th>2</th>\n",
       "      <td>0M_R1</td>\n",
       "      <td>snv</td>\n",
       "      <td>scf_15_342080_A_G</td>\n",
       "      <td>N_sal.S075990.1</td>\n",
       "      <td>True</td>\n",
       "    </tr>\n",
       "    <tr>\n",
       "      <th>3</th>\n",
       "      <td>0M_R1</td>\n",
       "      <td>snv</td>\n",
       "      <td>scf_20_208250_T_A</td>\n",
       "      <td>N_sal.S050860.2</td>\n",
       "      <td>True</td>\n",
       "    </tr>\n",
       "    <tr>\n",
       "      <th>4</th>\n",
       "      <td>0M_R1</td>\n",
       "      <td>snv</td>\n",
       "      <td>scf_20_208250_T_A</td>\n",
       "      <td>N_sal.S050860.1</td>\n",
       "      <td>True</td>\n",
       "    </tr>\n",
       "  </tbody>\n",
       "</table>\n",
       "</div>"
      ],
      "text/plain": [
       "  sample variant_type         variant_id    promoter_gene  in_promoter\n",
       "0  0M_R1          snv   scf_3_360860_A_C  N_sal.S044370.3         True\n",
       "1  0M_R1          snv   scf_4_640532_G_A  N_sal.S012480.1         True\n",
       "2  0M_R1          snv  scf_15_342080_A_G  N_sal.S075990.1         True\n",
       "3  0M_R1          snv  scf_20_208250_T_A  N_sal.S050860.2         True\n",
       "4  0M_R1          snv  scf_20_208250_T_A  N_sal.S050860.1         True"
      ]
     },
     "execution_count": 115,
     "metadata": {},
     "output_type": "execute_result"
    }
   ],
   "source": [
    "in_promoter_for_swarm_df =  pd.DataFrame(in_promoter_for_swarm, columns=['sample', 'variant_type', 'variant_id', 'promoter_gene', 'in_promoter'])\n",
    "in_promoter_for_swarm_df.head()"
   ]
  },
  {
   "cell_type": "code",
   "execution_count": 116,
   "id": "e4bf4b93-f400-4b16-a3ac-9945b9da3ed6",
   "metadata": {},
   "outputs": [
    {
     "data": {
      "text/html": [
       "<div>\n",
       "<style scoped>\n",
       "    .dataframe tbody tr th:only-of-type {\n",
       "        vertical-align: middle;\n",
       "    }\n",
       "\n",
       "    .dataframe tbody tr th {\n",
       "        vertical-align: top;\n",
       "    }\n",
       "\n",
       "    .dataframe thead th {\n",
       "        text-align: right;\n",
       "    }\n",
       "</style>\n",
       "<table border=\"1\" class=\"dataframe\">\n",
       "  <thead>\n",
       "    <tr style=\"text-align: right;\">\n",
       "      <th></th>\n",
       "      <th>sample</th>\n",
       "      <th>variant_id</th>\n",
       "      <th>alt_frequency</th>\n",
       "      <th>is_genic</th>\n",
       "      <th>variant_type</th>\n",
       "    </tr>\n",
       "  </thead>\n",
       "  <tbody>\n",
       "    <tr>\n",
       "      <th>0</th>\n",
       "      <td>0M_R1</td>\n",
       "      <td>scf_1_167764_T_G</td>\n",
       "      <td>0.048387</td>\n",
       "      <td>True</td>\n",
       "      <td>snv</td>\n",
       "    </tr>\n",
       "    <tr>\n",
       "      <th>1</th>\n",
       "      <td>0M_R1</td>\n",
       "      <td>scf_1_860759_C_A</td>\n",
       "      <td>0.226087</td>\n",
       "      <td>False</td>\n",
       "      <td>snv</td>\n",
       "    </tr>\n",
       "    <tr>\n",
       "      <th>2</th>\n",
       "      <td>0M_R1</td>\n",
       "      <td>scf_1_947966_G_C</td>\n",
       "      <td>0.093960</td>\n",
       "      <td>True</td>\n",
       "      <td>snv</td>\n",
       "    </tr>\n",
       "    <tr>\n",
       "      <th>3</th>\n",
       "      <td>0M_R1</td>\n",
       "      <td>scf_2_295083_A_C</td>\n",
       "      <td>0.111111</td>\n",
       "      <td>True</td>\n",
       "      <td>snv</td>\n",
       "    </tr>\n",
       "    <tr>\n",
       "      <th>4</th>\n",
       "      <td>0M_R1</td>\n",
       "      <td>scf_2_371413_C_G</td>\n",
       "      <td>0.039801</td>\n",
       "      <td>True</td>\n",
       "      <td>snv</td>\n",
       "    </tr>\n",
       "  </tbody>\n",
       "</table>\n",
       "</div>"
      ],
      "text/plain": [
       "  sample        variant_id  alt_frequency  is_genic variant_type\n",
       "0  0M_R1  scf_1_167764_T_G       0.048387      True          snv\n",
       "1  0M_R1  scf_1_860759_C_A       0.226087     False          snv\n",
       "2  0M_R1  scf_1_947966_G_C       0.093960      True          snv\n",
       "3  0M_R1  scf_2_295083_A_C       0.111111      True          snv\n",
       "4  0M_R1  scf_2_371413_C_G       0.039801      True          snv"
      ]
     },
     "execution_count": 116,
     "metadata": {},
     "output_type": "execute_result"
    }
   ],
   "source": [
    "# Concat the snv and indel datavrames from before\n",
    "for_swarm_df['variant_type'] = 'snv'\n",
    "for_swarm_df = for_swarm_df.rename(columns={'snv_id': 'variant_id'})\n",
    "indel_for_swarm_df['variant_type'] = 'indel'\n",
    "indel_for_swarm_df = indel_for_swarm_df.rename(columns={'indel_id': 'variant_id'})\n",
    "all_variants_for_swarm = pd.concat([for_swarm_df, indel_for_swarm_df])\n",
    "all_variants_for_swarm.head()"
   ]
  },
  {
   "cell_type": "code",
   "execution_count": 147,
   "id": "9a22baea-d9cc-4251-adbd-f3f89e57ea11",
   "metadata": {},
   "outputs": [
    {
     "name": "stderr",
     "output_type": "stream",
     "text": [
      "/tmp/ipykernel_1490897/1371369819.py:3: FutureWarning: Downcasting object dtype arrays on .fillna, .ffill, .bfill is deprecated and will change in a future version. Call result.infer_objects(copy=False) instead. To opt-in to the future behavior, set `pd.set_option('future.no_silent_downcasting', True)`\n",
      "  all_variants_for_swarm_in_promoter['in_promoter'] = all_variants_for_swarm_in_promoter['in_promoter'].fillna(False)\n"
     ]
    },
    {
     "data": {
      "text/html": [
       "<div>\n",
       "<style scoped>\n",
       "    .dataframe tbody tr th:only-of-type {\n",
       "        vertical-align: middle;\n",
       "    }\n",
       "\n",
       "    .dataframe tbody tr th {\n",
       "        vertical-align: top;\n",
       "    }\n",
       "\n",
       "    .dataframe thead th {\n",
       "        text-align: right;\n",
       "    }\n",
       "</style>\n",
       "<table border=\"1\" class=\"dataframe\">\n",
       "  <thead>\n",
       "    <tr style=\"text-align: right;\">\n",
       "      <th></th>\n",
       "      <th>sample</th>\n",
       "      <th>variant_id</th>\n",
       "      <th>alt_frequency</th>\n",
       "      <th>is_genic</th>\n",
       "      <th>variant_type</th>\n",
       "      <th>promoter_gene</th>\n",
       "      <th>in_promoter</th>\n",
       "    </tr>\n",
       "  </thead>\n",
       "  <tbody>\n",
       "    <tr>\n",
       "      <th>0</th>\n",
       "      <td>0M_R1</td>\n",
       "      <td>scf_1_167764_T_G</td>\n",
       "      <td>0.048387</td>\n",
       "      <td>True</td>\n",
       "      <td>snv</td>\n",
       "      <td>NaN</td>\n",
       "      <td>False</td>\n",
       "    </tr>\n",
       "    <tr>\n",
       "      <th>1</th>\n",
       "      <td>0M_R1</td>\n",
       "      <td>scf_1_860759_C_A</td>\n",
       "      <td>0.226087</td>\n",
       "      <td>False</td>\n",
       "      <td>snv</td>\n",
       "      <td>NaN</td>\n",
       "      <td>False</td>\n",
       "    </tr>\n",
       "    <tr>\n",
       "      <th>2</th>\n",
       "      <td>0M_R1</td>\n",
       "      <td>scf_1_947966_G_C</td>\n",
       "      <td>0.093960</td>\n",
       "      <td>True</td>\n",
       "      <td>snv</td>\n",
       "      <td>NaN</td>\n",
       "      <td>False</td>\n",
       "    </tr>\n",
       "    <tr>\n",
       "      <th>3</th>\n",
       "      <td>0M_R1</td>\n",
       "      <td>scf_2_295083_A_C</td>\n",
       "      <td>0.111111</td>\n",
       "      <td>True</td>\n",
       "      <td>snv</td>\n",
       "      <td>NaN</td>\n",
       "      <td>False</td>\n",
       "    </tr>\n",
       "    <tr>\n",
       "      <th>4</th>\n",
       "      <td>0M_R1</td>\n",
       "      <td>scf_2_371413_C_G</td>\n",
       "      <td>0.039801</td>\n",
       "      <td>True</td>\n",
       "      <td>snv</td>\n",
       "      <td>NaN</td>\n",
       "      <td>False</td>\n",
       "    </tr>\n",
       "  </tbody>\n",
       "</table>\n",
       "</div>"
      ],
      "text/plain": [
       "  sample        variant_id  alt_frequency  is_genic variant_type  \\\n",
       "0  0M_R1  scf_1_167764_T_G       0.048387      True          snv   \n",
       "1  0M_R1  scf_1_860759_C_A       0.226087     False          snv   \n",
       "2  0M_R1  scf_1_947966_G_C       0.093960      True          snv   \n",
       "3  0M_R1  scf_2_295083_A_C       0.111111      True          snv   \n",
       "4  0M_R1  scf_2_371413_C_G       0.039801      True          snv   \n",
       "\n",
       "  promoter_gene  in_promoter  \n",
       "0           NaN        False  \n",
       "1           NaN        False  \n",
       "2           NaN        False  \n",
       "3           NaN        False  \n",
       "4           NaN        False  "
      ]
     },
     "execution_count": 147,
     "metadata": {},
     "output_type": "execute_result"
    }
   ],
   "source": [
    "# Now merge with the promoter information -- fill NaN in the in_promoter column with false\n",
    "all_variants_for_swarm_in_promoter = all_variants_for_swarm.merge(in_promoter_for_swarm_df.drop_duplicates(subset=[c for c in in_promoter_for_swarm_df.columns if c != 'promoter_gene']), how='left', on=['sample', 'variant_id', 'variant_type'])\n",
    "all_variants_for_swarm_in_promoter['in_promoter'] = all_variants_for_swarm_in_promoter['in_promoter'].fillna(False)\n",
    "all_variants_for_swarm_in_promoter.head()"
   ]
  },
  {
   "cell_type": "markdown",
   "id": "bbcd89c1-d7a4-4204-a4ee-ea092429c813",
   "metadata": {},
   "source": [
    "Now make the swarmplot for SNVs:"
   ]
  },
  {
   "cell_type": "code",
   "execution_count": 149,
   "id": "98cd1c0a-f466-4890-be71-a7fac05ea45d",
   "metadata": {},
   "outputs": [
    {
     "data": {
      "text/plain": [
       "<Axes: xlabel='sample', ylabel='alt_frequency'>"
      ]
     },
     "execution_count": 149,
     "metadata": {},
     "output_type": "execute_result"
    },
    {
     "data": {
      "image/png": "[encoded data removed]",
      "text/plain": [
       "<Figure size 640x480 with 1 Axes>"
      ]
     },
     "metadata": {},
     "output_type": "display_data"
    }
   ],
   "source": [
    "sns.swarmplot(data=all_variants_for_swarm_in_promoter[all_variants_for_swarm_in_promoter['variant_type']=='snv'], x='sample', y='alt_frequency', hue='in_promoter', size=3)"
   ]
  },
  {
   "cell_type": "markdown",
   "id": "b9ebc3d7-8ba0-4f3b-859a-c9e45f642ec0",
   "metadata": {},
   "source": [
    "And the indels:"
   ]
  },
  {
   "cell_type": "code",
   "execution_count": 150,
   "id": "38ae4b5c-d0c7-4f9f-99a4-d5eaa10ff8b2",
   "metadata": {},
   "outputs": [
    {
     "data": {
      "text/plain": [
       "<Axes: xlabel='sample', ylabel='alt_frequency'>"
      ]
     },
     "execution_count": 150,
     "metadata": {},
     "output_type": "execute_result"
    },
    {
     "data": {
      "image/png": "[encoded data removed]",
      "text/plain": [
       "<Figure size 640x480 with 1 Axes>"
      ]
     },
     "metadata": {},
     "output_type": "display_data"
    }
   ],
   "source": [
    "sns.swarmplot(data=all_variants_for_swarm_in_promoter[all_variants_for_swarm_in_promoter['variant_type']=='indel'], x='sample', y='alt_frequency', hue='in_promoter', size=10)"
   ]
  },
  {
   "cell_type": "markdown",
   "id": "1cb8eb86-6c13-49bb-adb7-656808f22590",
   "metadata": {},
   "source": [
    "Like for the variants in genes, we're not seeing a relationship between alternate allele frequency and whether or not the variant is in a promoter."
   ]
  }
 ],
 "metadata": {
  "kernelspec": {
   "display_name": "omics",
   "language": "python",
   "name": "omics"
  },
  "language_info": {
   "codemirror_mode": {
    "name": "ipython",
    "version": 3
   },
   "file_extension": ".py",
   "mimetype": "text/x-python",
   "name": "python",
   "nbconvert_exporter": "python",
   "pygments_lexer": "ipython3",
   "version": "3.10.16"
  }
 },
 "nbformat": 4,
 "nbformat_minor": 5
}
