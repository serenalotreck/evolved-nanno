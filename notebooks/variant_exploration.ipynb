{
 "cells": [
  {
   "cell_type": "markdown",
   "id": "e36f8907-d88c-4af0-ba62-159f64762105",
   "metadata": {},
   "source": [
    "# Variant exploration\n",
    "We've used the `nf-core/sarek` pipeline to call variants in our samples; now let's explore the data we have!"
   ]
  },
  {
   "cell_type": "code",
   "execution_count": 1,
   "id": "b999f12c-2d58-4bc6-9ace-27e20bc7aeb1",
   "metadata": {},
   "outputs": [],
   "source": [
    "from os import listdir\n",
    "from os.path import isfile, isdir\n",
    "from pysam import VariantFile\n",
    "from tqdm import tqdm\n",
    "from collections import defaultdict\n",
    "import numpy as np\n",
    "import matplotlib.pyplot as plt\n",
    "import pandas as pd\n",
    "import gzip\n",
    "import seaborn as sns"
   ]
  },
  {
   "cell_type": "markdown",
   "id": "a40c69b7-151f-4c02-8ae0-2784fd57542e",
   "metadata": {},
   "source": [
    "## Read in the data\n",
    "`0M` samples were grown without EMS in 10/10\n",
    "\n",
    "`01M` samples were treated with EMS in 10/10"
   ]
  },
  {
   "cell_type": "code",
   "execution_count": 2,
   "id": "adb350e9-5567-4263-bdb4-0c71c23566c6",
   "metadata": {},
   "outputs": [],
   "source": [
    "var_top_path = '/mnt/research/Walker_Lab_Research/Serena_project_data/evolved-nanno_data/data/nanno_sarek/separate_samplesheets_strelka/variant_calling/strelka'"
   ]
  },
  {
   "cell_type": "code",
   "execution_count": 3,
   "id": "5615dada-a190-43dd-a3b9-fabf6d372ed4",
   "metadata": {},
   "outputs": [],
   "source": [
    "snv_filepaths = {}\n",
    "indel_filepaths = {}\n",
    "for f in listdir(var_top_path):\n",
    "    if isdir(f'{var_top_path}/{f}'):\n",
    "        if f[:3] == '537':\n",
    "            continue\n",
    "        snv_path = f'{var_top_path}/{f}/{f}.strelka.somatic_snvs.vcf.gz'\n",
    "        snv_filepaths[f] = snv_path\n",
    "        indel_path = f'{var_top_path}/{f}/{f}.strelka.somatic_indels.vcf.gz'\n",
    "        indel_filepaths[f] = indel_path"
   ]
  },
  {
   "cell_type": "markdown",
   "id": "cffb24b7-ab88-4229-aee9-0098b9d53f4c",
   "metadata": {},
   "source": [
    "## Filtering by support\n",
    "As mentioned in [this video](https://youtu.be/zO9WCOaq3aQ?si=GZD3t4__wenFgTxh&t=665), variants that only appear in a few reads are more likely to be sequencing errors than true variants. Therefore, we want to filter our variants. While Strelka2 doesn't provide a score in the `QUAL` column of the `vcf` file, it does provide a `PASS` value based on the Empirical Variant Scoring model (see [Supplementary Note 1](https://static-content.springer.com/esm/art%3A10.1038%2Fs41592-018-0051-x/MediaObjects/41592_2018_51_MOESM1_ESM.pdf)) if the variant is good quality, or `LowEVS` or `LowDepth` if it's not a good variant."
   ]
  },
  {
   "cell_type": "code",
   "execution_count": 4,
   "id": "e5def5f9-6cf8-47ee-853b-45724d496ef9",
   "metadata": {},
   "outputs": [
    {
     "name": "stdout",
     "output_type": "stream",
     "text": [
      "For sample 01MRep1_vs_537controlRep2, 549 of 33939 variants passed, which is 1.62%.\n",
      "For sample 01MRep2_vs_537controlRep2, 556 of 46391 variants passed, which is 1.20%.\n",
      "For sample 0MRep3_vs_537controlRep2, 31 of 31759 variants passed, which is 0.10%.\n",
      "For sample 0MRep1_vs_537controlRep2, 51 of 41470 variants passed, which is 0.12%.\n"
     ]
    }
   ],
   "source": [
    "all_alts = {}\n",
    "all_conversions = {}\n",
    "all_passed = {}\n",
    "for sample, path in snv_filepaths.items():\n",
    "    vcf = VariantFile(path)\n",
    "    snvs = vcf.fetch()\n",
    "    passed = []\n",
    "    alts = defaultdict(int)\n",
    "    conversions = defaultdict(int)\n",
    "    total = 0\n",
    "    for variant in snvs:\n",
    "        if variant.filter.keys()[0] == 'PASS':\n",
    "            # print(variant.chrom, variant.pos, variant.ref, \">\", variant.alts[0], variant.qual, variant.filter.values()[0].name)\n",
    "            passed.append(variant)\n",
    "            alts[variant.alts[0]] += 1\n",
    "            conversions[f'{variant.ref} > {variant.alts[0]}'] += 1\n",
    "        total += 1\n",
    "    print(f'For sample {sample}, {len(passed)} of {total} variants passed, which is {(len(passed)/total)*100:.2f}%.')\n",
    "    all_alts[sample] = alts\n",
    "    all_conversions[sample] = conversions\n",
    "    all_passed[sample] = passed"
   ]
  },
  {
   "cell_type": "markdown",
   "id": "4f67da33-61a6-479f-8832-782f8ead0962",
   "metadata": {},
   "source": [
    "That's great! It substantially narrows down our analysis. Let's save out the filtered subset to look at in IGV:"
   ]
  },
  {
   "cell_type": "code",
   "execution_count": 16,
   "id": "4fac9cd2-4fe3-463e-8650-37cf7544e241",
   "metadata": {},
   "outputs": [],
   "source": [
    "!umask 0007"
   ]
  },
  {
   "cell_type": "code",
   "execution_count": 17,
   "id": "ae235c74-37d5-4a8c-96b5-8550d73f3987",
   "metadata": {},
   "outputs": [],
   "source": [
    "# Adapted from the Gemini suggested answer\n",
    "filtered_snv_paths = {}\n",
    "for sample in snv_filepaths.keys():\n",
    "    snv_path = f'{var_top_path}/{sample}/{sample}.strelka.somatic_snvs.vcf.gz'\n",
    "    filtered_path = f'{var_top_path}/{sample}/{sample}.strelka.somatic_snvs_FILTERED.vcf.gz'\n",
    "    filtered_snv_paths[sample] = filtered_path\n",
    "\n",
    "    with VariantFile(snv_path) as vcf_in, \\\n",
    "         VariantFile(filtered_path, 'w', header=vcf_in.header) as vcf_out:\n",
    "    \n",
    "        for record in vcf_in:\n",
    "            if 'PASS' in record.filter.keys():\n",
    "                vcf_out.write(record)"
   ]
  },
  {
   "cell_type": "markdown",
   "id": "cbb877d0-ddf5-4c04-b54c-110d91d052ab",
   "metadata": {},
   "source": [
    "## Digging into SNVs\n",
    "Let's take a look at the landscape of variants quantitatively, beyond just looking at the viewer. First, let's look at the rates of the different transitions (which I'll calculate here as just the fraction of times the transition occurred of the variants that passed the screening -- I think this is different than the calculations done in the Arabidopsis paper linked below). Does this match with published expectations of the rates of these transitions?\n",
    "\n",
    "We'll pair together transitions that are complements of one another, as was done in [Ossowski et al, 2014, Table 2](https://pmc.ncbi.nlm.nih.gov/articles/PMC3878865/table/T2/):\n",
    "```\n",
    "A:T→G:C\n",
    "C:G→T:A\n",
    "A:T→T:A\n",
    "C:G→A:T\n",
    "A:T→C:G\n",
    "C:G→G:C\n",
    "```"
   ]
  },
  {
   "cell_type": "code",
   "execution_count": 18,
   "id": "621da2aa-9d9d-4dbc-a4ea-8f251a3b4c98",
   "metadata": {},
   "outputs": [],
   "source": [
    "conversion_pairs = {\n",
    "    'A:T→G:C': ['A > G', 'T > C'],\n",
    "    'C:G→T:A': ['C > T', 'G > A'],\n",
    "    'A:T→T:A': ['A > T', 'T > A'],\n",
    "    'C:G→A:T': ['C > A', 'G > T'],\n",
    "    'A:T→C:G': ['A > C', 'T > G'],\n",
    "    'C:G→G:C': ['C > G', 'G > C']\n",
    "}"
   ]
  },
  {
   "cell_type": "code",
   "execution_count": 19,
   "id": "4780449a-7d22-43ab-9f3d-e908c695f1a8",
   "metadata": {},
   "outputs": [],
   "source": [
    "conversion_probs = defaultdict(dict)\n",
    "for sample, conversions in all_conversions.items():\n",
    "    for name, pair in conversion_pairs.items():\n",
    "        pair_total = conversions[pair[0]] + conversions[pair[1]]\n",
    "        conversion_probs[sample][name] = pair_total/len(all_passed[sample])"
   ]
  },
  {
   "cell_type": "code",
   "execution_count": 20,
   "id": "07c4583f-833b-410b-9044-e4e6082ae789",
   "metadata": {},
   "outputs": [],
   "source": [
    "# Need tow rangle for stacked bars\n",
    "conversions_to_plot = {pair: np.array([v[pair] for v in conversion_probs.values()]) for pair in conversion_pairs.keys()}"
   ]
  },
  {
   "cell_type": "code",
   "execution_count": 21,
   "id": "e09485e4-7e8f-4152-816c-3e4064d9e0f1",
   "metadata": {},
   "outputs": [
    {
     "data": {
      "text/plain": [
       "{'A:T→G:C': array([0.03460838, 0.03956835, 0.25806452, 0.23529412]),\n",
       " 'C:G→T:A': array([0.89071038, 0.86330935, 0.03225806, 0.09803922]),\n",
       " 'A:T→T:A': array([0.0273224 , 0.02517986, 0.09677419, 0.07843137]),\n",
       " 'C:G→A:T': array([0.01457195, 0.02697842, 0.22580645, 0.19607843]),\n",
       " 'A:T→C:G': array([0.01639344, 0.02158273, 0.22580645, 0.21568627]),\n",
       " 'C:G→G:C': array([0.01639344, 0.02338129, 0.16129032, 0.17647059])}"
      ]
     },
     "execution_count": 21,
     "metadata": {},
     "output_type": "execute_result"
    }
   ],
   "source": [
    "conversions_to_plot"
   ]
  },
  {
   "cell_type": "code",
   "execution_count": 22,
   "id": "4661282a-c061-422a-84cd-6bc3ee420e5e",
   "metadata": {},
   "outputs": [],
   "source": [
    "sample_name_key = {sample: f\"{sample.split('_')[0]} ({'EMS' if sample[:2] == '01' else 'non-EMS'})\" for sample in conversion_probs.keys()}"
   ]
  },
  {
   "cell_type": "code",
   "execution_count": 23,
   "id": "964b97ba-d18c-4d44-ae6d-02786eefca79",
   "metadata": {},
   "outputs": [
    {
     "data": {
      "image/png": "[encoded data removed]",
      "text/plain": [
       "<Figure size 640x480 with 1 Axes>"
      ]
     },
     "metadata": {},
     "output_type": "display_data"
    }
   ],
   "source": [
    "fig, ax = plt.subplots()\n",
    "\n",
    "width = 0.25\n",
    "bottom = np.zeros(4)\n",
    "\n",
    "for name, probs in conversions_to_plot.items():\n",
    "    ax.bar(sample_name_key.values(), probs, width, bottom=bottom, label=f'{name}')\n",
    "    bottom += probs\n",
    "\n",
    "ax.set_ylabel('Transition Rate')\n",
    "ax.legend(loc='center')\n",
    "\n",
    "plt.show()"
   ]
  },
  {
   "cell_type": "markdown",
   "id": "d8749be8-1c43-45d9-b784-a0b8fea982bd",
   "metadata": {},
   "source": [
    "This is quite cool -- EMS is [known to induce mainly C:G→T:A mutations](https://www.frontiersin.org/journals/plant-science/articles/10.3389/fpls.2022.1052569/full), and we see an enormous rate increase of that kind of mutation in the EMS sample vs. the one that was allowed to evolve on its own."
   ]
  },
  {
   "cell_type": "markdown",
   "id": "ce4b6882-b23e-441c-807a-95d448e32d70",
   "metadata": {},
   "source": [
    "Another thing we want to know is what proportion of the reads in the population have each variant. *Nanno* is haploid, but we sequenced a population; so the proportion of reads containing a given variant represents the proportion of the population containing that mutation. Strelka's docs provide a [procedure for calculating alternate allele frequency](https://github.com/Illumina/strelka/blob/v2.9.x/docs/userGuide/README.md#somatic) from the `vcf` file, which we'll implement here:\n",
    "\n",
    "```\n",
    "refCounts = Value of FORMAT column $REF + “U” (e.g. if REF=\"A\" then use the value in FOMRAT/AU)\n",
    "altCounts = Value of FORMAT column $ALT + “U” (e.g. if ALT=\"T\" then use the value in FOMRAT/TU)\n",
    "tier1RefCounts = First comma-delimited value from $refCounts\n",
    "tier1AltCounts = First comma-delimited value from $altCounts\n",
    "Somatic allele freqeuncy is $tier1AltCounts / ($tier1AltCounts + $tier1RefCounts)\n",
    "```\n",
    "\n",
    "Note that this is a formula, not a code snippet, so our implementation below will look different. I can't figure out a straightforward way to get the values from the custom columns of the `vcf` with `pysam`, so I'll just read it in as a dataframe, skipping the rows beginning with `#`."
   ]
  },
  {
   "cell_type": "code",
   "execution_count": 24,
   "id": "aa2c97c5-bd11-4a29-adc9-9d2c625df00f",
   "metadata": {},
   "outputs": [],
   "source": [
    "def loadVCF(vcf):\n",
    "    \"\"\"\n",
    "    Use pandas to load a vcf as a dataframe.\n",
    "    \"\"\"\n",
    "    # Detect true header row\n",
    "    with gzip.open(vcf, 'rb') as f:\n",
    "        for i, l in enumerate(f.readlines()):\n",
    "            if l.decode()[0] != '#':\n",
    "                header_row = i - 1 # Want the last row starting with #\n",
    "                break\n",
    "\n",
    "    # Load vcf\n",
    "    df = pd.read_csv(vcf, sep='\\t', header=header_row)\n",
    "\n",
    "    return df\n",
    "    \n",
    "\n",
    "def calculateAlleleFreqs(vcf, indels=False):\n",
    "    \"\"\"\n",
    "    Calculate minor allele frequencies for every variant in a vcf.\n",
    "\n",
    "    parameters:\n",
    "        vcf, str: path to a vcf file\n",
    "        indels, bool: whether or not the file contains indels or SNVs\n",
    "        \n",
    "    returns:\n",
    "        alt_freq_dict, dict: keys are variants (as <chrom>_<pos>_<ref>_<alt>),\n",
    "            values are a dict of allele frequencies between 0 and 1 for each base\n",
    "    \"\"\"\n",
    "    # Headers are:\n",
    "    #CHROM\tPOS\tID\tREF\tALT\tQUAL FILTER\tINFO FORMAT\tNORMAL TUMOR\n",
    "    variant_df = loadVCF(vcf)\n",
    "\n",
    "    # Could do this with apply, but I don't think that's actually any\n",
    "    # faster than iterating directly, and this is simpler to read\n",
    "    alt_freq_dict = {}\n",
    "    for i, variant in tqdm(variant_df.iterrows()):\n",
    "\n",
    "        # Get the count values -- need to coprresond the position in the FORMAT\n",
    "        # string with the value in the TUMOR string\n",
    "\n",
    "        ref_indexer = 'TAR' if indels else f'{variant.REF}U'\n",
    "        ref_count_idx = variant.FORMAT.split(':').index(ref_indexer)\n",
    "        ref_count = int(variant.TUMOR.split(':')[ref_count_idx].split(',')[0])\n",
    "        # print(f\"Tier1 count: {int(variant.TUMOR.split(':')[ref_count_idx].split(',')[0])}, tier2 count: {int(variant.TUMOR.split(':')[ref_count_idx].split(',')[1])}\")\n",
    "\n",
    "        alt_indexer = 'TIR' if indels else f'{variant.ALT}U'\n",
    "        alt_count_idx = variant.FORMAT.split(':').index(alt_indexer)\n",
    "        alt_count = int(variant.TUMOR.split(':')[alt_count_idx].split(',')[0])\n",
    "\n",
    "\n",
    "        # Calculate frequency\n",
    "        alt_freq = alt_count / (alt_count + ref_count)\n",
    "\n",
    "        # Add to dict\n",
    "        alt_freq_dict['_'.join([variant['#CHROM'], str(variant.POS), variant.REF, variant.ALT])] = alt_freq\n",
    "\n",
    "    return alt_freq_dict"
   ]
  },
  {
   "cell_type": "code",
   "execution_count": 29,
   "id": "f9808313-ad7b-47ab-abf3-34513e2a6280",
   "metadata": {},
   "outputs": [
    {
     "name": "stderr",
     "output_type": "stream",
     "text": [
      "549it [00:00, 11416.72it/s]\n",
      "556it [00:00, 11444.66it/s]\n",
      "31it [00:00, 10764.42it/s]\n",
      "51it [00:00, 11302.41it/s]\n"
     ]
    }
   ],
   "source": [
    "all_alt_freqs = {}\n",
    "for sample, snv_path in filtered_snv_paths.items():\n",
    "    all_alt_freqs[sample] = calculateAlleleFreqs(snv_path)"
   ]
  },
  {
   "cell_type": "markdown",
   "id": "4e131353-5135-45f8-a097-fea1147967d6",
   "metadata": {},
   "source": [
    "Now let's make a violin plot of the frequencies:"
   ]
  },
  {
   "cell_type": "code",
   "execution_count": 31,
   "id": "224dbd11-d753-4fc9-88c8-79809de86948",
   "metadata": {},
   "outputs": [
    {
     "data": {
      "text/html": [
       "<div>\n",
       "<style scoped>\n",
       "    .dataframe tbody tr th:only-of-type {\n",
       "        vertical-align: middle;\n",
       "    }\n",
       "\n",
       "    .dataframe tbody tr th {\n",
       "        vertical-align: top;\n",
       "    }\n",
       "\n",
       "    .dataframe thead th {\n",
       "        text-align: right;\n",
       "    }\n",
       "</style>\n",
       "<table border=\"1\" class=\"dataframe\">\n",
       "  <thead>\n",
       "    <tr style=\"text-align: right;\">\n",
       "      <th></th>\n",
       "      <th>sample</th>\n",
       "      <th>alt_frequency</th>\n",
       "    </tr>\n",
       "  </thead>\n",
       "  <tbody>\n",
       "    <tr>\n",
       "      <th>0</th>\n",
       "      <td>01MRep1 (EMS)</td>\n",
       "      <td>0.217082</td>\n",
       "    </tr>\n",
       "    <tr>\n",
       "      <th>1</th>\n",
       "      <td>01MRep1 (EMS)</td>\n",
       "      <td>0.053156</td>\n",
       "    </tr>\n",
       "    <tr>\n",
       "      <th>2</th>\n",
       "      <td>01MRep1 (EMS)</td>\n",
       "      <td>0.022472</td>\n",
       "    </tr>\n",
       "    <tr>\n",
       "      <th>3</th>\n",
       "      <td>01MRep1 (EMS)</td>\n",
       "      <td>0.030986</td>\n",
       "    </tr>\n",
       "    <tr>\n",
       "      <th>4</th>\n",
       "      <td>01MRep1 (EMS)</td>\n",
       "      <td>0.162534</td>\n",
       "    </tr>\n",
       "  </tbody>\n",
       "</table>\n",
       "</div>"
      ],
      "text/plain": [
       "          sample  alt_frequency\n",
       "0  01MRep1 (EMS)       0.217082\n",
       "1  01MRep1 (EMS)       0.053156\n",
       "2  01MRep1 (EMS)       0.022472\n",
       "3  01MRep1 (EMS)       0.030986\n",
       "4  01MRep1 (EMS)       0.162534"
      ]
     },
     "execution_count": 31,
     "metadata": {},
     "output_type": "execute_result"
    }
   ],
   "source": [
    "for_violin = [(sample_name_key[k], freq) for k, v in all_alt_freqs.items() for freq in v.values()]\n",
    "\n",
    "\n",
    "for_violin_df = pd.DataFrame.from_records(for_violin, columns=['sample', 'alt_frequency'])\n",
    "for_violin_df.head()"
   ]
  },
  {
   "cell_type": "code",
   "execution_count": 32,
   "id": "d2873661-3304-4690-b500-96e7d78c95fa",
   "metadata": {},
   "outputs": [
    {
     "data": {
      "text/plain": [
       "<Axes: xlabel='sample', ylabel='alt_frequency'>"
      ]
     },
     "execution_count": 32,
     "metadata": {},
     "output_type": "execute_result"
    },
    {
     "data": {
      "image/png": "[encoded data removed]",
      "text/plain": [
       "<Figure size 640x480 with 1 Axes>"
      ]
     },
     "metadata": {},
     "output_type": "display_data"
    }
   ],
   "source": [
    "sns.violinplot(for_violin_df, x='sample', y='alt_frequency')"
   ]
  },
  {
   "cell_type": "markdown",
   "id": "d3080212-b769-4416-9293-838f09f07928",
   "metadata": {},
   "source": [
    "The violin plot indicates that no more than 50% of the population has any given variant. What are the mins and maxes, and which variants do they correspond to?"
   ]
  },
  {
   "cell_type": "code",
   "execution_count": 37,
   "id": "589e5b68-580c-4cf9-bc5d-de8af3d05df5",
   "metadata": {},
   "outputs": [
    {
     "name": "stdout",
     "output_type": "stream",
     "text": [
      "Maximum frequency is for variant scf_28_29835_G_A, with a frequency of 0.584\n",
      "Maximum frequency is for variant scf_10_283569_G_A, with a frequency of 0.459\n",
      "Maximum frequency is for variant scf_21_197250_A_C, with a frequency of 0.375\n",
      "Maximum frequency is for variant scf_21_197250_A_C, with a frequency of 0.306\n"
     ]
    }
   ],
   "source": [
    "for sample, freqs in all_alt_freqs.items():\n",
    "    print(f'Maximum frequency is for variant {max(freqs, key=freqs.get)}, with a frequency of {max(freqs.values()):.3f}')"
   ]
  },
  {
   "cell_type": "markdown",
   "id": "fa869b88-4998-43ab-b2ec-796cf0469f08",
   "metadata": {},
   "source": [
    "How many of the variants are in common across the two reps for each sample?"
   ]
  },
  {
   "cell_type": "code",
   "execution_count": 83,
   "id": "70833aa9-ad04-415d-b86c-a5c2b5dc8bec",
   "metadata": {},
   "outputs": [
    {
     "name": "stdout",
     "output_type": "stream",
     "text": [
      "There are 11 variants in common for the non-EMS replicates (of 51 and 31).\n"
     ]
    }
   ],
   "source": [
    "var_shared_non_EMS = set(all_alt_freqs['0MRep1_vs_537controlRep2'].keys()).intersection(set(all_alt_freqs['0MRep3_vs_537controlRep2'].keys()))\n",
    "print(f'There are {len(var_shared_non_EMS)} variants in common for the non-EMS replicates (of {len(set(all_alt_freqs[\"0MRep1_vs_537controlRep2\"].keys()))} and {len(set(all_alt_freqs[\"0MRep3_vs_537controlRep2\"].keys()))}).')"
   ]
  },
  {
   "cell_type": "code",
   "execution_count": 89,
   "id": "6364dcfb-7206-400e-8c7d-70645d87f9b2",
   "metadata": {},
   "outputs": [
    {
     "name": "stdout",
     "output_type": "stream",
     "text": [
      "There are 405 variants in common for the EMS replicates (of 549 and 556).\n"
     ]
    }
   ],
   "source": [
    "var_shared_EMS = set(all_alt_freqs['01MRep1_vs_537controlRep2'].keys()).intersection(set(all_alt_freqs['01MRep2_vs_537controlRep2'].keys()))\n",
    "print(f'There are {len(var_shared_EMS)} variants in common for the EMS replicates (of {len(set(all_alt_freqs[\"01MRep1_vs_537controlRep2\"].keys()))} and {len(set(all_alt_freqs[\"01MRep2_vs_537controlRep2\"].keys()))}).')"
   ]
  },
  {
   "cell_type": "markdown",
   "id": "bffb0454-d407-4b8d-a248-22ef61c5cf83",
   "metadata": {},
   "source": [
    "## Indels\n",
    "Thus far we've only looked at the SNVs in our data; what about the indels?"
   ]
  },
  {
   "cell_type": "code",
   "execution_count": 38,
   "id": "e0803db4-dee0-4a5a-98eb-cae15421321a",
   "metadata": {},
   "outputs": [
    {
     "name": "stdout",
     "output_type": "stream",
     "text": [
      "Indel variants for sample 01MRep1_vs_537controlRep2:\n",
      "-------------------------------------------\n",
      "scf_2 120586 T > TTCCC None PASS\n",
      "scf_2 185855 AGAG > A None PASS\n",
      "scf_6 712028 GCGC > G None PASS\n",
      "scf_6 1025167 TTCC > T None PASS\n",
      "scf_14 627792 C > CCCCTCTCT None PASS\n",
      "scf_14 675746 T > TC None PASS\n",
      "scf_16 605303 T > TTA None PASS\n",
      "scf_19 215751 GAA > G None PASS\n",
      "scf_24 1002851 TCTGGAA > T None PASS\n",
      "scf_29 214010 CT > C None PASS\n",
      "scf_29 289508 GGGA > G None PASS\n",
      "scf_35 333030 TCTC > T None PASS\n",
      "\n",
      "For sample 01MRep1_vs_537controlRep2, 12 of 899 variants passed, which is 1.33%.\n",
      "\n",
      "Indel variants for sample 01MRep2_vs_537controlRep2:\n",
      "-------------------------------------------\n",
      "scf_6 712028 GCGC > G None PASS\n",
      "scf_14 627792 C > CCCCTCTCT None PASS\n",
      "scf_16 149718 A > AAT None PASS\n",
      "scf_19 707589 T > TC None PASS\n",
      "scf_20 158358 A > AG None PASS\n",
      "scf_24 819444 TG > T None PASS\n",
      "scf_24 1002851 TCTGGAA > T None PASS\n",
      "scf_29 211683 CAT > C None PASS\n",
      "scf_32 550041 C > CG None PASS\n",
      "\n",
      "For sample 01MRep2_vs_537controlRep2, 9 of 428 variants passed, which is 2.10%.\n",
      "\n",
      "Indel variants for sample 0MRep3_vs_537controlRep2:\n",
      "-------------------------------------------\n",
      "scf_2 453749 AC > A None PASS\n",
      "scf_9 1044578 C > CAATA None PASS\n",
      "scf_10 1163273 TCTCC > T None PASS\n",
      "scf_11 803969 T > TCGACGG None PASS\n",
      "scf_14 38344 CA > C None PASS\n",
      "scf_17 66764 C > CCCTT None PASS\n",
      "scf_17 709790 TC > T None PASS\n",
      "scf_21 155375 T > TG None PASS\n",
      "scf_21 196997 GTGTTCA > G None PASS\n",
      "scf_21 197209 GT > G None PASS\n",
      "scf_21 197734 GC > G None PASS\n",
      "scf_23 62629 TTCCC > T None PASS\n",
      "scf_29 214010 CT > C None PASS\n",
      "scf_32 598590 TC > T None PASS\n",
      "\n",
      "For sample 0MRep3_vs_537controlRep2, 14 of 806 variants passed, which is 1.74%.\n",
      "\n",
      "Indel variants for sample 0MRep1_vs_537controlRep2:\n",
      "-------------------------------------------\n",
      "scf_2 453749 AC > A None PASS\n",
      "scf_9 1044578 C > CAATA None PASS\n",
      "scf_11 803969 T > TCGACGG None PASS\n",
      "scf_14 38344 CA > C None PASS\n",
      "scf_17 66764 C > CCCTT None PASS\n",
      "scf_19 567213 A > AAT None PASS\n",
      "scf_19 572560 CT > C None PASS\n",
      "scf_21 107074 CCT > C None PASS\n",
      "scf_21 196997 GTGTTCA > G None PASS\n",
      "scf_21 197209 GT > G None PASS\n",
      "scf_21 197734 GC > G None PASS\n",
      "scf_29 211683 C > CAT None PASS\n",
      "scf_35 48363 GTA > G None PASS\n",
      "scf_36 103574 TC > T None PASS\n",
      "\n",
      "For sample 0MRep1_vs_537controlRep2, 14 of 422 variants passed, which is 3.32%.\n",
      "\n"
     ]
    }
   ],
   "source": [
    "for sample, filepath in indel_filepaths.items():\n",
    "    vcf = VariantFile(filepath)\n",
    "    variants = vcf.fetch()\n",
    "    print(f'Indel variants for sample {sample}:')\n",
    "    print('-------------------------------------------')\n",
    "    passed = []\n",
    "    total = 0\n",
    "    for variant in variants:\n",
    "        if variant.filter.keys()[0] == 'PASS':\n",
    "            print(variant.chrom, variant.pos, variant.ref, \">\", variant.alts[0], variant.qual, variant.filter.values()[0].name)\n",
    "            passed.append(variant)\n",
    "        total += 1\n",
    "    print(f'\\nFor sample {sample}, {len(passed)} of {total} variants passed, which is {(len(passed)/total)*100:.2f}%.\\n')"
   ]
  },
  {
   "cell_type": "markdown",
   "id": "e29ae82c-7f03-4529-ae10-c7be319bb38f",
   "metadata": {},
   "source": [
    "There are way fewer indel mutants than point mutations, and a similar number between the normal and EMS mutants, which makes sense, as EMS induces point mutations. Write them out:"
   ]
  },
  {
   "cell_type": "code",
   "execution_count": 39,
   "id": "c66d9182-ce67-42f4-9572-aba6e9fe3d9d",
   "metadata": {},
   "outputs": [],
   "source": [
    "# Adapted from the Gemini suggested answer\n",
    "filtered_indel_paths = {}\n",
    "for sample in indel_filepaths.keys():\n",
    "    indel_path = f'{var_top_path}/{sample}/{sample}.strelka.somatic_indels.vcf.gz'\n",
    "    filtered_path = f'{var_top_path}/{sample}/{sample}.strelka.somatic_indels_FILTERED.vcf.gz'\n",
    "    filtered_indel_paths[sample] = filtered_path\n",
    "\n",
    "    with VariantFile(indel_path) as vcf_in, \\\n",
    "         VariantFile(filtered_path, 'w', header=vcf_in.header) as vcf_out:\n",
    "    \n",
    "        for record in vcf_in:\n",
    "            if 'PASS' in record.filter.keys():\n",
    "                vcf_out.write(record)"
   ]
  },
  {
   "cell_type": "markdown",
   "id": "22f7add6-adf5-4fb2-ae8b-c02a0fb147f1",
   "metadata": {},
   "source": [
    "Calculate the alternate allele frequencies of the indels, following the procedure provided by strelka (modified the previous function to have an indels option):\n",
    "\n",
    "```\n",
    "tier1RefCounts = First comma-delimited value from FORMAT/TAR\n",
    "tier1AltCounts = First comma-delimited value from FORMAT/TIR\n",
    "Somatic allele freqeuncy is $tier1AltCounts / ($tier1AltCounts + $tier1RefCounts)\n",
    "```"
   ]
  },
  {
   "cell_type": "code",
   "execution_count": 41,
   "id": "3992323e-90e6-4377-b674-cdbd706145bb",
   "metadata": {},
   "outputs": [
    {
     "name": "stderr",
     "output_type": "stream",
     "text": [
      "12it [00:00, 10151.60it/s]\n",
      "9it [00:00, 5581.66it/s]\n",
      "14it [00:00, 10292.77it/s]\n",
      "14it [00:00, 10892.28it/s]\n"
     ]
    }
   ],
   "source": [
    "all_alt_freqs_indels = {}\n",
    "for sample, indel_path in filtered_indel_paths.items():\n",
    "    all_alt_freqs_indels[sample] = calculateAlleleFreqs(indel_path, indels=True)"
   ]
  },
  {
   "cell_type": "code",
   "execution_count": 46,
   "id": "bddbb0ef-4e58-432a-94ab-f98a0a3734ef",
   "metadata": {},
   "outputs": [
    {
     "data": {
      "text/html": [
       "<div>\n",
       "<style scoped>\n",
       "    .dataframe tbody tr th:only-of-type {\n",
       "        vertical-align: middle;\n",
       "    }\n",
       "\n",
       "    .dataframe tbody tr th {\n",
       "        vertical-align: top;\n",
       "    }\n",
       "\n",
       "    .dataframe thead th {\n",
       "        text-align: right;\n",
       "    }\n",
       "</style>\n",
       "<table border=\"1\" class=\"dataframe\">\n",
       "  <thead>\n",
       "    <tr style=\"text-align: right;\">\n",
       "      <th></th>\n",
       "      <th>sample</th>\n",
       "      <th>alt_frequency</th>\n",
       "    </tr>\n",
       "  </thead>\n",
       "  <tbody>\n",
       "    <tr>\n",
       "      <th>0</th>\n",
       "      <td>01MRep1 (EMS)</td>\n",
       "      <td>0.941176</td>\n",
       "    </tr>\n",
       "    <tr>\n",
       "      <th>1</th>\n",
       "      <td>01MRep1 (EMS)</td>\n",
       "      <td>0.142857</td>\n",
       "    </tr>\n",
       "    <tr>\n",
       "      <th>2</th>\n",
       "      <td>01MRep1 (EMS)</td>\n",
       "      <td>0.142857</td>\n",
       "    </tr>\n",
       "    <tr>\n",
       "      <th>3</th>\n",
       "      <td>01MRep1 (EMS)</td>\n",
       "      <td>0.142857</td>\n",
       "    </tr>\n",
       "    <tr>\n",
       "      <th>4</th>\n",
       "      <td>01MRep1 (EMS)</td>\n",
       "      <td>0.427027</td>\n",
       "    </tr>\n",
       "  </tbody>\n",
       "</table>\n",
       "</div>"
      ],
      "text/plain": [
       "          sample  alt_frequency\n",
       "0  01MRep1 (EMS)       0.941176\n",
       "1  01MRep1 (EMS)       0.142857\n",
       "2  01MRep1 (EMS)       0.142857\n",
       "3  01MRep1 (EMS)       0.142857\n",
       "4  01MRep1 (EMS)       0.427027"
      ]
     },
     "execution_count": 46,
     "metadata": {},
     "output_type": "execute_result"
    }
   ],
   "source": [
    "indel_for_violin = [(sample_name_key[k], freq) for k, v in all_alt_freqs_indels.items() for freq in v.values()]\n",
    "\n",
    "\n",
    "indel_for_violin_df = pd.DataFrame.from_records(indel_for_violin, columns=['sample', 'alt_frequency'])\n",
    "indel_for_violin_df.head()"
   ]
  },
  {
   "cell_type": "code",
   "execution_count": 47,
   "id": "c4e47369-7355-426d-b31a-03cc09254e61",
   "metadata": {},
   "outputs": [
    {
     "data": {
      "text/plain": [
       "<Axes: xlabel='sample', ylabel='alt_frequency'>"
      ]
     },
     "execution_count": 47,
     "metadata": {},
     "output_type": "execute_result"
    },
    {
     "data": {
      "image/png": "[encoded data removed]",
      "text/plain": [
       "<Figure size 640x480 with 1 Axes>"
      ]
     },
     "metadata": {},
     "output_type": "display_data"
    }
   ],
   "source": [
    "sns.violinplot(indel_for_violin_df, x='sample', y='alt_frequency')"
   ]
  },
  {
   "cell_type": "markdown",
   "id": "c95c060f-346f-43ed-b1db-39d69e86a988",
   "metadata": {},
   "source": [
    "This is much different than the SNVs! In the non-EMS sample, there's at least one mutation with a high frequency; what's the maximum value, and what's the indel?"
   ]
  },
  {
   "cell_type": "code",
   "execution_count": 48,
   "id": "86c75a0d-a982-4a2f-8b24-db7c300d0bd4",
   "metadata": {},
   "outputs": [
    {
     "name": "stdout",
     "output_type": "stream",
     "text": [
      "Maximum frequency is for variant scf_2_120586_T_TTCCC, with a frequency of 0.941\n",
      "Maximum frequency is for variant scf_14_627792_C_CCCCTCTCT, with a frequency of 0.333\n",
      "Maximum frequency is for variant scf_17_66764_C_CCCTT, with a frequency of 0.490\n",
      "Maximum frequency is for variant scf_19_572560_CT_C, with a frequency of 0.833\n"
     ]
    }
   ],
   "source": [
    "for sample, freqs in all_alt_freqs_indels.items():\n",
    "    print(f'Maximum frequency is for variant {max(freqs, key=freqs.get)}, with a frequency of {max(freqs.values()):.3f}')"
   ]
  },
  {
   "cell_type": "markdown",
   "id": "87984c97-18da-4f60-92f3-58f42f9d45f3",
   "metadata": {},
   "source": [
    "Those are high frequencies! We'll come back around to this in further investigation later on."
   ]
  },
  {
   "cell_type": "code",
   "execution_count": 86,
   "id": "d74f9be6-2bdf-4fbd-ad06-49652f0c1b80",
   "metadata": {},
   "outputs": [
    {
     "name": "stdout",
     "output_type": "stream",
     "text": [
      "There are 8 indels in common for the non-EMS replicates (of 14 and 14).\n"
     ]
    }
   ],
   "source": [
    "indel_shared_non_EMS = set(all_alt_freqs_indels['0MRep1_vs_537controlRep2'].keys()).intersection(set(all_alt_freqs_indels['0MRep3_vs_537controlRep2'].keys()))\n",
    "print(f'There are {len(indel_shared_non_EMS)} indels in common for the non-EMS replicates (of {len(set(all_alt_freqs_indels[\"0MRep1_vs_537controlRep2\"].keys()))} and {len(set(all_alt_freqs_indels[\"0MRep3_vs_537controlRep2\"].keys()))}).')"
   ]
  },
  {
   "cell_type": "code",
   "execution_count": 88,
   "id": "9f0f7f3e-b4bb-4737-a192-e6495d6b0b96",
   "metadata": {},
   "outputs": [
    {
     "name": "stdout",
     "output_type": "stream",
     "text": [
      "There are 3 variants in common for the EMS replicates (of 12 and 9).\n"
     ]
    }
   ],
   "source": [
    "indel_shared_EMS = set(all_alt_freqs_indels['01MRep1_vs_537controlRep2'].keys()).intersection(set(all_alt_freqs_indels['01MRep2_vs_537controlRep2'].keys()))\n",
    "print(f'There are {len(indel_shared_EMS)} variants in common for the EMS replicates (of {len(set(all_alt_freqs_indels[\"01MRep1_vs_537controlRep2\"].keys()))} and {len(set(all_alt_freqs_indels[\"01MRep2_vs_537controlRep2\"].keys()))}).')"
   ]
  },
  {
   "cell_type": "markdown",
   "id": "145d648b-87ce-489c-943a-3e2e58d68dbd",
   "metadata": {},
   "source": [
    "## Investigating mutations\n",
    "We now want to narrow in on what genes these mutations may be impacting. Ideally, we want to see what genes are affected by the SNPs and indels. A useful tool for this is the [BEDtools](https://bedtools.readthedocs.io/en/latest/) module; specifically, we can [get the intersection of a SNP file with a genome annotation](https://www.biostars.org/p/379113/#379121). The bulk of this work will take place on the command line.\n",
    "\n",
    "First, we need to convert the `gff3` annotation file to a `gtf` file with `gffread`. From within the `data/genome` directory:\n",
    "\n",
    "```\n",
    "gffread n_salina.working_models.gff3 -T -o n_salina.working_models.gtf\n",
    "```\n",
    "(Note: I provided the full path to where I'd cloned `gffread` rather than adding to `PATH`)\n",
    "\n",
    "### SNVs\n",
    "Next, use BEDtools to get the intersections. We'll use the built-in access to the subprocess module to do that here in the notebook:"
   ]
  },
  {
   "cell_type": "code",
   "execution_count": 63,
   "id": "96476cd4-ebd8-4c37-a8d8-346eaf07243f",
   "metadata": {},
   "outputs": [
    {
     "name": "stdout",
     "output_type": "stream",
     "text": [
      "dict_keys(['01MRep1_vs_537controlRep2', '01MRep2_vs_537controlRep2', '0MRep3_vs_537controlRep2', '0MRep1_vs_537controlRep2'])\n"
     ]
    }
   ],
   "source": [
    "# Copy these into the bash command below\n",
    "print(snv_filepaths.keys())"
   ]
  },
  {
   "cell_type": "code",
   "execution_count": 62,
   "id": "5619ce83-6132-4a85-a78a-2dc8872568e9",
   "metadata": {},
   "outputs": [
    {
     "name": "stdout",
     "output_type": "stream",
     "text": [
      "01MRep1_vs_537controlRep2\n",
      "01MRep2_vs_537controlRep2\n",
      "0MRep3_vs_537controlRep2\n",
      "0MRep1_vs_537controlRep2\n"
     ]
    }
   ],
   "source": [
    "%%bash\n",
    "module load BEDTools/2.31.0-GCC-12.3.0\n",
    "strings=(\n",
    "    \"01MRep1_vs_537controlRep2\"\n",
    "    \"01MRep2_vs_537controlRep2\"\n",
    "    \"0MRep3_vs_537controlRep2\"\n",
    "    \"0MRep1_vs_537controlRep2\"\n",
    ")\n",
    "for string in \"${strings[@]}\"; do\n",
    "    echo $string\n",
    "    bedtools intersect \\\n",
    "        -wa -wb \\\n",
    "        -a \"/mnt/research/Walker_Lab_Research/Serena_project_data/evolved-nanno_data/data/nanno_sarek/separate_samplesheets_strelka/variant_calling/strelka/${string}/${string}.strelka.somatic_snvs_FILTERED.vcf.gz\" -b /mnt/research/Walker_Lab_Research/Serena_project_data/evolved-nanno_data/data/genome/n_salina.working_models.gtf > \"/mnt/research/Walker_Lab_Research/Serena_project_data/evolved-nanno_data/data/nanno_sarek/separate_samplesheets_strelka/variant_calling/strelka/${string}/${string}_FILTERED_SNVs_overlap_with_annotations.txt\"\n",
    "done"
   ]
  },
  {
   "cell_type": "markdown",
   "id": "7d19036d-77f0-4a0f-a980-f31b84f2dd41",
   "metadata": {},
   "source": [
    "Now read in the files we generated:"
   ]
  },
  {
   "cell_type": "code",
   "execution_count": 65,
   "id": "b42460a9-998d-4e7f-90ce-afe201dd4351",
   "metadata": {},
   "outputs": [],
   "source": [
    "snv_intersects = {}\n",
    "for sample in snv_filepaths.keys():\n",
    "    df = pd.read_csv(f'/mnt/research/Walker_Lab_Research/Serena_project_data/evolved-nanno_data/data/nanno_sarek/separate_samplesheets_strelka/variant_calling/strelka/{sample}/{sample}_FILTERED_SNVs_overlap_with_annotations.txt', sep='\\t', header=None)\n",
    "    snv_intersects[sample] = df"
   ]
  },
  {
   "cell_type": "code",
   "execution_count": 67,
   "id": "2916c402-c2b0-4452-bcb2-51e045cde303",
   "metadata": {},
   "outputs": [
    {
     "data": {
      "text/html": [
       "<div>\n",
       "<style scoped>\n",
       "    .dataframe tbody tr th:only-of-type {\n",
       "        vertical-align: middle;\n",
       "    }\n",
       "\n",
       "    .dataframe tbody tr th {\n",
       "        vertical-align: top;\n",
       "    }\n",
       "\n",
       "    .dataframe thead th {\n",
       "        text-align: right;\n",
       "    }\n",
       "</style>\n",
       "<table border=\"1\" class=\"dataframe\">\n",
       "  <thead>\n",
       "    <tr style=\"text-align: right;\">\n",
       "      <th></th>\n",
       "      <th>0</th>\n",
       "      <th>1</th>\n",
       "      <th>2</th>\n",
       "      <th>3</th>\n",
       "      <th>4</th>\n",
       "      <th>5</th>\n",
       "      <th>6</th>\n",
       "      <th>7</th>\n",
       "      <th>8</th>\n",
       "      <th>9</th>\n",
       "      <th>10</th>\n",
       "      <th>11</th>\n",
       "      <th>12</th>\n",
       "      <th>13</th>\n",
       "      <th>14</th>\n",
       "      <th>15</th>\n",
       "      <th>16</th>\n",
       "      <th>17</th>\n",
       "      <th>18</th>\n",
       "      <th>19</th>\n",
       "    </tr>\n",
       "  </thead>\n",
       "  <tbody>\n",
       "    <tr>\n",
       "      <th>0</th>\n",
       "      <td>scf_1</td>\n",
       "      <td>324385</td>\n",
       "      <td>.</td>\n",
       "      <td>C</td>\n",
       "      <td>T</td>\n",
       "      <td>.</td>\n",
       "      <td>PASS</td>\n",
       "      <td>SOMATIC;QSS=80;TQSS=2;NT=ref;QSS_NT=80;TQSS_NT...</td>\n",
       "      <td>DP:FDP:SDP:SUBDP:AU:CU:GU:TU</td>\n",
       "      <td>145:2:0:0:0,0:143,149:0,0:0,0</td>\n",
       "      <td>271:4:0:0:0,0:261,268:0,0:6,6</td>\n",
       "      <td>scf_1</td>\n",
       "      <td>MSU_v1</td>\n",
       "      <td>transcript</td>\n",
       "      <td>320494</td>\n",
       "      <td>324789</td>\n",
       "      <td>.</td>\n",
       "      <td>-</td>\n",
       "      <td>.</td>\n",
       "      <td>transcript_id \"N_sal.S001040.1\"; gene_id \"N_sa...</td>\n",
       "    </tr>\n",
       "    <tr>\n",
       "      <th>1</th>\n",
       "      <td>scf_1</td>\n",
       "      <td>324385</td>\n",
       "      <td>.</td>\n",
       "      <td>C</td>\n",
       "      <td>T</td>\n",
       "      <td>.</td>\n",
       "      <td>PASS</td>\n",
       "      <td>SOMATIC;QSS=80;TQSS=2;NT=ref;QSS_NT=80;TQSS_NT...</td>\n",
       "      <td>DP:FDP:SDP:SUBDP:AU:CU:GU:TU</td>\n",
       "      <td>145:2:0:0:0,0:143,149:0,0:0,0</td>\n",
       "      <td>271:4:0:0:0,0:261,268:0,0:6,6</td>\n",
       "      <td>scf_1</td>\n",
       "      <td>MSU_v1</td>\n",
       "      <td>exon</td>\n",
       "      <td>321745</td>\n",
       "      <td>324789</td>\n",
       "      <td>.</td>\n",
       "      <td>-</td>\n",
       "      <td>.</td>\n",
       "      <td>transcript_id \"N_sal.S001040.1\"; gene_id \"N_sa...</td>\n",
       "    </tr>\n",
       "    <tr>\n",
       "      <th>2</th>\n",
       "      <td>scf_1</td>\n",
       "      <td>324385</td>\n",
       "      <td>.</td>\n",
       "      <td>C</td>\n",
       "      <td>T</td>\n",
       "      <td>.</td>\n",
       "      <td>PASS</td>\n",
       "      <td>SOMATIC;QSS=80;TQSS=2;NT=ref;QSS_NT=80;TQSS_NT...</td>\n",
       "      <td>DP:FDP:SDP:SUBDP:AU:CU:GU:TU</td>\n",
       "      <td>145:2:0:0:0,0:143,149:0,0:0,0</td>\n",
       "      <td>271:4:0:0:0,0:261,268:0,0:6,6</td>\n",
       "      <td>scf_1</td>\n",
       "      <td>MSU_v1</td>\n",
       "      <td>CDS</td>\n",
       "      <td>321745</td>\n",
       "      <td>324789</td>\n",
       "      <td>.</td>\n",
       "      <td>-</td>\n",
       "      <td>0</td>\n",
       "      <td>transcript_id \"N_sal.S001040.1\"; gene_id \"N_sa...</td>\n",
       "    </tr>\n",
       "    <tr>\n",
       "      <th>3</th>\n",
       "      <td>scf_1</td>\n",
       "      <td>346370</td>\n",
       "      <td>.</td>\n",
       "      <td>C</td>\n",
       "      <td>T</td>\n",
       "      <td>.</td>\n",
       "      <td>PASS</td>\n",
       "      <td>SOMATIC;QSS=97;TQSS=1;NT=ref;QSS_NT=97;TQSS_NT...</td>\n",
       "      <td>DP:FDP:SDP:SUBDP:AU:CU:GU:TU</td>\n",
       "      <td>198:1:0:0:0,0:197,199:0,0:0,0</td>\n",
       "      <td>364:9:0:0:0,0:344,350:0,0:11,15</td>\n",
       "      <td>scf_1</td>\n",
       "      <td>MSU_v1</td>\n",
       "      <td>transcript</td>\n",
       "      <td>343441</td>\n",
       "      <td>348037</td>\n",
       "      <td>.</td>\n",
       "      <td>+</td>\n",
       "      <td>.</td>\n",
       "      <td>transcript_id \"N_sal.S001130.1\"; gene_id \"N_sa...</td>\n",
       "    </tr>\n",
       "    <tr>\n",
       "      <th>4</th>\n",
       "      <td>scf_1</td>\n",
       "      <td>346370</td>\n",
       "      <td>.</td>\n",
       "      <td>C</td>\n",
       "      <td>T</td>\n",
       "      <td>.</td>\n",
       "      <td>PASS</td>\n",
       "      <td>SOMATIC;QSS=97;TQSS=1;NT=ref;QSS_NT=97;TQSS_NT...</td>\n",
       "      <td>DP:FDP:SDP:SUBDP:AU:CU:GU:TU</td>\n",
       "      <td>198:1:0:0:0,0:197,199:0,0:0,0</td>\n",
       "      <td>364:9:0:0:0,0:344,350:0,0:11,15</td>\n",
       "      <td>scf_1</td>\n",
       "      <td>MSU_v1</td>\n",
       "      <td>exon</td>\n",
       "      <td>343441</td>\n",
       "      <td>347049</td>\n",
       "      <td>.</td>\n",
       "      <td>+</td>\n",
       "      <td>.</td>\n",
       "      <td>transcript_id \"N_sal.S001130.1\"; gene_id \"N_sa...</td>\n",
       "    </tr>\n",
       "  </tbody>\n",
       "</table>\n",
       "</div>"
      ],
      "text/plain": [
       "      0       1  2  3  4  5     6   \\\n",
       "0  scf_1  324385  .  C  T  .  PASS   \n",
       "1  scf_1  324385  .  C  T  .  PASS   \n",
       "2  scf_1  324385  .  C  T  .  PASS   \n",
       "3  scf_1  346370  .  C  T  .  PASS   \n",
       "4  scf_1  346370  .  C  T  .  PASS   \n",
       "\n",
       "                                                  7   \\\n",
       "0  SOMATIC;QSS=80;TQSS=2;NT=ref;QSS_NT=80;TQSS_NT...   \n",
       "1  SOMATIC;QSS=80;TQSS=2;NT=ref;QSS_NT=80;TQSS_NT...   \n",
       "2  SOMATIC;QSS=80;TQSS=2;NT=ref;QSS_NT=80;TQSS_NT...   \n",
       "3  SOMATIC;QSS=97;TQSS=1;NT=ref;QSS_NT=97;TQSS_NT...   \n",
       "4  SOMATIC;QSS=97;TQSS=1;NT=ref;QSS_NT=97;TQSS_NT...   \n",
       "\n",
       "                             8                              9   \\\n",
       "0  DP:FDP:SDP:SUBDP:AU:CU:GU:TU  145:2:0:0:0,0:143,149:0,0:0,0   \n",
       "1  DP:FDP:SDP:SUBDP:AU:CU:GU:TU  145:2:0:0:0,0:143,149:0,0:0,0   \n",
       "2  DP:FDP:SDP:SUBDP:AU:CU:GU:TU  145:2:0:0:0,0:143,149:0,0:0,0   \n",
       "3  DP:FDP:SDP:SUBDP:AU:CU:GU:TU  198:1:0:0:0,0:197,199:0,0:0,0   \n",
       "4  DP:FDP:SDP:SUBDP:AU:CU:GU:TU  198:1:0:0:0,0:197,199:0,0:0,0   \n",
       "\n",
       "                                10     11      12          13      14      15  \\\n",
       "0    271:4:0:0:0,0:261,268:0,0:6,6  scf_1  MSU_v1  transcript  320494  324789   \n",
       "1    271:4:0:0:0,0:261,268:0,0:6,6  scf_1  MSU_v1        exon  321745  324789   \n",
       "2    271:4:0:0:0,0:261,268:0,0:6,6  scf_1  MSU_v1         CDS  321745  324789   \n",
       "3  364:9:0:0:0,0:344,350:0,0:11,15  scf_1  MSU_v1  transcript  343441  348037   \n",
       "4  364:9:0:0:0,0:344,350:0,0:11,15  scf_1  MSU_v1        exon  343441  347049   \n",
       "\n",
       "  16 17 18                                                 19  \n",
       "0  .  -  .  transcript_id \"N_sal.S001040.1\"; gene_id \"N_sa...  \n",
       "1  .  -  .  transcript_id \"N_sal.S001040.1\"; gene_id \"N_sa...  \n",
       "2  .  -  0  transcript_id \"N_sal.S001040.1\"; gene_id \"N_sa...  \n",
       "3  .  +  .  transcript_id \"N_sal.S001130.1\"; gene_id \"N_sa...  \n",
       "4  .  +  .  transcript_id \"N_sal.S001130.1\"; gene_id \"N_sa...  "
      ]
     },
     "execution_count": 67,
     "metadata": {},
     "output_type": "execute_result"
    }
   ],
   "source": [
    "snv_intersects['01MRep1_vs_537controlRep2'].head()"
   ]
  },
  {
   "cell_type": "markdown",
   "id": "74835696-9658-4acb-8f23-501a51df6479",
   "metadata": {},
   "source": [
    "Columns 0-10 are the SNVs data, while 11-19 are from the genome annotation. What we really want is the gene name from the last column for each SNV:"
   ]
  },
  {
   "cell_type": "code",
   "execution_count": 68,
   "id": "87267bd5-bcc0-41ec-a090-1fd46ab141a0",
   "metadata": {},
   "outputs": [],
   "source": [
    "for sample, df in snv_intersects.items():\n",
    "    df['gene_name'] = df[19].str.split('\"').str[1]"
   ]
  },
  {
   "cell_type": "markdown",
   "id": "fd086b2f-90f0-40fe-a431-035af788d7ff",
   "metadata": {},
   "source": [
    "For now, we'll only keep the CDS objects:"
   ]
  },
  {
   "cell_type": "code",
   "execution_count": 70,
   "id": "68802761-6b2d-429a-ac72-b1a787d98d12",
   "metadata": {},
   "outputs": [],
   "source": [
    "for sample, df in snv_intersects.items():\n",
    "    snv_intersects[sample] = df[df[13] == 'CDS'].reset_index(drop=True)"
   ]
  },
  {
   "cell_type": "markdown",
   "id": "73bb953a-45be-4cac-a896-798c848f8266",
   "metadata": {},
   "source": [
    "How many SNV-affected genes do we have in each mutant?"
   ]
  },
  {
   "cell_type": "code",
   "execution_count": 72,
   "id": "543c615a-95d2-4ec1-9287-12a4f02323e0",
   "metadata": {},
   "outputs": [
    {
     "name": "stdout",
     "output_type": "stream",
     "text": [
      "There are 341 SNV-affected genes in sample 01MRep1_vs_537controlRep2\n",
      "There are 345 SNV-affected genes in sample 01MRep2_vs_537controlRep2\n",
      "There are 25 SNV-affected genes in sample 0MRep3_vs_537controlRep2\n",
      "There are 40 SNV-affected genes in sample 0MRep1_vs_537controlRep2\n"
     ]
    }
   ],
   "source": [
    "for sample, df in snv_intersects.items():\n",
    "    print(f\"There are {df.groupby(by='gene_name').count().shape[0]} SNV-affected genes in sample {sample}\")"
   ]
  },
  {
   "cell_type": "markdown",
   "id": "8a674525-7ae3-40f3-91d4-52a7df6d8c2e",
   "metadata": {},
   "source": [
    "How many of these genes overlap in the replicates for a given treatment condition?"
   ]
  },
  {
   "cell_type": "code",
   "execution_count": 79,
   "id": "e19ce399-b5bc-4a3c-9389-9a532f877858",
   "metadata": {},
   "outputs": [
    {
     "name": "stdout",
     "output_type": "stream",
     "text": [
      "For the non-EMS samples, there are 8 SNV-affected genes in common.\n"
     ]
    }
   ],
   "source": [
    "in_common_non_EMS = set(snv_intersects['0MRep1_vs_537controlRep2']['gene_name'].tolist()).intersection(set(snv_intersects['0MRep3_vs_537controlRep2']['gene_name'].tolist()))\n",
    "print(f\"For the non-EMS samples, there are {len(in_common_non_EMS)} SNV-affected genes in common.\")"
   ]
  },
  {
   "cell_type": "code",
   "execution_count": 80,
   "id": "9cacd22a-63a1-42a1-beed-0bc41b05b8ca",
   "metadata": {},
   "outputs": [
    {
     "name": "stdout",
     "output_type": "stream",
     "text": [
      "For the EMS samples, there are 257 SNV-affected genes in common.\n"
     ]
    }
   ],
   "source": [
    "in_common_EMS = set(snv_intersects['01MRep1_vs_537controlRep2']['gene_name'].tolist()).intersection(set(snv_intersects['01MRep2_vs_537controlRep2']['gene_name'].tolist()))\n",
    "print(f\"For the EMS samples, there are {len(in_common_EMS)} SNV-affected genes in common.\")"
   ]
  },
  {
   "cell_type": "markdown",
   "id": "fb00c459-df56-4164-8d7a-da76d704c6e4",
   "metadata": {},
   "source": [
    "It makes sense to me that the non-EMS mutants might not have much in common -- because these are biological replicates that grew separately, so there's no environmental factor like EMS to drive a similar kind of mutations. I'm going to leave all the SNVs in the following analyses, but then check them back against these lists of in-common affected genes."
   ]
  },
  {
   "cell_type": "markdown",
   "id": "d00a8dba-e933-449c-bf9f-4ec157db374e",
   "metadata": {},
   "source": [
    "Now let's check if there are any genes in either condition with more than one SNV:"
   ]
  },
  {
   "cell_type": "code",
   "execution_count": 91,
   "id": "a0c39407-9510-46ea-b64a-4fd375c23a32",
   "metadata": {},
   "outputs": [
    {
     "name": "stdout",
     "output_type": "stream",
     "text": [
      "For sample 01MRep1_vs_537controlRep2, there are 10 genes containing more than one SNV.\n",
      "For sample 01MRep2_vs_537controlRep2, there are 11 genes containing more than one SNV.\n",
      "For sample 0MRep3_vs_537controlRep2, there are 0 genes containing more than one SNV.\n",
      "For sample 0MRep1_vs_537controlRep2, there are 0 genes containing more than one SNV.\n"
     ]
    }
   ],
   "source": [
    "genes_more_than_one_SNV = {}\n",
    "for sample, df in snv_intersects.items():\n",
    "    counted = df.groupby(by='gene_name').count()\n",
    "    num_greater = len(counted[counted[0] > 1])\n",
    "    genes_more_than_one_SNV[sample] = counted[counted[0] > 1]\n",
    "    print(f'For sample {sample}, there are {num_greater} genes containing more than one SNV.')"
   ]
  },
  {
   "cell_type": "markdown",
   "id": "77f1fc15-d5e5-4c7a-bd66-9a144bb2903c",
   "metadata": {},
   "source": [
    "How many of the genes with more than one SNV overlap between the two reps?"
   ]
  },
  {
   "cell_type": "code",
   "execution_count": 94,
   "id": "a8c09c7c-42f9-43b6-a147-cbd9e413811e",
   "metadata": {},
   "outputs": [
    {
     "name": "stdout",
     "output_type": "stream",
     "text": [
      "There are 6 genes with multiple SNVs in common between the two conditions\n"
     ]
    }
   ],
   "source": [
    "in_common_multiple_SNVs = set(genes_more_than_one_SNV['01MRep1_vs_537controlRep2'].index.tolist()).intersection(genes_more_than_one_SNV['01MRep2_vs_537controlRep2'].index.tolist())\n",
    "print(f'There are {len(in_common_multiple_SNVs)} genes with multiple SNVs in common between the two conditions')"
   ]
  },
  {
   "cell_type": "markdown",
   "id": "af98143d-0742-4c35-921f-ed8aa53d2506",
   "metadata": {},
   "source": [
    "What are those 6?"
   ]
  },
  {
   "cell_type": "code",
   "execution_count": 95,
   "id": "0ee37215-ab1b-4b7e-9482-79c36d69e050",
   "metadata": {},
   "outputs": [
    {
     "data": {
      "text/plain": [
       "{'N_sal.S003590.1',\n",
       " 'N_sal.S003590.2',\n",
       " 'N_sal.S014430.1',\n",
       " 'N_sal.S020450.1',\n",
       " 'N_sal.S022810.1',\n",
       " 'N_sal.S050120.1'}"
      ]
     },
     "execution_count": 95,
     "metadata": {},
     "output_type": "execute_result"
    }
   ],
   "source": [
    "in_common_multiple_SNVs"
   ]
  },
  {
   "cell_type": "markdown",
   "id": "a16f0a54-c8d7-46e9-aaf4-e421eb51130a",
   "metadata": {},
   "source": [
    "Later on, we'll also check for genes that additionally contain indels."
   ]
  },
  {
   "cell_type": "markdown",
   "id": "018c48f2-0484-462d-a342-fbc682b85042",
   "metadata": {},
   "source": [
    "Check how many genes overlap between the two conditions with any number of SNVs:"
   ]
  },
  {
   "cell_type": "code",
   "execution_count": 111,
   "id": "54d04aeb-5113-4651-8273-7ad0ab2fa851",
   "metadata": {},
   "outputs": [
    {
     "data": {
      "text/plain": [
       "{'N_sal.S084590.1'}"
      ]
     },
     "execution_count": 111,
     "metadata": {},
     "output_type": "execute_result"
    }
   ],
   "source": [
    "cross_condition = in_common_EMS.intersection(in_common_non_EMS)\n",
    "cross_condition"
   ]
  },
  {
   "cell_type": "markdown",
   "id": "b120acf4-7061-4a2d-b289-5ebecaf9792a",
   "metadata": {},
   "source": [
    "Only 1 gene overlap between the two conditions in all reps!"
   ]
  },
  {
   "cell_type": "markdown",
   "id": "0c039049-dec8-4ffa-8834-86fe402a6bc5",
   "metadata": {},
   "source": [
    "### Indels\n",
    "Now let's look at which indels appear in coding regions:"
   ]
  },
  {
   "cell_type": "code",
   "execution_count": 96,
   "id": "7124deb2-140d-4622-bb30-8f944483ddac",
   "metadata": {},
   "outputs": [
    {
     "name": "stdout",
     "output_type": "stream",
     "text": [
      "01MRep1_vs_537controlRep2\n",
      "01MRep2_vs_537controlRep2\n",
      "0MRep3_vs_537controlRep2\n",
      "0MRep1_vs_537controlRep2\n"
     ]
    }
   ],
   "source": [
    "%%bash\n",
    "module load BEDTools/2.31.0-GCC-12.3.0\n",
    "strings=(\n",
    "    \"01MRep1_vs_537controlRep2\"\n",
    "    \"01MRep2_vs_537controlRep2\"\n",
    "    \"0MRep3_vs_537controlRep2\"\n",
    "    \"0MRep1_vs_537controlRep2\"\n",
    ")\n",
    "for string in \"${strings[@]}\"; do\n",
    "    echo $string\n",
    "    bedtools intersect \\\n",
    "        -wa -wb \\\n",
    "        -a \"/mnt/research/Walker_Lab_Research/Serena_project_data/evolved-nanno_data/data/nanno_sarek/separate_samplesheets_strelka/variant_calling/strelka/${string}/${string}.strelka.somatic_indels_FILTERED.vcf.gz\" -b /mnt/research/Walker_Lab_Research/Serena_project_data/evolved-nanno_data/data/genome/n_salina.working_models.gtf > \"/mnt/research/Walker_Lab_Research/Serena_project_data/evolved-nanno_data/data/nanno_sarek/separate_samplesheets_strelka/variant_calling/strelka/${string}/${string}_FILTERED_indels_overlap_with_annotations.txt\"\n",
    "done"
   ]
  },
  {
   "cell_type": "code",
   "execution_count": 97,
   "id": "e6c31914-8b56-415b-86bd-ed3c95baa3bc",
   "metadata": {},
   "outputs": [],
   "source": [
    "indel_intersects = {}\n",
    "for sample in indel_filepaths.keys():\n",
    "    df = pd.read_csv(f'/mnt/research/Walker_Lab_Research/Serena_project_data/evolved-nanno_data/data/nanno_sarek/separate_samplesheets_strelka/variant_calling/strelka/{sample}/{sample}_FILTERED_indels_overlap_with_annotations.txt', sep='\\t', header=None)\n",
    "    indel_intersects[sample] = df"
   ]
  },
  {
   "cell_type": "code",
   "execution_count": 98,
   "id": "9292b486-8ed1-4847-9186-b50276999f38",
   "metadata": {},
   "outputs": [],
   "source": [
    "for sample, df in indel_intersects.items():\n",
    "    df['gene_name'] = df[19].str.split('\"').str[1]\n",
    "    indel_intersects[sample] = df[df[13] == 'CDS'].reset_index(drop=True)"
   ]
  },
  {
   "cell_type": "code",
   "execution_count": 100,
   "id": "106ce5ff-76a8-45b6-a925-cfab607df14f",
   "metadata": {},
   "outputs": [
    {
     "name": "stdout",
     "output_type": "stream",
     "text": [
      "There are 2 indel-affected genes in sample 01MRep1_vs_537controlRep2\n",
      "There are 1 indel-affected genes in sample 01MRep2_vs_537controlRep2\n",
      "There are 4 indel-affected genes in sample 0MRep3_vs_537controlRep2\n",
      "There are 2 indel-affected genes in sample 0MRep1_vs_537controlRep2\n"
     ]
    }
   ],
   "source": [
    "for sample, df in indel_intersects.items():\n",
    "    print(f\"There are {df.groupby(by='gene_name').count().shape[0]} indel-affected genes in sample {sample}\")"
   ]
  },
  {
   "cell_type": "markdown",
   "id": "0cce22ce-2b68-4aaf-b80e-d2dee6c84bec",
   "metadata": {},
   "source": [
    "Only  a few indels overlap coding regions -- do any of them overlap between the reps?"
   ]
  },
  {
   "cell_type": "code",
   "execution_count": 101,
   "id": "5e5c7ff8-31ac-44a7-817d-07fc86524613",
   "metadata": {},
   "outputs": [
    {
     "name": "stdout",
     "output_type": "stream",
     "text": [
      "For the non-EMS samples, there are 2 indel-affected genes in common between reps.\n"
     ]
    }
   ],
   "source": [
    "indels_in_common_non_EMS = set(indel_intersects['0MRep1_vs_537controlRep2']['gene_name'].tolist()).intersection(set(indel_intersects['0MRep3_vs_537controlRep2']['gene_name'].tolist()))\n",
    "print(f\"For the non-EMS samples, there are {len(indels_in_common_non_EMS)} indel-affected genes in common between reps.\")"
   ]
  },
  {
   "cell_type": "code",
   "execution_count": 103,
   "id": "1437a3a5-eddf-4269-a338-9ab3a81bcd6d",
   "metadata": {},
   "outputs": [
    {
     "name": "stdout",
     "output_type": "stream",
     "text": [
      "For the EMS samples, there are 0 indel-affected genes in common.\n"
     ]
    }
   ],
   "source": [
    "indel_in_common_EMS = set(indel_intersects['01MRep1_vs_537controlRep2']['gene_name'].tolist()).intersection(set(indel_intersects['01MRep2_vs_537controlRep2']['gene_name'].tolist()))\n",
    "print(f\"For the EMS samples, there are {len(indel_in_common_EMS)} indel-affected genes in common.\")"
   ]
  },
  {
   "cell_type": "markdown",
   "id": "4231e456-02f4-4637-954b-f91cf1bf9ffb",
   "metadata": {},
   "source": [
    "What are the in-common ones for the non_EMS samples?"
   ]
  },
  {
   "cell_type": "code",
   "execution_count": 104,
   "id": "fb07af0d-d2ad-4174-996e-da7883b1a8a1",
   "metadata": {},
   "outputs": [
    {
     "data": {
      "text/plain": [
       "{'N_sal.S061470.1', 'N_sal.S084590.1'}"
      ]
     },
     "execution_count": 104,
     "metadata": {},
     "output_type": "execute_result"
    }
   ],
   "source": [
    "indels_in_common_non_EMS"
   ]
  },
  {
   "cell_type": "markdown",
   "id": "5c9996cc-972a-46f4-8205-29d1f392e607",
   "metadata": {},
   "source": [
    "### Combining indels and SNVs\n",
    "A very compelling candidate gene might be affected by both SNVs and indels; do we have any of those?"
   ]
  },
  {
   "cell_type": "code",
   "execution_count": 105,
   "id": "81094967-138f-4a04-b04a-510b89ea8f97",
   "metadata": {},
   "outputs": [
    {
     "data": {
      "text/plain": [
       "{'N_sal.S084590.1'}"
      ]
     },
     "execution_count": 105,
     "metadata": {},
     "output_type": "execute_result"
    }
   ],
   "source": [
    "indels_in_common_non_EMS.intersection(in_common_non_EMS)"
   ]
  },
  {
   "cell_type": "code",
   "execution_count": 107,
   "id": "72f16084-b0bb-410f-8dc7-b14ec780a5cd",
   "metadata": {},
   "outputs": [
    {
     "data": {
      "text/plain": [
       "set()"
      ]
     },
     "execution_count": 107,
     "metadata": {},
     "output_type": "execute_result"
    }
   ],
   "source": [
    "indel_in_common_EMS.intersection(in_common_EMS)"
   ]
  },
  {
   "cell_type": "markdown",
   "id": "f9a17184-6098-4018-94d1-79d19d56bc64",
   "metadata": {},
   "source": [
    "We also want to crosscheck these for overlapping genes; a similar phenotype could be caused by one sample having a SNP in the gene while the other has an indel."
   ]
  },
  {
   "cell_type": "code",
   "execution_count": 108,
   "id": "5bec3d45-8c66-4547-848e-04afe6350529",
   "metadata": {},
   "outputs": [
    {
     "data": {
      "text/plain": [
       "{'N_sal.S084590.1'}"
      ]
     },
     "execution_count": 108,
     "metadata": {},
     "output_type": "execute_result"
    }
   ],
   "source": [
    "indels_in_common_non_EMS.intersection(in_common_EMS)"
   ]
  },
  {
   "cell_type": "code",
   "execution_count": 109,
   "id": "ffd041b3-cccd-401a-8ea3-d1f6a5d4aaf0",
   "metadata": {},
   "outputs": [
    {
     "data": {
      "text/plain": [
       "set()"
      ]
     },
     "execution_count": 109,
     "metadata": {},
     "output_type": "execute_result"
    }
   ],
   "source": [
    "indel_in_common_EMS.intersection(in_common_non_EMS)"
   ]
  },
  {
   "cell_type": "markdown",
   "id": "c2bc49ac-3d9e-4692-9047-6f223337b49d",
   "metadata": {},
   "source": [
    "This is the same gene as before; because both samples have SNPs in it, in addition to the non-EMS sample having an indel there."
   ]
  },
  {
   "cell_type": "markdown",
   "id": "535eea4b-47dc-4d76-a94f-7ebd64a803fd",
   "metadata": {},
   "source": [
    "Lastly, let's start building a dataframe of potential genes of interest."
   ]
  },
  {
   "cell_type": "code",
   "execution_count": 120,
   "id": "3afcad80-ccc3-4072-9dbc-c89a461bd44f",
   "metadata": {},
   "outputs": [
    {
     "data": {
      "text/plain": [
       "(6, 21, 2, 257, 8)"
      ]
     },
     "execution_count": 120,
     "metadata": {},
     "output_type": "execute_result"
    }
   ],
   "source": [
    "len(list(in_common_multiple_SNVs)), len([g for glist in genes_more_than_one_SNV.values() for g in glist.index.tolist()]), len(list(indels_in_common_non_EMS)), len(list(in_common_EMS)), len(list(in_common_non_EMS))"
   ]
  },
  {
   "cell_type": "code",
   "execution_count": 122,
   "id": "a8a099b1-1ea3-4096-8a39-a6a863b14f80",
   "metadata": {},
   "outputs": [
    {
     "data": {
      "text/plain": [
       "['N_sal.S014430.1',\n",
       " 'N_sal.S061080.1',\n",
       " 'N_sal.S055080.2',\n",
       " 'N_sal.S028860.1',\n",
       " 'N_sal.S037470.1',\n",
       " 'N_sal.S022810.1',\n",
       " 'N_sal.S084590.1',\n",
       " 'N_sal.S055080.1',\n",
       " 'N_sal.S003590.1',\n",
       " 'N_sal.S003590.2',\n",
       " 'N_sal.S055080.3',\n",
       " 'N_sal.S072340.1',\n",
       " 'N_sal.S014930.1',\n",
       " 'N_sal.S020450.1',\n",
       " 'N_sal.S050120.1',\n",
       " 'N_sal.S047240.1',\n",
       " 'N_sal.S061470.1']"
      ]
     },
     "execution_count": 122,
     "metadata": {},
     "output_type": "execute_result"
    }
   ],
   "source": [
    "candidate_gene_list = list(set(list(in_common_multiple_SNVs) + [g for glist in genes_more_than_one_SNV.values() for g in glist.index.tolist()] + list(indels_in_common_non_EMS) + list(cross_condition)))\n",
    "candidate_gene_list"
   ]
  },
  {
   "cell_type": "code",
   "execution_count": 195,
   "id": "0c841a7c-61c7-4a0c-baf5-6ad07d99ab3a",
   "metadata": {},
   "outputs": [],
   "source": [
    "## TODO generalize this for new candidate genes\n",
    "# Add EMS SNV counts\n",
    "candidate_gene_df = counted_ems[[0]].rename(columns={0:'num_genic_snvs_0_1M_R2'}).merge(pd.DataFrame(candidate_gene_list, columns=['gene_id']), left_index=True, right_on='gene_id')\n",
    "# Add non-EMS SNV counts\n",
    "candidate_gene_df = candidate_gene_df.merge(counted_normal[[0]].rename(columns={0:'num_genic_snvs_0M_R1'}), left_on='gene_id', right_index=True, how='left').fillna(0).reset_index(drop=True)\n",
    "# Add EMS indel counts\n",
    "candidate_gene_df = indel_intersects_0_1M_R2.groupby(by='gene_name').count()[[0]].rename(columns={0:'num_genic_indels_0_1M_R2'}).merge(candidate_gene_df, left_index=True, right_on='gene_id', how='outer').fillna(0).reset_index(drop=True)\n",
    "# Add regular indel counts\n",
    "candidate_gene_df = indel_intersects_0M_R1.groupby(by='gene_name').count()[[0]].rename(columns={0:'num_genic_indels_0M_R1'}).merge(candidate_gene_df, left_index=True, right_on='gene_id', how='outer').fillna(0).reset_index(drop=True)"
   ]
  },
  {
   "cell_type": "code",
   "execution_count": 197,
   "id": "365c9d97-5129-43cc-ab35-cc6650c24ac8",
   "metadata": {},
   "outputs": [],
   "source": [
    "candidate_gene_df.to_csv('/mnt/research/Walker_Lab_Research/Serena_project_data/evolved-nanno_data/data/candidate_genes/genic_variants_30Jul2025.csv', index=False)"
   ]
  },
  {
   "cell_type": "markdown",
   "id": "9b203f9c-a7ca-4c26-9436-83fac7a91cfd",
   "metadata": {},
   "source": [
    "## Combining allele frequencies and gene annotations\n",
    "We've separately seen that no allele has an alternate frequency of more than 0.5, and we've matched SNVs to genes. But do our high-frequency alleles correspond with genic regions, or do they account for some of the non-coding sequence mutations that we filtered out in the previous step?\n",
    "\n",
    "First, make a map between gene names and the notation we've been using to identify individual SNVs:"
   ]
  },
  {
   "cell_type": "code",
   "execution_count": 88,
   "id": "4bda0d5b-24ee-456a-9961-defbc0a75701",
   "metadata": {},
   "outputs": [],
   "source": [
    "gene_intersects_0M_R1['snv_id'] = gene_intersects_0M_R1[0] + '_' + gene_intersects_0M_R1[1].astype('str') + '_' + gene_intersects_0M_R1[3] + '_' + gene_intersects_0M_R1[4]\n",
    "snv2gene_0M_R1 = gene_intersects_0M_R1[['snv_id', 'gene_name']].set_index('snv_id').to_dict()['gene_name']"
   ]
  },
  {
   "cell_type": "code",
   "execution_count": 89,
   "id": "4b46cefb-a705-4adb-af41-56ab8095db1a",
   "metadata": {},
   "outputs": [],
   "source": [
    "gene_intersects_0_1M_R2['snv_id'] = gene_intersects_0_1M_R2[0] + '_' + gene_intersects_0_1M_R2[1].astype('str') + '_' + gene_intersects_0_1M_R2[3] + '_' + gene_intersects_0_1M_R2[4]\n",
    "snv2gene_0_1M_R2 = gene_intersects_0_1M_R2[['snv_id', 'gene_name']].set_index('snv_id').to_dict()['gene_name']"
   ]
  },
  {
   "cell_type": "markdown",
   "id": "60191a3f-ded3-4676-83e8-64e5378b2754",
   "metadata": {},
   "source": [
    "Now, let's make a swarmplot of the allele frequencies, coloring those in genic regions a different color:"
   ]
  },
  {
   "cell_type": "code",
   "execution_count": 156,
   "id": "ea5b6888-8210-4f9f-8d85-69db9668c3aa",
   "metadata": {},
   "outputs": [
    {
     "data": {
      "text/html": [
       "<div>\n",
       "<style scoped>\n",
       "    .dataframe tbody tr th:only-of-type {\n",
       "        vertical-align: middle;\n",
       "    }\n",
       "\n",
       "    .dataframe tbody tr th {\n",
       "        vertical-align: top;\n",
       "    }\n",
       "\n",
       "    .dataframe thead th {\n",
       "        text-align: right;\n",
       "    }\n",
       "</style>\n",
       "<table border=\"1\" class=\"dataframe\">\n",
       "  <thead>\n",
       "    <tr style=\"text-align: right;\">\n",
       "      <th></th>\n",
       "      <th>sample</th>\n",
       "      <th>snv_id</th>\n",
       "      <th>alt_frequency</th>\n",
       "      <th>is_genic</th>\n",
       "      <th>snv_gene</th>\n",
       "    </tr>\n",
       "  </thead>\n",
       "  <tbody>\n",
       "    <tr>\n",
       "      <th>0</th>\n",
       "      <td>0M_R1</td>\n",
       "      <td>scf_1_167764_T_G</td>\n",
       "      <td>0.048387</td>\n",
       "      <td>True</td>\n",
       "      <td>N_sal.S000450.1</td>\n",
       "    </tr>\n",
       "    <tr>\n",
       "      <th>1</th>\n",
       "      <td>0M_R1</td>\n",
       "      <td>scf_1_860759_C_A</td>\n",
       "      <td>0.226087</td>\n",
       "      <td>False</td>\n",
       "      <td>NaN</td>\n",
       "    </tr>\n",
       "    <tr>\n",
       "      <th>2</th>\n",
       "      <td>0M_R1</td>\n",
       "      <td>scf_1_947966_G_C</td>\n",
       "      <td>0.093960</td>\n",
       "      <td>True</td>\n",
       "      <td>N_sal.S003280.1</td>\n",
       "    </tr>\n",
       "    <tr>\n",
       "      <th>3</th>\n",
       "      <td>0M_R1</td>\n",
       "      <td>scf_2_295083_A_C</td>\n",
       "      <td>0.111111</td>\n",
       "      <td>True</td>\n",
       "      <td>N_sal.S015940.1</td>\n",
       "    </tr>\n",
       "    <tr>\n",
       "      <th>4</th>\n",
       "      <td>0M_R1</td>\n",
       "      <td>scf_2_371413_C_G</td>\n",
       "      <td>0.039801</td>\n",
       "      <td>True</td>\n",
       "      <td>N_sal.S016180.1</td>\n",
       "    </tr>\n",
       "  </tbody>\n",
       "</table>\n",
       "</div>"
      ],
      "text/plain": [
       "  sample            snv_id  alt_frequency  is_genic         snv_gene\n",
       "0  0M_R1  scf_1_167764_T_G       0.048387      True  N_sal.S000450.1\n",
       "1  0M_R1  scf_1_860759_C_A       0.226087     False              NaN\n",
       "2  0M_R1  scf_1_947966_G_C       0.093960      True  N_sal.S003280.1\n",
       "3  0M_R1  scf_2_295083_A_C       0.111111      True  N_sal.S015940.1\n",
       "4  0M_R1  scf_2_371413_C_G       0.039801      True  N_sal.S016180.1"
      ]
     },
     "execution_count": 156,
     "metadata": {},
     "output_type": "execute_result"
    }
   ],
   "source": [
    "all_gene_intersects = pd.concat([gene_intersects_0M_R1, gene_intersects_0_1M_R2])\n",
    "def catch_non_genic(df, snv_id):\n",
    "    \"\"\"\n",
    "    Ignores isoforms.\n",
    "    \"\"\"\n",
    "    try:\n",
    "        return df.loc[df['snv_id'] == snv_id, 'gene_name'].values[0]\n",
    "    except IndexError:\n",
    "        return np.nan\n",
    "# The amount of work I just did to make this list comprehension work instead of making a regular loop is comical lol\n",
    "for_swarm = [(k, snv_id, freq, True if snv_id in gene_intersects_0M_R1['snv_id'].tolist() + gene_intersects_0_1M_R2['snv_id'].tolist() else False, catch_non_genic(all_gene_intersects, snv_id))\n",
    "             for k, v in\n",
    "             {'0M_R1': alt_freqs_0M_R1,\n",
    "                 '0_1M_R2': alt_freqs_0_1M_R2}.items()\n",
    "             for snv_id, freq in v.items()]\n",
    "\n",
    "\n",
    "for_swarm_df = pd.DataFrame.from_records(for_swarm, columns=['sample', 'snv_id', 'alt_frequency', 'is_genic', 'snv_gene'])\n",
    "for_swarm_df.head()"
   ]
  },
  {
   "cell_type": "code",
   "execution_count": 91,
   "id": "011908d3-6de9-4385-8132-dfd1dde73e08",
   "metadata": {},
   "outputs": [
    {
     "data": {
      "text/plain": [
       "<Axes: xlabel='sample', ylabel='alt_frequency'>"
      ]
     },
     "execution_count": 91,
     "metadata": {},
     "output_type": "execute_result"
    },
    {
     "data": {
      "image/png": "[encoded data removed]",
      "text/plain": [
       "<Figure size 640x480 with 1 Axes>"
      ]
     },
     "metadata": {},
     "output_type": "display_data"
    }
   ],
   "source": [
    "sns.swarmplot(data=for_swarm_df, x='sample', y='alt_frequency', hue='is_genic', size=3)"
   ]
  },
  {
   "cell_type": "markdown",
   "id": "a4604316-5255-4a64-8371-93700688c57b",
   "metadata": {},
   "source": [
    "There appears to be no relationship between whether or not the SNV is genic and whether or not it has a high frequency in the population. Where do the genes of interest we've identified (those overlapping in both samples) fall here?"
   ]
  },
  {
   "cell_type": "code",
   "execution_count": 92,
   "id": "31e5ad07-e4ad-4e8f-8e6a-43e48bbf78ad",
   "metadata": {},
   "outputs": [
    {
     "data": {
      "text/plain": [
       "{'N_sal.S003280.1', 'N_sal.S084590.1', 'N_sal.S088740.1'}"
      ]
     },
     "execution_count": 92,
     "metadata": {},
     "output_type": "execute_result"
    }
   ],
   "source": [
    "overlapping_snps"
   ]
  },
  {
   "cell_type": "code",
   "execution_count": 93,
   "id": "4b6d6264-5c0d-4658-95b0-6ff9cc51acf0",
   "metadata": {},
   "outputs": [],
   "source": [
    "gene2snv_0M_R1 = {v: k for k, v in snv2gene_0M_R1.items()}\n",
    "gene2snv_0_1M_R2 = {v: k for k, v in snv2gene_0_1M_R2.items()}"
   ]
  },
  {
   "cell_type": "code",
   "execution_count": 94,
   "id": "8f9f921f-8439-45d2-9edb-1685e62bf757",
   "metadata": {},
   "outputs": [
    {
     "name": "stdout",
     "output_type": "stream",
     "text": [
      "The allele frequency of gene N_sal.S088740.1 in the non-EMS sample is 0.07, while in the EMS sample its frequency is 0.06\n",
      "The allele frequency of gene N_sal.S003280.1 in the non-EMS sample is 0.09, while in the EMS sample its frequency is 0.08\n",
      "The allele frequency of gene N_sal.S084590.1 in the non-EMS sample is 0.31, while in the EMS sample its frequency is 0.22\n"
     ]
    }
   ],
   "source": [
    "for g in overlapping_snps:\n",
    "    freq_0M_R1 = alt_freqs_0M_R1[gene2snv_0M_R1[g]]\n",
    "    freq_0_1M_R2 = alt_freqs_0_1M_R2[gene2snv_0_1M_R2[g]]\n",
    "    print(f'The allele frequency of gene {g} in the non-EMS sample is {freq_0M_R1:.2f}, while in the EMS sample its frequency is {freq_0_1M_R2:.2f}')"
   ]
  },
  {
   "cell_type": "markdown",
   "id": "40f4fd23-a7d7-49c7-82da-27fce990cabe",
   "metadata": {},
   "source": [
    "Only one of the three genes has a high alternate allele frequency in either population."
   ]
  },
  {
   "cell_type": "markdown",
   "id": "030a3bf3-0319-45e9-8079-25bdbf770c9a",
   "metadata": {},
   "source": [
    "What about the indels?"
   ]
  },
  {
   "cell_type": "code",
   "execution_count": 95,
   "id": "47606726-e0c4-4371-b2d3-ad9b0d627119",
   "metadata": {},
   "outputs": [],
   "source": [
    "indel_intersects_0M_R1['indel_id'] = indel_intersects_0M_R1[0] + '_' + indel_intersects_0M_R1[1].astype('str') + '_' + indel_intersects_0M_R1[3] + '_' + indel_intersects_0M_R1[4]\n",
    "indel2gene_0M_R1 = indel_intersects_0M_R1[['indel_id', 'gene_name']].set_index('indel_id').to_dict()['gene_name']"
   ]
  },
  {
   "cell_type": "code",
   "execution_count": 96,
   "id": "91007496-3dbf-4f67-9399-8b98440d167e",
   "metadata": {},
   "outputs": [],
   "source": [
    "indel_intersects_0_1M_R2['indel_id'] = indel_intersects_0_1M_R2[0] + '_' + indel_intersects_0_1M_R2[1].astype('str') + '_' + indel_intersects_0_1M_R2[3] + '_' + indel_intersects_0_1M_R2[4]\n",
    "indel2gene_0_1M_R2 = indel_intersects_0_1M_R2[['indel_id', 'gene_name']].set_index('indel_id').to_dict()['gene_name']"
   ]
  },
  {
   "cell_type": "code",
   "execution_count": 97,
   "id": "39ba0212-ecc8-4951-a6ca-a3d24b898be0",
   "metadata": {},
   "outputs": [
    {
     "data": {
      "text/html": [
       "<div>\n",
       "<style scoped>\n",
       "    .dataframe tbody tr th:only-of-type {\n",
       "        vertical-align: middle;\n",
       "    }\n",
       "\n",
       "    .dataframe tbody tr th {\n",
       "        vertical-align: top;\n",
       "    }\n",
       "\n",
       "    .dataframe thead th {\n",
       "        text-align: right;\n",
       "    }\n",
       "</style>\n",
       "<table border=\"1\" class=\"dataframe\">\n",
       "  <thead>\n",
       "    <tr style=\"text-align: right;\">\n",
       "      <th></th>\n",
       "      <th>sample</th>\n",
       "      <th>indel_id</th>\n",
       "      <th>alt_frequency</th>\n",
       "      <th>is_genic</th>\n",
       "    </tr>\n",
       "  </thead>\n",
       "  <tbody>\n",
       "    <tr>\n",
       "      <th>0</th>\n",
       "      <td>0M_R1</td>\n",
       "      <td>scf_2_453749_AC_A</td>\n",
       "      <td>0.242105</td>\n",
       "      <td>False</td>\n",
       "    </tr>\n",
       "    <tr>\n",
       "      <th>1</th>\n",
       "      <td>0M_R1</td>\n",
       "      <td>scf_9_1044578_C_CAATA</td>\n",
       "      <td>0.077778</td>\n",
       "      <td>False</td>\n",
       "    </tr>\n",
       "    <tr>\n",
       "      <th>2</th>\n",
       "      <td>0M_R1</td>\n",
       "      <td>scf_11_803969_T_TCGACGG</td>\n",
       "      <td>0.174419</td>\n",
       "      <td>True</td>\n",
       "    </tr>\n",
       "    <tr>\n",
       "      <th>3</th>\n",
       "      <td>0M_R1</td>\n",
       "      <td>scf_14_38344_CA_C</td>\n",
       "      <td>0.083333</td>\n",
       "      <td>False</td>\n",
       "    </tr>\n",
       "    <tr>\n",
       "      <th>4</th>\n",
       "      <td>0M_R1</td>\n",
       "      <td>scf_17_66764_C_CCCTT</td>\n",
       "      <td>0.342105</td>\n",
       "      <td>False</td>\n",
       "    </tr>\n",
       "  </tbody>\n",
       "</table>\n",
       "</div>"
      ],
      "text/plain": [
       "  sample                 indel_id  alt_frequency  is_genic\n",
       "0  0M_R1        scf_2_453749_AC_A       0.242105     False\n",
       "1  0M_R1    scf_9_1044578_C_CAATA       0.077778     False\n",
       "2  0M_R1  scf_11_803969_T_TCGACGG       0.174419      True\n",
       "3  0M_R1        scf_14_38344_CA_C       0.083333     False\n",
       "4  0M_R1     scf_17_66764_C_CCCTT       0.342105     False"
      ]
     },
     "execution_count": 97,
     "metadata": {},
     "output_type": "execute_result"
    }
   ],
   "source": [
    "indel_for_swarm = [(k, indel_id, freq, True if indel_id in indel_intersects_0M_R1['indel_id'].tolist() + indel_intersects_0_1M_R2['indel_id'].tolist() else False)\n",
    "             for k, v in\n",
    "             {'0M_R1': indel_freqs_0M_R1,\n",
    "                 '0_1M_R2': indel_freqs_0_1M_R2}.items()\n",
    "             for indel_id, freq in v.items()]\n",
    "\n",
    "\n",
    "indel_for_swarm_df = pd.DataFrame.from_records(indel_for_swarm, columns=['sample', 'indel_id', 'alt_frequency', 'is_genic'])\n",
    "indel_for_swarm_df.head()"
   ]
  },
  {
   "cell_type": "code",
   "execution_count": 98,
   "id": "e1489ee3-92ab-4475-a4f9-f5d72e099c98",
   "metadata": {},
   "outputs": [
    {
     "data": {
      "text/plain": [
       "<Axes: xlabel='sample', ylabel='alt_frequency'>"
      ]
     },
     "execution_count": 98,
     "metadata": {},
     "output_type": "execute_result"
    },
    {
     "data": {
      "image/png": "[encoded data removed]",
      "text/plain": [
       "<Figure size 640x480 with 1 Axes>"
      ]
     },
     "metadata": {},
     "output_type": "display_data"
    }
   ],
   "source": [
    "sns.swarmplot(data=indel_for_swarm_df, x='sample', y='alt_frequency', hue='is_genic', size=10)"
   ]
  },
  {
   "cell_type": "markdown",
   "id": "30905f3b-1c39-4c77-b93f-4783b3464c21",
   "metadata": {},
   "source": [
    "There are a lot fewer indels than SNVs so it's less clear what pattern may or may not be present here in terms of the relationships bewteen the indels and genic regions. However, we can see that the high-frequency allele in the non-EMS population is not in a genic region -- maybe it impacts a motif?"
   ]
  },
  {
   "cell_type": "markdown",
   "id": "ad120244-b3ab-46c1-b89b-60b088ae2e87",
   "metadata": {},
   "source": [
    "## Looking for mutations within promoters\n",
    "We want to know if any of the non-genic mutations are within the region 500bp upstream of the promoter, as many cit-regulatory motifs are found within that region. Conveniently, we have the start sites of all the coding sequences in our annotation `.gtf` file, we just have to read them in."
   ]
  },
  {
   "cell_type": "code",
   "execution_count": 101,
   "id": "fc3aa3ae-615a-4af9-9689-8b4224c00962",
   "metadata": {},
   "outputs": [],
   "source": [
    "annotation = pd.read_csv('/mnt/research/Walker_Lab_Research/Serena_project_data/evolved-nanno_data/data/genome/n_salina.working_models.gtf', names=[ # Taken from http://useast.ensembl.org/info/website/upload/gff.html\n",
    "    'seqname',\n",
    "    'source',\n",
    "    'feature',\n",
    "    'start',\n",
    "    'end',\n",
    "    'score',\n",
    "    'strand',\n",
    "    'frame',\n",
    "    'attribute' \n",
    "],\n",
    "    sep='\\t')"
   ]
  },
  {
   "cell_type": "code",
   "execution_count": 102,
   "id": "a16e33a7-b198-4fcb-a762-73ebd3742daa",
   "metadata": {},
   "outputs": [
    {
     "data": {
      "text/html": [
       "<div>\n",
       "<style scoped>\n",
       "    .dataframe tbody tr th:only-of-type {\n",
       "        vertical-align: middle;\n",
       "    }\n",
       "\n",
       "    .dataframe tbody tr th {\n",
       "        vertical-align: top;\n",
       "    }\n",
       "\n",
       "    .dataframe thead th {\n",
       "        text-align: right;\n",
       "    }\n",
       "</style>\n",
       "<table border=\"1\" class=\"dataframe\">\n",
       "  <thead>\n",
       "    <tr style=\"text-align: right;\">\n",
       "      <th></th>\n",
       "      <th>seqname</th>\n",
       "      <th>source</th>\n",
       "      <th>feature</th>\n",
       "      <th>start</th>\n",
       "      <th>end</th>\n",
       "      <th>score</th>\n",
       "      <th>strand</th>\n",
       "      <th>frame</th>\n",
       "      <th>attribute</th>\n",
       "    </tr>\n",
       "  </thead>\n",
       "  <tbody>\n",
       "    <tr>\n",
       "      <th>0</th>\n",
       "      <td>scf_11</td>\n",
       "      <td>MSU_v1</td>\n",
       "      <td>transcript</td>\n",
       "      <td>1931</td>\n",
       "      <td>4136</td>\n",
       "      <td>.</td>\n",
       "      <td>-</td>\n",
       "      <td>.</td>\n",
       "      <td>transcript_id \"N_sal.S058750.1\"; gene_id \"N_sa...</td>\n",
       "    </tr>\n",
       "    <tr>\n",
       "      <th>1</th>\n",
       "      <td>scf_11</td>\n",
       "      <td>MSU_v1</td>\n",
       "      <td>exon</td>\n",
       "      <td>1931</td>\n",
       "      <td>2105</td>\n",
       "      <td>.</td>\n",
       "      <td>-</td>\n",
       "      <td>.</td>\n",
       "      <td>transcript_id \"N_sal.S058750.1\"; gene_id \"N_sa...</td>\n",
       "    </tr>\n",
       "    <tr>\n",
       "      <th>2</th>\n",
       "      <td>scf_11</td>\n",
       "      <td>MSU_v1</td>\n",
       "      <td>exon</td>\n",
       "      <td>2204</td>\n",
       "      <td>2345</td>\n",
       "      <td>.</td>\n",
       "      <td>-</td>\n",
       "      <td>.</td>\n",
       "      <td>transcript_id \"N_sal.S058750.1\"; gene_id \"N_sa...</td>\n",
       "    </tr>\n",
       "    <tr>\n",
       "      <th>3</th>\n",
       "      <td>scf_11</td>\n",
       "      <td>MSU_v1</td>\n",
       "      <td>exon</td>\n",
       "      <td>2569</td>\n",
       "      <td>2680</td>\n",
       "      <td>.</td>\n",
       "      <td>-</td>\n",
       "      <td>.</td>\n",
       "      <td>transcript_id \"N_sal.S058750.1\"; gene_id \"N_sa...</td>\n",
       "    </tr>\n",
       "    <tr>\n",
       "      <th>4</th>\n",
       "      <td>scf_11</td>\n",
       "      <td>MSU_v1</td>\n",
       "      <td>exon</td>\n",
       "      <td>3270</td>\n",
       "      <td>3392</td>\n",
       "      <td>.</td>\n",
       "      <td>-</td>\n",
       "      <td>.</td>\n",
       "      <td>transcript_id \"N_sal.S058750.1\"; gene_id \"N_sa...</td>\n",
       "    </tr>\n",
       "  </tbody>\n",
       "</table>\n",
       "</div>"
      ],
      "text/plain": [
       "  seqname  source     feature  start   end score strand frame  \\\n",
       "0  scf_11  MSU_v1  transcript   1931  4136     .      -     .   \n",
       "1  scf_11  MSU_v1        exon   1931  2105     .      -     .   \n",
       "2  scf_11  MSU_v1        exon   2204  2345     .      -     .   \n",
       "3  scf_11  MSU_v1        exon   2569  2680     .      -     .   \n",
       "4  scf_11  MSU_v1        exon   3270  3392     .      -     .   \n",
       "\n",
       "                                           attribute  \n",
       "0  transcript_id \"N_sal.S058750.1\"; gene_id \"N_sa...  \n",
       "1  transcript_id \"N_sal.S058750.1\"; gene_id \"N_sa...  \n",
       "2  transcript_id \"N_sal.S058750.1\"; gene_id \"N_sa...  \n",
       "3  transcript_id \"N_sal.S058750.1\"; gene_id \"N_sa...  \n",
       "4  transcript_id \"N_sal.S058750.1\"; gene_id \"N_sa...  "
      ]
     },
     "execution_count": 102,
     "metadata": {},
     "output_type": "execute_result"
    }
   ],
   "source": [
    "annotation.head()"
   ]
  },
  {
   "cell_type": "markdown",
   "id": "e8c21f29-0f2b-4902-8d98-5915a0598b7a",
   "metadata": {},
   "source": [
    "Filter to get just the transcripts. We used CDS above, but they're broken into the same pieces as the exons, so for this anlaysis we'll take the entire transcript:"
   ]
  },
  {
   "cell_type": "code",
   "execution_count": 103,
   "id": "8cf33683-e4b5-4576-b9fa-569857abc1dd",
   "metadata": {},
   "outputs": [
    {
     "data": {
      "text/html": [
       "<div>\n",
       "<style scoped>\n",
       "    .dataframe tbody tr th:only-of-type {\n",
       "        vertical-align: middle;\n",
       "    }\n",
       "\n",
       "    .dataframe tbody tr th {\n",
       "        vertical-align: top;\n",
       "    }\n",
       "\n",
       "    .dataframe thead th {\n",
       "        text-align: right;\n",
       "    }\n",
       "</style>\n",
       "<table border=\"1\" class=\"dataframe\">\n",
       "  <thead>\n",
       "    <tr style=\"text-align: right;\">\n",
       "      <th></th>\n",
       "      <th>seqname</th>\n",
       "      <th>source</th>\n",
       "      <th>feature</th>\n",
       "      <th>start</th>\n",
       "      <th>end</th>\n",
       "      <th>score</th>\n",
       "      <th>strand</th>\n",
       "      <th>frame</th>\n",
       "      <th>attribute</th>\n",
       "    </tr>\n",
       "  </thead>\n",
       "  <tbody>\n",
       "    <tr>\n",
       "      <th>0</th>\n",
       "      <td>scf_11</td>\n",
       "      <td>MSU_v1</td>\n",
       "      <td>transcript</td>\n",
       "      <td>1931</td>\n",
       "      <td>4136</td>\n",
       "      <td>.</td>\n",
       "      <td>-</td>\n",
       "      <td>.</td>\n",
       "      <td>transcript_id \"N_sal.S058750.1\"; gene_id \"N_sa...</td>\n",
       "    </tr>\n",
       "    <tr>\n",
       "      <th>13</th>\n",
       "      <td>scf_11</td>\n",
       "      <td>MSU_v1</td>\n",
       "      <td>transcript</td>\n",
       "      <td>4320</td>\n",
       "      <td>5601</td>\n",
       "      <td>.</td>\n",
       "      <td>-</td>\n",
       "      <td>.</td>\n",
       "      <td>transcript_id \"N_sal.S058760.1\"; gene_id \"N_sa...</td>\n",
       "    </tr>\n",
       "    <tr>\n",
       "      <th>24</th>\n",
       "      <td>scf_11</td>\n",
       "      <td>MSU_v1</td>\n",
       "      <td>transcript</td>\n",
       "      <td>6381</td>\n",
       "      <td>7726</td>\n",
       "      <td>.</td>\n",
       "      <td>+</td>\n",
       "      <td>.</td>\n",
       "      <td>transcript_id \"N_sal.S058770.1\"; gene_id \"N_sa...</td>\n",
       "    </tr>\n",
       "    <tr>\n",
       "      <th>37</th>\n",
       "      <td>scf_11</td>\n",
       "      <td>MSU_v1</td>\n",
       "      <td>transcript</td>\n",
       "      <td>7788</td>\n",
       "      <td>8845</td>\n",
       "      <td>.</td>\n",
       "      <td>+</td>\n",
       "      <td>.</td>\n",
       "      <td>transcript_id \"N_sal.S058780.1\"; gene_id \"N_sa...</td>\n",
       "    </tr>\n",
       "    <tr>\n",
       "      <th>44</th>\n",
       "      <td>scf_11</td>\n",
       "      <td>MSU_v1</td>\n",
       "      <td>transcript</td>\n",
       "      <td>9693</td>\n",
       "      <td>10266</td>\n",
       "      <td>.</td>\n",
       "      <td>-</td>\n",
       "      <td>.</td>\n",
       "      <td>transcript_id \"N_sal.S058790.1\"; gene_id \"N_sa...</td>\n",
       "    </tr>\n",
       "  </tbody>\n",
       "</table>\n",
       "</div>"
      ],
      "text/plain": [
       "   seqname  source     feature  start    end score strand frame  \\\n",
       "0   scf_11  MSU_v1  transcript   1931   4136     .      -     .   \n",
       "13  scf_11  MSU_v1  transcript   4320   5601     .      -     .   \n",
       "24  scf_11  MSU_v1  transcript   6381   7726     .      +     .   \n",
       "37  scf_11  MSU_v1  transcript   7788   8845     .      +     .   \n",
       "44  scf_11  MSU_v1  transcript   9693  10266     .      -     .   \n",
       "\n",
       "                                            attribute  \n",
       "0   transcript_id \"N_sal.S058750.1\"; gene_id \"N_sa...  \n",
       "13  transcript_id \"N_sal.S058760.1\"; gene_id \"N_sa...  \n",
       "24  transcript_id \"N_sal.S058770.1\"; gene_id \"N_sa...  \n",
       "37  transcript_id \"N_sal.S058780.1\"; gene_id \"N_sa...  \n",
       "44  transcript_id \"N_sal.S058790.1\"; gene_id \"N_sa...  "
      ]
     },
     "execution_count": 103,
     "metadata": {},
     "output_type": "execute_result"
    }
   ],
   "source": [
    "annotation_trans = annotation[annotation['feature']=='transcript']\n",
    "annotation_trans.head()"
   ]
  },
  {
   "cell_type": "markdown",
   "id": "92794d4b-fbfa-4781-a408-ab88d3b91fb6",
   "metadata": {},
   "source": [
    "In order to get the 500bp uptream regions, we need to account for the strandedness of each feature. For genes on the negative strand, the start site is actually the end of the gene, because the start value is always smaller than the end value."
   ]
  },
  {
   "cell_type": "code",
   "execution_count": 104,
   "id": "f31b1089-3151-401d-9954-cf300459b5f6",
   "metadata": {},
   "outputs": [
    {
     "name": "stderr",
     "output_type": "stream",
     "text": [
      "/tmp/ipykernel_242924/3539138559.py:13: SettingWithCopyWarning: \n",
      "A value is trying to be set on a copy of a slice from a DataFrame.\n",
      "Try using .loc[row_indexer,col_indexer] = value instead\n",
      "\n",
      "See the caveats in the documentation: https://pandas.pydata.org/pandas-docs/stable/user_guide/indexing.html#returning-a-view-versus-a-copy\n",
      "  annotation_trans.loc[:, 'fiveHundred_upstream'] = annotation_trans.apply(getPromoterStart, axis=1)\n",
      "/tmp/ipykernel_242924/3539138559.py:14: SettingWithCopyWarning: \n",
      "A value is trying to be set on a copy of a slice from a DataFrame.\n",
      "Try using .loc[row_indexer,col_indexer] = value instead\n",
      "\n",
      "See the caveats in the documentation: https://pandas.pydata.org/pandas-docs/stable/user_guide/indexing.html#returning-a-view-versus-a-copy\n",
      "  annotation_trans.loc[:, 'TSS'] = annotation_trans.apply(getTSS, axis=1)\n"
     ]
    }
   ],
   "source": [
    "def getPromoterStart(row):\n",
    "    if row.strand == '+':\n",
    "        return row.start - 500\n",
    "    elif row.strand == '-':\n",
    "        return row.end + 500\n",
    "\n",
    "def getTSS(row):\n",
    "    if row.strand == '+':\n",
    "        return row.start\n",
    "    elif row.strand == '-':\n",
    "        return row.end\n",
    "\n",
    "annotation_trans.loc[:, 'fiveHundred_upstream'] = annotation_trans.apply(getPromoterStart, axis=1)\n",
    "annotation_trans.loc[:, 'TSS'] = annotation_trans.apply(getTSS, axis=1)"
   ]
  },
  {
   "cell_type": "code",
   "execution_count": 105,
   "id": "b2e657ce-9615-4d6f-b76f-bad236d6d980",
   "metadata": {},
   "outputs": [
    {
     "data": {
      "text/html": [
       "<div>\n",
       "<style scoped>\n",
       "    .dataframe tbody tr th:only-of-type {\n",
       "        vertical-align: middle;\n",
       "    }\n",
       "\n",
       "    .dataframe tbody tr th {\n",
       "        vertical-align: top;\n",
       "    }\n",
       "\n",
       "    .dataframe thead th {\n",
       "        text-align: right;\n",
       "    }\n",
       "</style>\n",
       "<table border=\"1\" class=\"dataframe\">\n",
       "  <thead>\n",
       "    <tr style=\"text-align: right;\">\n",
       "      <th></th>\n",
       "      <th>seqname</th>\n",
       "      <th>source</th>\n",
       "      <th>feature</th>\n",
       "      <th>start</th>\n",
       "      <th>end</th>\n",
       "      <th>score</th>\n",
       "      <th>strand</th>\n",
       "      <th>frame</th>\n",
       "      <th>attribute</th>\n",
       "      <th>fiveHundred_upstream</th>\n",
       "      <th>TSS</th>\n",
       "    </tr>\n",
       "  </thead>\n",
       "  <tbody>\n",
       "    <tr>\n",
       "      <th>0</th>\n",
       "      <td>scf_11</td>\n",
       "      <td>MSU_v1</td>\n",
       "      <td>transcript</td>\n",
       "      <td>1931</td>\n",
       "      <td>4136</td>\n",
       "      <td>.</td>\n",
       "      <td>-</td>\n",
       "      <td>.</td>\n",
       "      <td>transcript_id \"N_sal.S058750.1\"; gene_id \"N_sa...</td>\n",
       "      <td>4636</td>\n",
       "      <td>4136</td>\n",
       "    </tr>\n",
       "    <tr>\n",
       "      <th>13</th>\n",
       "      <td>scf_11</td>\n",
       "      <td>MSU_v1</td>\n",
       "      <td>transcript</td>\n",
       "      <td>4320</td>\n",
       "      <td>5601</td>\n",
       "      <td>.</td>\n",
       "      <td>-</td>\n",
       "      <td>.</td>\n",
       "      <td>transcript_id \"N_sal.S058760.1\"; gene_id \"N_sa...</td>\n",
       "      <td>6101</td>\n",
       "      <td>5601</td>\n",
       "    </tr>\n",
       "    <tr>\n",
       "      <th>24</th>\n",
       "      <td>scf_11</td>\n",
       "      <td>MSU_v1</td>\n",
       "      <td>transcript</td>\n",
       "      <td>6381</td>\n",
       "      <td>7726</td>\n",
       "      <td>.</td>\n",
       "      <td>+</td>\n",
       "      <td>.</td>\n",
       "      <td>transcript_id \"N_sal.S058770.1\"; gene_id \"N_sa...</td>\n",
       "      <td>5881</td>\n",
       "      <td>6381</td>\n",
       "    </tr>\n",
       "    <tr>\n",
       "      <th>37</th>\n",
       "      <td>scf_11</td>\n",
       "      <td>MSU_v1</td>\n",
       "      <td>transcript</td>\n",
       "      <td>7788</td>\n",
       "      <td>8845</td>\n",
       "      <td>.</td>\n",
       "      <td>+</td>\n",
       "      <td>.</td>\n",
       "      <td>transcript_id \"N_sal.S058780.1\"; gene_id \"N_sa...</td>\n",
       "      <td>7288</td>\n",
       "      <td>7788</td>\n",
       "    </tr>\n",
       "    <tr>\n",
       "      <th>44</th>\n",
       "      <td>scf_11</td>\n",
       "      <td>MSU_v1</td>\n",
       "      <td>transcript</td>\n",
       "      <td>9693</td>\n",
       "      <td>10266</td>\n",
       "      <td>.</td>\n",
       "      <td>-</td>\n",
       "      <td>.</td>\n",
       "      <td>transcript_id \"N_sal.S058790.1\"; gene_id \"N_sa...</td>\n",
       "      <td>10766</td>\n",
       "      <td>10266</td>\n",
       "    </tr>\n",
       "  </tbody>\n",
       "</table>\n",
       "</div>"
      ],
      "text/plain": [
       "   seqname  source     feature  start    end score strand frame  \\\n",
       "0   scf_11  MSU_v1  transcript   1931   4136     .      -     .   \n",
       "13  scf_11  MSU_v1  transcript   4320   5601     .      -     .   \n",
       "24  scf_11  MSU_v1  transcript   6381   7726     .      +     .   \n",
       "37  scf_11  MSU_v1  transcript   7788   8845     .      +     .   \n",
       "44  scf_11  MSU_v1  transcript   9693  10266     .      -     .   \n",
       "\n",
       "                                            attribute  fiveHundred_upstream  \\\n",
       "0   transcript_id \"N_sal.S058750.1\"; gene_id \"N_sa...                  4636   \n",
       "13  transcript_id \"N_sal.S058760.1\"; gene_id \"N_sa...                  6101   \n",
       "24  transcript_id \"N_sal.S058770.1\"; gene_id \"N_sa...                  5881   \n",
       "37  transcript_id \"N_sal.S058780.1\"; gene_id \"N_sa...                  7288   \n",
       "44  transcript_id \"N_sal.S058790.1\"; gene_id \"N_sa...                 10766   \n",
       "\n",
       "      TSS  \n",
       "0    4136  \n",
       "13   5601  \n",
       "24   6381  \n",
       "37   7788  \n",
       "44  10266  "
      ]
     },
     "execution_count": 105,
     "metadata": {},
     "output_type": "execute_result"
    }
   ],
   "source": [
    "annotation_trans.head()"
   ]
  },
  {
   "cell_type": "markdown",
   "id": "d6487b85-8804-49e3-8a5e-66b439930f32",
   "metadata": {},
   "source": [
    "Now implement the check:"
   ]
  },
  {
   "cell_type": "code",
   "execution_count": 106,
   "id": "1becc787-c36a-4272-b078-8d50bde773bb",
   "metadata": {},
   "outputs": [],
   "source": [
    "# Make a dict to map gene names to the ordered ranges\n",
    "# Need to keep track of the chromosomes too\n",
    "promoter_ranges = defaultdict(dict)\n",
    "for i, row in annotation_trans.iterrows():\n",
    "    range_tup = (row.fiveHundred_upstream, row.TSS) if row.strand == '+' else (row.TSS, row.fiveHundred_upstream)\n",
    "    promoter_ranges[row.seqname][row.attribute.split('\"')[1]] = range_tup"
   ]
  },
  {
   "cell_type": "code",
   "execution_count": 111,
   "id": "02b447fc-43bf-45ca-880e-8d0519ba6bf4",
   "metadata": {},
   "outputs": [],
   "source": [
    "# We want to do all kinds of variants for both samples\n",
    "all_vcfs_filtered = {\n",
    "    '0M_R1': {\n",
    "        'snv': '/mnt/research/Walker_Lab_Research/Serena_project_data/evolved-nanno_data/data/nanno_sarek/strelka_output/variant_calling/strelka/0M_R1_vs_537_control_R2/0M_R1_vs_537_control_R2_FILTERED.strelka.somatic_snvs.vcf.gz',\n",
    "        'indel': '/mnt/research/Walker_Lab_Research/Serena_project_data/evolved-nanno_data/data/nanno_sarek/strelka_output/variant_calling/strelka/0M_R1_vs_537_control_R2/0M_R1_vs_537_control_R2_FILTERED.strelka.somatic_indels.vcf.gz'\n",
    "    },\n",
    "    '0_1M_R2': {\n",
    "        'snv': '/mnt/research/Walker_Lab_Research/Serena_project_data/evolved-nanno_data/data/nanno_sarek/strelka_output/variant_calling/strelka/0_1M_R2_vs_537_control_R2/0_1M_R2_vs_537_control_R2_FILTERED.strelka.somatic_snvs.vcf.gz',\n",
    "        'indel': '/mnt/research/Walker_Lab_Research/Serena_project_data/evolved-nanno_data/data/nanno_sarek/strelka_output/variant_calling/strelka/0_1M_R2_vs_537_control_R2/0_1M_R2_vs_537_control_R2_FILTERED.strelka.somatic_indels.vcf.gz'\n",
    "    }\n",
    "    \n",
    "}"
   ]
  },
  {
   "cell_type": "code",
   "execution_count": 112,
   "id": "49c88bde-0bed-4866-b587-21e175d42104",
   "metadata": {},
   "outputs": [
    {
     "name": "stderr",
     "output_type": "stream",
     "text": [
      "[E::idx_find_and_load] Could not retrieve index file for '/mnt/research/Walker_Lab_Research/Serena_project_data/evolved-nanno_data/data/nanno_sarek/strelka_output/variant_calling/strelka/0M_R1_vs_537_control_R2/0M_R1_vs_537_control_R2_FILTERED.strelka.somatic_snvs.vcf.gz'\n",
      "51it [00:00, 12553.37it/s]\n",
      "[E::idx_find_and_load] Could not retrieve index file for '/mnt/research/Walker_Lab_Research/Serena_project_data/evolved-nanno_data/data/nanno_sarek/strelka_output/variant_calling/strelka/0M_R1_vs_537_control_R2/0M_R1_vs_537_control_R2_FILTERED.strelka.somatic_indels.vcf.gz'\n",
      "14it [00:00, 12743.11it/s]\n",
      "[E::idx_find_and_load] Could not retrieve index file for '/mnt/research/Walker_Lab_Research/Serena_project_data/evolved-nanno_data/data/nanno_sarek/strelka_output/variant_calling/strelka/0_1M_R2_vs_537_control_R2/0_1M_R2_vs_537_control_R2_FILTERED.strelka.somatic_snvs.vcf.gz'\n",
      "556it [00:00, 13164.69it/s]\n",
      "[E::idx_find_and_load] Could not retrieve index file for '/mnt/research/Walker_Lab_Research/Serena_project_data/evolved-nanno_data/data/nanno_sarek/strelka_output/variant_calling/strelka/0_1M_R2_vs_537_control_R2/0_1M_R2_vs_537_control_R2_FILTERED.strelka.somatic_indels.vcf.gz'\n",
      "9it [00:00, 12409.18it/s]\n"
     ]
    }
   ],
   "source": [
    "# Apparently there's no way to do the core task with less than 2 nested loops (I even asked AI),\n",
    "# and then because I want to go over samples and variant types, it's quadruply nested...\n",
    "# I am suitably ashamed of this implementation, don't worry lol\n",
    "in_promoter_for_swarm = []\n",
    "for sample, files in all_vcfs_filtered.items():\n",
    "    for var_type, file in files.items():\n",
    "        vcf = VariantFile(file)\n",
    "        for variant in tqdm(vcf.fetch()):\n",
    "            variant_id = f'{variant.chrom}_{variant.pos}_{variant.ref}_{variant.alts[0]}'\n",
    "            for gene, prom_rng in promoter_ranges[variant.chrom].items():\n",
    "                if (prom_rng[0] <= variant.pos <= prom_rng[1]):\n",
    "                    for_swarm_format = (sample, var_type, variant_id, gene, True)\n",
    "                    in_promoter_for_swarm.append(for_swarm_format)"
   ]
  },
  {
   "cell_type": "markdown",
   "id": "174c6879-2e77-461a-94c2-c574fdac3001",
   "metadata": {},
   "source": [
    "Now combine this data with the allele frequencies so we can recreate the swarmplots with whether or not the mutations are in promoter sequences:"
   ]
  },
  {
   "cell_type": "code",
   "execution_count": 157,
   "id": "efbcfefd-bd55-4636-9d80-6d5f8720ce61",
   "metadata": {},
   "outputs": [
    {
     "data": {
      "text/html": [
       "<div>\n",
       "<style scoped>\n",
       "    .dataframe tbody tr th:only-of-type {\n",
       "        vertical-align: middle;\n",
       "    }\n",
       "\n",
       "    .dataframe tbody tr th {\n",
       "        vertical-align: top;\n",
       "    }\n",
       "\n",
       "    .dataframe thead th {\n",
       "        text-align: right;\n",
       "    }\n",
       "</style>\n",
       "<table border=\"1\" class=\"dataframe\">\n",
       "  <thead>\n",
       "    <tr style=\"text-align: right;\">\n",
       "      <th></th>\n",
       "      <th>sample</th>\n",
       "      <th>variant_type</th>\n",
       "      <th>variant_id</th>\n",
       "      <th>promoter_gene</th>\n",
       "      <th>in_promoter</th>\n",
       "    </tr>\n",
       "  </thead>\n",
       "  <tbody>\n",
       "    <tr>\n",
       "      <th>0</th>\n",
       "      <td>0M_R1</td>\n",
       "      <td>snv</td>\n",
       "      <td>scf_3_360860_A_C</td>\n",
       "      <td>N_sal.S044370.3</td>\n",
       "      <td>True</td>\n",
       "    </tr>\n",
       "    <tr>\n",
       "      <th>1</th>\n",
       "      <td>0M_R1</td>\n",
       "      <td>snv</td>\n",
       "      <td>scf_4_640532_G_A</td>\n",
       "      <td>N_sal.S012480.1</td>\n",
       "      <td>True</td>\n",
       "    </tr>\n",
       "    <tr>\n",
       "      <th>2</th>\n",
       "      <td>0M_R1</td>\n",
       "      <td>snv</td>\n",
       "      <td>scf_15_342080_A_G</td>\n",
       "      <td>N_sal.S075990.1</td>\n",
       "      <td>True</td>\n",
       "    </tr>\n",
       "    <tr>\n",
       "      <th>3</th>\n",
       "      <td>0M_R1</td>\n",
       "      <td>snv</td>\n",
       "      <td>scf_20_208250_T_A</td>\n",
       "      <td>N_sal.S050860.2</td>\n",
       "      <td>True</td>\n",
       "    </tr>\n",
       "    <tr>\n",
       "      <th>4</th>\n",
       "      <td>0M_R1</td>\n",
       "      <td>snv</td>\n",
       "      <td>scf_20_208250_T_A</td>\n",
       "      <td>N_sal.S050860.1</td>\n",
       "      <td>True</td>\n",
       "    </tr>\n",
       "  </tbody>\n",
       "</table>\n",
       "</div>"
      ],
      "text/plain": [
       "  sample variant_type         variant_id    promoter_gene  in_promoter\n",
       "0  0M_R1          snv   scf_3_360860_A_C  N_sal.S044370.3         True\n",
       "1  0M_R1          snv   scf_4_640532_G_A  N_sal.S012480.1         True\n",
       "2  0M_R1          snv  scf_15_342080_A_G  N_sal.S075990.1         True\n",
       "3  0M_R1          snv  scf_20_208250_T_A  N_sal.S050860.2         True\n",
       "4  0M_R1          snv  scf_20_208250_T_A  N_sal.S050860.1         True"
      ]
     },
     "execution_count": 157,
     "metadata": {},
     "output_type": "execute_result"
    }
   ],
   "source": [
    "in_promoter_for_swarm_df =  pd.DataFrame(in_promoter_for_swarm, columns=['sample', 'variant_type', 'variant_id', 'promoter_gene', 'in_promoter'])\n",
    "in_promoter_for_swarm_df.head()"
   ]
  },
  {
   "cell_type": "code",
   "execution_count": 158,
   "id": "e4bf4b93-f400-4b16-a3ac-9945b9da3ed6",
   "metadata": {},
   "outputs": [
    {
     "data": {
      "text/html": [
       "<div>\n",
       "<style scoped>\n",
       "    .dataframe tbody tr th:only-of-type {\n",
       "        vertical-align: middle;\n",
       "    }\n",
       "\n",
       "    .dataframe tbody tr th {\n",
       "        vertical-align: top;\n",
       "    }\n",
       "\n",
       "    .dataframe thead th {\n",
       "        text-align: right;\n",
       "    }\n",
       "</style>\n",
       "<table border=\"1\" class=\"dataframe\">\n",
       "  <thead>\n",
       "    <tr style=\"text-align: right;\">\n",
       "      <th></th>\n",
       "      <th>sample</th>\n",
       "      <th>variant_id</th>\n",
       "      <th>alt_frequency</th>\n",
       "      <th>is_genic</th>\n",
       "      <th>snv_gene</th>\n",
       "      <th>variant_type</th>\n",
       "    </tr>\n",
       "  </thead>\n",
       "  <tbody>\n",
       "    <tr>\n",
       "      <th>0</th>\n",
       "      <td>0M_R1</td>\n",
       "      <td>scf_1_167764_T_G</td>\n",
       "      <td>0.048387</td>\n",
       "      <td>True</td>\n",
       "      <td>N_sal.S000450.1</td>\n",
       "      <td>snv</td>\n",
       "    </tr>\n",
       "    <tr>\n",
       "      <th>1</th>\n",
       "      <td>0M_R1</td>\n",
       "      <td>scf_1_860759_C_A</td>\n",
       "      <td>0.226087</td>\n",
       "      <td>False</td>\n",
       "      <td>NaN</td>\n",
       "      <td>snv</td>\n",
       "    </tr>\n",
       "    <tr>\n",
       "      <th>2</th>\n",
       "      <td>0M_R1</td>\n",
       "      <td>scf_1_947966_G_C</td>\n",
       "      <td>0.093960</td>\n",
       "      <td>True</td>\n",
       "      <td>N_sal.S003280.1</td>\n",
       "      <td>snv</td>\n",
       "    </tr>\n",
       "    <tr>\n",
       "      <th>3</th>\n",
       "      <td>0M_R1</td>\n",
       "      <td>scf_2_295083_A_C</td>\n",
       "      <td>0.111111</td>\n",
       "      <td>True</td>\n",
       "      <td>N_sal.S015940.1</td>\n",
       "      <td>snv</td>\n",
       "    </tr>\n",
       "    <tr>\n",
       "      <th>4</th>\n",
       "      <td>0M_R1</td>\n",
       "      <td>scf_2_371413_C_G</td>\n",
       "      <td>0.039801</td>\n",
       "      <td>True</td>\n",
       "      <td>N_sal.S016180.1</td>\n",
       "      <td>snv</td>\n",
       "    </tr>\n",
       "  </tbody>\n",
       "</table>\n",
       "</div>"
      ],
      "text/plain": [
       "  sample        variant_id  alt_frequency  is_genic         snv_gene  \\\n",
       "0  0M_R1  scf_1_167764_T_G       0.048387      True  N_sal.S000450.1   \n",
       "1  0M_R1  scf_1_860759_C_A       0.226087     False              NaN   \n",
       "2  0M_R1  scf_1_947966_G_C       0.093960      True  N_sal.S003280.1   \n",
       "3  0M_R1  scf_2_295083_A_C       0.111111      True  N_sal.S015940.1   \n",
       "4  0M_R1  scf_2_371413_C_G       0.039801      True  N_sal.S016180.1   \n",
       "\n",
       "  variant_type  \n",
       "0          snv  \n",
       "1          snv  \n",
       "2          snv  \n",
       "3          snv  \n",
       "4          snv  "
      ]
     },
     "execution_count": 158,
     "metadata": {},
     "output_type": "execute_result"
    }
   ],
   "source": [
    "# Concat the snv and indel datavrames from before\n",
    "for_swarm_df['variant_type'] = 'snv'\n",
    "for_swarm_df = for_swarm_df.rename(columns={'snv_id': 'variant_id'})\n",
    "indel_for_swarm_df['variant_type'] = 'indel'\n",
    "indel_for_swarm_df = indel_for_swarm_df.rename(columns={'indel_id': 'variant_id'})\n",
    "all_variants_for_swarm = pd.concat([for_swarm_df, indel_for_swarm_df])\n",
    "all_variants_for_swarm.head()"
   ]
  },
  {
   "cell_type": "code",
   "execution_count": 159,
   "id": "9a22baea-d9cc-4251-adbd-f3f89e57ea11",
   "metadata": {},
   "outputs": [
    {
     "name": "stderr",
     "output_type": "stream",
     "text": [
      "/tmp/ipykernel_242924/318733956.py:3: FutureWarning: Downcasting object dtype arrays on .fillna, .ffill, .bfill is deprecated and will change in a future version. Call result.infer_objects(copy=False) instead. To opt-in to the future behavior, set `pd.set_option('future.no_silent_downcasting', True)`\n",
      "  all_variants_for_swarm_in_promoter['in_promoter'] = all_variants_for_swarm_in_promoter['in_promoter'].fillna(False)\n"
     ]
    },
    {
     "data": {
      "text/html": [
       "<div>\n",
       "<style scoped>\n",
       "    .dataframe tbody tr th:only-of-type {\n",
       "        vertical-align: middle;\n",
       "    }\n",
       "\n",
       "    .dataframe tbody tr th {\n",
       "        vertical-align: top;\n",
       "    }\n",
       "\n",
       "    .dataframe thead th {\n",
       "        text-align: right;\n",
       "    }\n",
       "</style>\n",
       "<table border=\"1\" class=\"dataframe\">\n",
       "  <thead>\n",
       "    <tr style=\"text-align: right;\">\n",
       "      <th></th>\n",
       "      <th>sample</th>\n",
       "      <th>variant_id</th>\n",
       "      <th>alt_frequency</th>\n",
       "      <th>is_genic</th>\n",
       "      <th>snv_gene</th>\n",
       "      <th>variant_type</th>\n",
       "      <th>promoter_gene</th>\n",
       "      <th>in_promoter</th>\n",
       "    </tr>\n",
       "  </thead>\n",
       "  <tbody>\n",
       "    <tr>\n",
       "      <th>0</th>\n",
       "      <td>0M_R1</td>\n",
       "      <td>scf_1_167764_T_G</td>\n",
       "      <td>0.048387</td>\n",
       "      <td>True</td>\n",
       "      <td>N_sal.S000450.1</td>\n",
       "      <td>snv</td>\n",
       "      <td>NaN</td>\n",
       "      <td>False</td>\n",
       "    </tr>\n",
       "    <tr>\n",
       "      <th>1</th>\n",
       "      <td>0M_R1</td>\n",
       "      <td>scf_1_860759_C_A</td>\n",
       "      <td>0.226087</td>\n",
       "      <td>False</td>\n",
       "      <td>NaN</td>\n",
       "      <td>snv</td>\n",
       "      <td>NaN</td>\n",
       "      <td>False</td>\n",
       "    </tr>\n",
       "    <tr>\n",
       "      <th>2</th>\n",
       "      <td>0M_R1</td>\n",
       "      <td>scf_1_947966_G_C</td>\n",
       "      <td>0.093960</td>\n",
       "      <td>True</td>\n",
       "      <td>N_sal.S003280.1</td>\n",
       "      <td>snv</td>\n",
       "      <td>NaN</td>\n",
       "      <td>False</td>\n",
       "    </tr>\n",
       "    <tr>\n",
       "      <th>3</th>\n",
       "      <td>0M_R1</td>\n",
       "      <td>scf_2_295083_A_C</td>\n",
       "      <td>0.111111</td>\n",
       "      <td>True</td>\n",
       "      <td>N_sal.S015940.1</td>\n",
       "      <td>snv</td>\n",
       "      <td>NaN</td>\n",
       "      <td>False</td>\n",
       "    </tr>\n",
       "    <tr>\n",
       "      <th>4</th>\n",
       "      <td>0M_R1</td>\n",
       "      <td>scf_2_371413_C_G</td>\n",
       "      <td>0.039801</td>\n",
       "      <td>True</td>\n",
       "      <td>N_sal.S016180.1</td>\n",
       "      <td>snv</td>\n",
       "      <td>NaN</td>\n",
       "      <td>False</td>\n",
       "    </tr>\n",
       "  </tbody>\n",
       "</table>\n",
       "</div>"
      ],
      "text/plain": [
       "  sample        variant_id  alt_frequency  is_genic         snv_gene  \\\n",
       "0  0M_R1  scf_1_167764_T_G       0.048387      True  N_sal.S000450.1   \n",
       "1  0M_R1  scf_1_860759_C_A       0.226087     False              NaN   \n",
       "2  0M_R1  scf_1_947966_G_C       0.093960      True  N_sal.S003280.1   \n",
       "3  0M_R1  scf_2_295083_A_C       0.111111      True  N_sal.S015940.1   \n",
       "4  0M_R1  scf_2_371413_C_G       0.039801      True  N_sal.S016180.1   \n",
       "\n",
       "  variant_type promoter_gene  in_promoter  \n",
       "0          snv           NaN        False  \n",
       "1          snv           NaN        False  \n",
       "2          snv           NaN        False  \n",
       "3          snv           NaN        False  \n",
       "4          snv           NaN        False  "
      ]
     },
     "execution_count": 159,
     "metadata": {},
     "output_type": "execute_result"
    }
   ],
   "source": [
    "# Now merge with the promoter information -- fill NaN in the in_promoter column with false\n",
    "all_variants_for_swarm_in_promoter = all_variants_for_swarm.merge(in_promoter_for_swarm_df.drop_duplicates(subset=[c for c in in_promoter_for_swarm_df.columns if c not in ['snv_gene', 'promoter_gene']]), how='left', on=['sample', 'variant_id', 'variant_type'])\n",
    "all_variants_for_swarm_in_promoter['in_promoter'] = all_variants_for_swarm_in_promoter['in_promoter'].fillna(False)\n",
    "all_variants_for_swarm_in_promoter.head()"
   ]
  },
  {
   "cell_type": "markdown",
   "id": "bbcd89c1-d7a4-4204-a4ee-ea092429c813",
   "metadata": {},
   "source": [
    "Now make the swarmplot for SNVs:"
   ]
  },
  {
   "cell_type": "code",
   "execution_count": 160,
   "id": "98cd1c0a-f466-4890-be71-a7fac05ea45d",
   "metadata": {},
   "outputs": [
    {
     "data": {
      "text/plain": [
       "<Axes: xlabel='sample', ylabel='alt_frequency'>"
      ]
     },
     "execution_count": 160,
     "metadata": {},
     "output_type": "execute_result"
    },
    {
     "data": {
      "image/png": "[encoded data removed]",
      "text/plain": [
       "<Figure size 640x480 with 1 Axes>"
      ]
     },
     "metadata": {},
     "output_type": "display_data"
    }
   ],
   "source": [
    "sns.swarmplot(data=all_variants_for_swarm_in_promoter[all_variants_for_swarm_in_promoter['variant_type']=='snv'], x='sample', y='alt_frequency', hue='in_promoter', size=3)"
   ]
  },
  {
   "cell_type": "markdown",
   "id": "b9ebc3d7-8ba0-4f3b-859a-c9e45f642ec0",
   "metadata": {},
   "source": [
    "And the indels:"
   ]
  },
  {
   "cell_type": "code",
   "execution_count": 161,
   "id": "38ae4b5c-d0c7-4f9f-99a4-d5eaa10ff8b2",
   "metadata": {},
   "outputs": [
    {
     "data": {
      "text/plain": [
       "<Axes: xlabel='sample', ylabel='alt_frequency'>"
      ]
     },
     "execution_count": 161,
     "metadata": {},
     "output_type": "execute_result"
    },
    {
     "data": {
      "image/png": "[encoded data removed]",
      "text/plain": [
       "<Figure size 640x480 with 1 Axes>"
      ]
     },
     "metadata": {},
     "output_type": "display_data"
    }
   ],
   "source": [
    "sns.swarmplot(data=all_variants_for_swarm_in_promoter[all_variants_for_swarm_in_promoter['variant_type']=='indel'], x='sample', y='alt_frequency', hue='in_promoter', size=10)"
   ]
  },
  {
   "cell_type": "markdown",
   "id": "1cb8eb86-6c13-49bb-adb7-656808f22590",
   "metadata": {},
   "source": [
    "Like for the variants in genes, we're not seeing a relationship between alternate allele frequency and whether or not the variant is in a promoter."
   ]
  },
  {
   "cell_type": "markdown",
   "id": "e0fa1392-47c4-4a98-97e9-d22873732b03",
   "metadata": {},
   "source": [
    "Let's save out the variants that are in the promoters as a separate dataframe, as none of them overlap with the genes we've already identified."
   ]
  },
  {
   "cell_type": "code",
   "execution_count": 190,
   "id": "aea8bcf6-0180-4593-b31d-a85cfb1e8d4b",
   "metadata": {},
   "outputs": [
    {
     "data": {
      "text/html": [
       "<div>\n",
       "<style scoped>\n",
       "    .dataframe tbody tr th:only-of-type {\n",
       "        vertical-align: middle;\n",
       "    }\n",
       "\n",
       "    .dataframe tbody tr th {\n",
       "        vertical-align: top;\n",
       "    }\n",
       "\n",
       "    .dataframe thead th {\n",
       "        text-align: right;\n",
       "    }\n",
       "</style>\n",
       "<table border=\"1\" class=\"dataframe\">\n",
       "  <thead>\n",
       "    <tr style=\"text-align: right;\">\n",
       "      <th></th>\n",
       "      <th>variant_type</th>\n",
       "      <th>variant_id</th>\n",
       "      <th>gene_id</th>\n",
       "      <th>in_promoter_0M_R1</th>\n",
       "      <th>in_promoter_0_1M_R2</th>\n",
       "    </tr>\n",
       "  </thead>\n",
       "  <tbody>\n",
       "    <tr>\n",
       "      <th>0</th>\n",
       "      <td>snv</td>\n",
       "      <td>scf_3_360860_A_C</td>\n",
       "      <td>N_sal.S044370.3</td>\n",
       "      <td>True</td>\n",
       "      <td>False</td>\n",
       "    </tr>\n",
       "    <tr>\n",
       "      <th>1</th>\n",
       "      <td>snv</td>\n",
       "      <td>scf_4_640532_G_A</td>\n",
       "      <td>N_sal.S012480.1</td>\n",
       "      <td>True</td>\n",
       "      <td>False</td>\n",
       "    </tr>\n",
       "    <tr>\n",
       "      <th>2</th>\n",
       "      <td>snv</td>\n",
       "      <td>scf_15_342080_A_G</td>\n",
       "      <td>N_sal.S075990.1</td>\n",
       "      <td>True</td>\n",
       "      <td>False</td>\n",
       "    </tr>\n",
       "    <tr>\n",
       "      <th>3</th>\n",
       "      <td>snv</td>\n",
       "      <td>scf_20_208250_T_A</td>\n",
       "      <td>N_sal.S050860.2</td>\n",
       "      <td>True</td>\n",
       "      <td>False</td>\n",
       "    </tr>\n",
       "    <tr>\n",
       "      <th>4</th>\n",
       "      <td>snv</td>\n",
       "      <td>scf_20_208250_T_A</td>\n",
       "      <td>N_sal.S050860.1</td>\n",
       "      <td>True</td>\n",
       "      <td>False</td>\n",
       "    </tr>\n",
       "  </tbody>\n",
       "</table>\n",
       "</div>"
      ],
      "text/plain": [
       "  variant_type         variant_id          gene_id  in_promoter_0M_R1  \\\n",
       "0          snv   scf_3_360860_A_C  N_sal.S044370.3               True   \n",
       "1          snv   scf_4_640532_G_A  N_sal.S012480.1               True   \n",
       "2          snv  scf_15_342080_A_G  N_sal.S075990.1               True   \n",
       "3          snv  scf_20_208250_T_A  N_sal.S050860.2               True   \n",
       "4          snv  scf_20_208250_T_A  N_sal.S050860.1               True   \n",
       "\n",
       "   in_promoter_0_1M_R2  \n",
       "0                False  \n",
       "1                False  \n",
       "2                False  \n",
       "3                False  \n",
       "4                False  "
      ]
     },
     "execution_count": 190,
     "metadata": {},
     "output_type": "execute_result"
    }
   ],
   "source": [
    "promoter_to_save = in_promoter_for_swarm_df.copy()\n",
    "promoter_to_save['in_promoter_0M_R1'] = promoter_to_save['sample'].map({'0M_R1': True, '0_1M_R2': False})\n",
    "promoter_to_save['in_promoter_0_1M_R2'] = promoter_to_save['sample'].map({'0M_R1': False, '0_1M_R2': True})\n",
    "promoter_to_save = promoter_to_save.drop(columns=['sample', 'in_promoter']).rename(columns={'promoter_gene': 'gene_id'})\n",
    "promoter_to_save.head()"
   ]
  },
  {
   "cell_type": "code",
   "execution_count": 194,
   "id": "ad192721-cfd8-485c-b15e-f62a69062917",
   "metadata": {},
   "outputs": [],
   "source": [
    "promoter_to_save.to_csv('../data/variants_in_promoters_30Jul2025.csv', index=False)"
   ]
  },
  {
   "cell_type": "markdown",
   "id": "25bb2b77-e232-41af-af30-6473f666933e",
   "metadata": {},
   "source": [
    "We also want to get the top 4 genes from each swarm, regardless of if they're found in a gene or promoter or not. We'll save this as a separate dataframe because most of them aren't related to a gene."
   ]
  },
  {
   "cell_type": "code",
   "execution_count": 163,
   "id": "50d9b69f-439a-44e5-8e40-e1c7f9eb7540",
   "metadata": {},
   "outputs": [
    {
     "data": {
      "text/html": [
       "<div>\n",
       "<style scoped>\n",
       "    .dataframe tbody tr th:only-of-type {\n",
       "        vertical-align: middle;\n",
       "    }\n",
       "\n",
       "    .dataframe tbody tr th {\n",
       "        vertical-align: top;\n",
       "    }\n",
       "\n",
       "    .dataframe thead th {\n",
       "        text-align: right;\n",
       "    }\n",
       "</style>\n",
       "<table border=\"1\" class=\"dataframe\">\n",
       "  <thead>\n",
       "    <tr style=\"text-align: right;\">\n",
       "      <th></th>\n",
       "      <th>sample</th>\n",
       "      <th>variant_id</th>\n",
       "      <th>alt_frequency</th>\n",
       "      <th>is_genic</th>\n",
       "      <th>snv_gene</th>\n",
       "      <th>variant_type</th>\n",
       "      <th>promoter_gene</th>\n",
       "      <th>in_promoter</th>\n",
       "    </tr>\n",
       "  </thead>\n",
       "  <tbody>\n",
       "    <tr>\n",
       "      <th>35</th>\n",
       "      <td>0M_R1</td>\n",
       "      <td>scf_21_197250_A_C</td>\n",
       "      <td>0.306122</td>\n",
       "      <td>True</td>\n",
       "      <td>N_sal.S084590.1</td>\n",
       "      <td>snv</td>\n",
       "      <td>NaN</td>\n",
       "      <td>False</td>\n",
       "    </tr>\n",
       "    <tr>\n",
       "      <th>42</th>\n",
       "      <td>0M_R1</td>\n",
       "      <td>scf_26_469894_G_C</td>\n",
       "      <td>0.297561</td>\n",
       "      <td>True</td>\n",
       "      <td>N_sal.S025870.1</td>\n",
       "      <td>snv</td>\n",
       "      <td>NaN</td>\n",
       "      <td>False</td>\n",
       "    </tr>\n",
       "    <tr>\n",
       "      <th>50</th>\n",
       "      <td>0M_R1</td>\n",
       "      <td>scf_36_745067_G_T</td>\n",
       "      <td>0.294416</td>\n",
       "      <td>False</td>\n",
       "      <td>NaN</td>\n",
       "      <td>snv</td>\n",
       "      <td>N_sal.S064170.1</td>\n",
       "      <td>True</td>\n",
       "    </tr>\n",
       "    <tr>\n",
       "      <th>44</th>\n",
       "      <td>0M_R1</td>\n",
       "      <td>scf_29_164143_A_T</td>\n",
       "      <td>0.240506</td>\n",
       "      <td>False</td>\n",
       "      <td>NaN</td>\n",
       "      <td>snv</td>\n",
       "      <td>NaN</td>\n",
       "      <td>False</td>\n",
       "    </tr>\n",
       "    <tr>\n",
       "      <th>268</th>\n",
       "      <td>0_1M_R2</td>\n",
       "      <td>scf_10_283569_G_A</td>\n",
       "      <td>0.459459</td>\n",
       "      <td>False</td>\n",
       "      <td>NaN</td>\n",
       "      <td>snv</td>\n",
       "      <td>NaN</td>\n",
       "      <td>False</td>\n",
       "    </tr>\n",
       "  </tbody>\n",
       "</table>\n",
       "</div>"
      ],
      "text/plain": [
       "      sample         variant_id  alt_frequency  is_genic         snv_gene  \\\n",
       "35     0M_R1  scf_21_197250_A_C       0.306122      True  N_sal.S084590.1   \n",
       "42     0M_R1  scf_26_469894_G_C       0.297561      True  N_sal.S025870.1   \n",
       "50     0M_R1  scf_36_745067_G_T       0.294416     False              NaN   \n",
       "44     0M_R1  scf_29_164143_A_T       0.240506     False              NaN   \n",
       "268  0_1M_R2  scf_10_283569_G_A       0.459459     False              NaN   \n",
       "\n",
       "    variant_type    promoter_gene  in_promoter  \n",
       "35           snv              NaN        False  \n",
       "42           snv              NaN        False  \n",
       "50           snv  N_sal.S064170.1         True  \n",
       "44           snv              NaN        False  \n",
       "268          snv              NaN        False  "
      ]
     },
     "execution_count": 163,
     "metadata": {},
     "output_type": "execute_result"
    }
   ],
   "source": [
    "all_tops = []\n",
    "for var_type in ['snv', 'indel']:\n",
    "    for sample in ['0M_R1', '0_1M_R2']:\n",
    "        top4 = all_variants_for_swarm_in_promoter[(all_variants_for_swarm_in_promoter['variant_type'] == var_type) & (all_variants_for_swarm_in_promoter['sample'] == sample)].nlargest(4, 'alt_frequency')\n",
    "        all_tops.append(top4)\n",
    "all_tops_df = pd.concat(all_tops)\n",
    "all_tops_df.head()"
   ]
  },
  {
   "cell_type": "code",
   "execution_count": 192,
   "id": "0ea7f2ec-8116-42c4-ab2d-f45f7a726785",
   "metadata": {},
   "outputs": [],
   "source": [
    "all_tops_df.to_csv('/mnt/research/Walker_Lab_Research/Serena_project_data/evolved-nanno_data/data/candidate_genes/top4_all_groups_by_frequency_30Jul2025.csv', index=False)"
   ]
  }
 ],
 "metadata": {
  "kernelspec": {
   "display_name": "omics",
   "language": "python",
   "name": "omics"
  },
  "language_info": {
   "codemirror_mode": {
    "name": "ipython",
    "version": 3
   },
   "file_extension": ".py",
   "mimetype": "text/x-python",
   "name": "python",
   "nbconvert_exporter": "python",
   "pygments_lexer": "ipython3",
   "version": "3.10.14"
  }
 },
 "nbformat": 4,
 "nbformat_minor": 5
}
